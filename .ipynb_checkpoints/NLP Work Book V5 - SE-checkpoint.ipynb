{
 "cells": [
  {
   "cell_type": "markdown",
   "metadata": {
    "index": 0
   },
   "source": [
    " "
   ]
  },
  {
   "cell_type": "markdown",
   "metadata": {},
   "source": [
    "# Phase 4 NLP ML Project"
   ]
  },
  {
   "cell_type": "markdown",
   "metadata": {},
   "source": [
    "![Image Description](Image/Twitter1.png)"
   ]
  },
  {
   "cell_type": "markdown",
   "metadata": {},
   "source": [
    "# Tensor Flow Details"
   ]
  },
  {
   "cell_type": "code",
   "execution_count": 2,
   "metadata": {},
   "outputs": [
    {
     "name": "stdout",
     "output_type": "stream",
     "text": [
      "\n",
      "Note: you may need to restart the kernel to use updated packages.\n"
     ]
    }
   ],
   "source": [
    "conda activate TFgpu"
   ]
  },
  {
   "cell_type": "code",
   "execution_count": 3,
   "metadata": {},
   "outputs": [
    {
     "name": "stdout",
     "output_type": "stream",
     "text": [
      "2.10.0\n"
     ]
    }
   ],
   "source": [
    "import tensorflow as tf\n",
    "print(tf.__version__)"
   ]
  },
  {
   "cell_type": "code",
   "execution_count": 4,
   "metadata": {
    "scrolled": true
   },
   "outputs": [],
   "source": [
    "# pip cache purge"
   ]
  },
  {
   "cell_type": "code",
   "execution_count": 5,
   "metadata": {},
   "outputs": [
    {
     "name": "stdout",
     "output_type": "stream",
     "text": [
      "TensorFlow version: 2.10.0\n",
      "Result: 7.0\n"
     ]
    }
   ],
   "source": [
    "import tensorflow as tf\n",
    "\n",
    "# Check TensorFlow version\n",
    "print(\"TensorFlow version:\", tf.__version__)\n",
    "\n",
    "# Create a simple TensorFlow computation graph\n",
    "a = tf.constant(3.0)\n",
    "b = tf.constant(4.0)\n",
    "c = tf.add(a, b)\n",
    "\n",
    "# Execute the computation graph\n",
    "result = c.numpy()\n",
    "\n",
    "# Print the result\n",
    "print(\"Result:\", result)"
   ]
  },
  {
   "cell_type": "markdown",
   "metadata": {},
   "source": [
    "# Load Python Packages & DF"
   ]
  },
  {
   "cell_type": "code",
   "execution_count": 6,
   "metadata": {
    "scrolled": true
   },
   "outputs": [],
   "source": [
    "# # Basic Imports\n",
    "# import pandas as pd\n",
    "# import numpy as np\n",
    "# import nltk\n",
    "# import matplotlib.pyplot as plt\n",
    "# from sklearn.preprocessing import StandardScaler\n",
    "# from sklearn.linear_model import LogisticRegression\n",
    "# from sklearn.ensemble import RandomForestClassifier\n",
    "# from sklearn.model_selection import train_test_split, GridSearchCV\n",
    "# from sklearn.pipeline import Pipeline\n",
    "# from nltk.sentiment import SentimentIntensityAnalyzer\n",
    "# from nltk.probability import FreqDist\n",
    "# from nltk.corpus import stopwords\n",
    "# from nltk.tokenize import regexp_tokenize, word_tokenize, RegexpTokenizer, sent_tokenize, word_tokenize\n",
    "# import matplotlib.pyplot as plt\n",
    "# import string\n",
    "# import re\n",
    "# from nltk.stem import WordNetLemmatizer\n",
    "# from sklearn.feature_extraction.text import CountVectorizer\n",
    "# from sklearn.pipeline import Pipeline\n",
    "# from collections import Counter\n",
    "# from nltk.sentiment import SentimentIntensityAnalyzer\n",
    "# from wordcloud import WordCloud\n",
    "# from afinn import Afinn\n",
    "# from nltk.corpus import sentiwordnet as swn\n",
    "# from sklearn.metrics import accuracy_score, classification_report, confusion_matrix"
   ]
  },
  {
   "cell_type": "code",
   "execution_count": 48,
   "metadata": {},
   "outputs": [],
   "source": [
    "import pandas as pd\n",
    "import numpy as np\n",
    "import nltk\n",
    "import matplotlib.pyplot as plt\n",
    "from sklearn.preprocessing import StandardScaler\n",
    "from sklearn.linear_model import LogisticRegression\n",
    "from sklearn.ensemble import RandomForestClassifier\n",
    "from sklearn.model_selection import train_test_split, GridSearchCV\n",
    "from sklearn.pipeline import Pipeline\n",
    "from nltk.sentiment import SentimentIntensityAnalyzer\n",
    "from nltk.probability import FreqDist\n",
    "from nltk.corpus import stopwords\n",
    "from nltk.tokenize import regexp_tokenize, word_tokenize, RegexpTokenizer, sent_tokenize\n",
    "import string\n",
    "import re\n",
    "from nltk.stem import WordNetLemmatizer\n",
    "from sklearn.feature_extraction.text import CountVectorizer\n",
    "from collections import Counter\n",
    "from wordcloud import WordCloud\n",
    "from afinn import Afinn\n",
    "from nltk.corpus import sentiwordnet as swn\n",
    "from sklearn.metrics import accuracy_score, classification_report, confusion_matrix"
   ]
  },
  {
   "cell_type": "code",
   "execution_count": 49,
   "metadata": {},
   "outputs": [],
   "source": [
    "# Read the dataset\n",
    "df = pd.read_csv('judge-1377884607_tweet_product_company.csv', encoding='latin1')"
   ]
  },
  {
   "cell_type": "code",
   "execution_count": 50,
   "metadata": {},
   "outputs": [],
   "source": [
    "# Remove tweets with unknown sentiment\n",
    "df = df[df['is_there_an_emotion_directed_at_a_brand_or_product'] != \"I can't tell\"]"
   ]
  },
  {
   "cell_type": "markdown",
   "metadata": {},
   "source": [
    "# Clean Data"
   ]
  },
  {
   "cell_type": "markdown",
   "metadata": {},
   "source": [
    "- Find better ways to analyze the cleaning "
   ]
  },
  {
   "cell_type": "code",
   "execution_count": 51,
   "metadata": {},
   "outputs": [],
   "source": [
    "# Clean and preprocess the text\n",
    "def clean_text(text):\n",
    "    if pd.isnull(text):\n",
    "        return ''\n",
    "    else:\n",
    "        # Convert to lowercase\n",
    "        text = text.lower()\n",
    "\n",
    "        # Remove mentions and URLs\n",
    "        text = re.sub(r'@\\w+', 'USER', text)\n",
    "        text = re.sub(r'http\\S+|www\\S+', 'URL', text)\n",
    "\n",
    "        # Remove punctuation\n",
    "        text = text.translate(str.maketrans('', '', string.punctuation))\n",
    "\n",
    "        # Tokenization\n",
    "        tokens = nltk.word_tokenize(text)\n",
    "\n",
    "        # Remove stopwords\n",
    "        stop_words = set(nltk.corpus.stopwords.words('english'))\n",
    "        tokens = [token for token in tokens if token not in stop_words]\n",
    "\n",
    "        # Lemmatization\n",
    "        lemmatizer = WordNetLemmatizer()\n",
    "        tokens = [lemmatizer.lemmatize(token) for token in tokens]\n",
    "\n",
    "        return ' '.join(tokens)\n",
    "\n",
    "# Apply preprocessing steps to the 'tweet_text' column\n",
    "df['cleaned_tweet'] = df['tweet_text'].apply(clean_text)"
   ]
  },
  {
   "cell_type": "code",
   "execution_count": 52,
   "metadata": {},
   "outputs": [
    {
     "data": {
      "text/plain": [
       "0       USER 3g iphone 3 hr tweeting riseaustin dead n...\n",
       "1       USER know USER awesome ipadiphone app youll li...\n",
       "2                         USER wait ipad 2 also sale sxsw\n",
       "3       USER hope year festival isnt crashy year iphon...\n",
       "4       USER great stuff fri sxsw marissa mayer google...\n",
       "                              ...                        \n",
       "9088                            ipad everywhere sxsw link\n",
       "9089    wave buzz rt USER interrupt regularly schedule...\n",
       "9090    google zeiger physician never reported potenti...\n",
       "9091    verizon iphone customer complained time fell b...\n",
       "9092    ï¡ïàüêîò£áââ£âûârt USER...\n",
       "Name: cleaned_tweet, Length: 8937, dtype: object"
      ]
     },
     "execution_count": 52,
     "metadata": {},
     "output_type": "execute_result"
    }
   ],
   "source": [
    "df['cleaned_tweet']"
   ]
  },
  {
   "cell_type": "markdown",
   "metadata": {},
   "source": [
    "# Split Data"
   ]
  },
  {
   "cell_type": "code",
   "execution_count": 53,
   "metadata": {},
   "outputs": [],
   "source": [
    "# Split the data into X and y\n",
    "X = df['cleaned_tweet']\n",
    "y = df['is_there_an_emotion_directed_at_a_brand_or_product']\n",
    "\n",
    "# Split X and y into training and testing sets\n",
    "X_train, X_test, y_train, y_test = train_test_split(X, y, test_size=0.2, random_state=42)"
   ]
  },
  {
   "cell_type": "markdown",
   "metadata": {},
   "source": [
    "# Vectorize"
   ]
  },
  {
   "cell_type": "code",
   "execution_count": 54,
   "metadata": {},
   "outputs": [],
   "source": [
    "# Vectorize the tweets using CountVectorizer\n",
    "vectorizer = CountVectorizer()\n",
    "X_train_vectorized = vectorizer.fit_transform(X_train)\n",
    "X_test_vectorized = vectorizer.transform(X_test)"
   ]
  },
  {
   "cell_type": "markdown",
   "metadata": {},
   "source": [
    "# Logression Model with Scaling"
   ]
  },
  {
   "cell_type": "code",
   "execution_count": 55,
   "metadata": {},
   "outputs": [
    {
     "name": "stdout",
     "output_type": "stream",
     "text": [
      "Accuracy: 0.6353467561521253\n",
      "Classification Report:\n",
      "                                    precision    recall  f1-score   support\n",
      "\n",
      "                  Negative emotion       0.45      0.33      0.38       122\n",
      "No emotion toward brand or product       0.72      0.72      0.72      1095\n",
      "                  Positive emotion       0.51      0.54      0.52       571\n",
      "\n",
      "                          accuracy                           0.64      1788\n",
      "                         macro avg       0.56      0.53      0.54      1788\n",
      "                      weighted avg       0.63      0.64      0.63      1788\n",
      "\n",
      "Confusion Matrix:\n",
      "[[ 40  55  27]\n",
      " [ 39 789 267]\n",
      " [  9 255 307]]\n"
     ]
    }
   ],
   "source": [
    "# Scale the input features\n",
    "scaler = StandardScaler(with_mean=False)\n",
    "X_train_scaled = scaler.fit_transform(X_train_vectorized)\n",
    "X_test_scaled = scaler.transform(X_test_vectorized)\n",
    "\n",
    "# Train the logistic regression model on the scaled data\n",
    "logreg = LogisticRegression(max_iter=3000)\n",
    "logreg.fit(X_train_scaled, y_train)\n",
    "\n",
    "# Make predictions on the scaled test data\n",
    "y_pred = logreg.predict(X_test_scaled)\n",
    "\n",
    "# Evaluate the model\n",
    "accuracy = accuracy_score(y_test, y_pred)\n",
    "print('Accuracy:', accuracy)\n",
    "print('Classification Report:')\n",
    "print(classification_report(y_test, y_pred))\n",
    "print('Confusion Matrix:')\n",
    "print(confusion_matrix(y_test, y_pred))"
   ]
  },
  {
   "cell_type": "markdown",
   "metadata": {},
   "source": [
    "# Naive Bayes Model"
   ]
  },
  {
   "cell_type": "code",
   "execution_count": 56,
   "metadata": {
    "scrolled": true
   },
   "outputs": [
    {
     "name": "stdout",
     "output_type": "stream",
     "text": [
      "Accuracy (Naive Bayes): 0.6672259507829977\n",
      "Classification Report (Naive Bayes):\n",
      "                                    precision    recall  f1-score   support\n",
      "\n",
      "                  Negative emotion       0.52      0.14      0.22       122\n",
      "No emotion toward brand or product       0.73      0.79      0.76      1095\n",
      "                  Positive emotion       0.54      0.55      0.55       571\n",
      "\n",
      "                          accuracy                           0.67      1788\n",
      "                         macro avg       0.60      0.49      0.51      1788\n",
      "                      weighted avg       0.66      0.67      0.65      1788\n",
      "\n"
     ]
    }
   ],
   "source": [
    "from sklearn.naive_bayes import MultinomialNB\n",
    "\n",
    "# Create a Naive Bayes classifier\n",
    "nb = MultinomialNB()\n",
    "\n",
    "# Train the Naive Bayes model\n",
    "nb.fit(X_train_vectorized, y_train)\n",
    "\n",
    "# Make predictions on the test set\n",
    "y_pred_nb = nb.predict(X_test_vectorized)\n",
    "\n",
    "# Evaluate the Naive Bayes model\n",
    "accuracy_nb = accuracy_score(y_test, y_pred_nb)\n",
    "print('Accuracy (Naive Bayes):', accuracy_nb)\n",
    "print('Classification Report (Naive Bayes):')\n",
    "print(classification_report(y_test, y_pred_nb))"
   ]
  },
  {
   "cell_type": "markdown",
   "metadata": {},
   "source": [
    "# RandomForest Model"
   ]
  },
  {
   "cell_type": "code",
   "execution_count": 57,
   "metadata": {
    "scrolled": false
   },
   "outputs": [
    {
     "name": "stdout",
     "output_type": "stream",
     "text": [
      "Accuracy (Random Forest): 0.6912751677852349\n",
      "Classification Report (Random Forest):\n",
      "                                    precision    recall  f1-score   support\n",
      "\n",
      "                  Negative emotion       0.61      0.20      0.31       122\n",
      "No emotion toward brand or product       0.71      0.88      0.78      1095\n",
      "                  Positive emotion       0.65      0.43      0.51       571\n",
      "\n",
      "                          accuracy                           0.69      1788\n",
      "                         macro avg       0.65      0.51      0.54      1788\n",
      "                      weighted avg       0.68      0.69      0.67      1788\n",
      "\n"
     ]
    }
   ],
   "source": [
    "from sklearn.ensemble import RandomForestClassifier\n",
    "\n",
    "# Create a Random Forest classifier\n",
    "rf = RandomForestClassifier()\n",
    "\n",
    "# Train the Random Forest model\n",
    "rf.fit(X_train_vectorized, y_train)\n",
    "\n",
    "# Make predictions on the test set\n",
    "y_pred_rf = rf.predict(X_test_vectorized)\n",
    "\n",
    "# Evaluate the Random Forest model\n",
    "accuracy_rf = accuracy_score(y_test, y_pred_rf)\n",
    "print('Accuracy (Random Forest):', accuracy_rf)\n",
    "print('Classification Report (Random Forest):')\n",
    "print(classification_report(y_test, y_pred_rf))"
   ]
  },
  {
   "cell_type": "markdown",
   "metadata": {},
   "source": [
    "# Deep Learning Model"
   ]
  },
  {
   "cell_type": "code",
   "execution_count": 58,
   "metadata": {},
   "outputs": [
    {
     "name": "stdout",
     "output_type": "stream",
     "text": [
      "Epoch 1/10\n",
      "224/224 [==============================] - 5s 16ms/step - loss: 0.8021 - accuracy: 0.6269 - val_loss: 0.7558 - val_accuracy: 0.6415\n",
      "Epoch 2/10\n",
      "224/224 [==============================] - 3s 13ms/step - loss: 0.5561 - accuracy: 0.7636 - val_loss: 0.7378 - val_accuracy: 0.6745\n",
      "Epoch 3/10\n",
      "224/224 [==============================] - 3s 13ms/step - loss: 0.3787 - accuracy: 0.8491 - val_loss: 0.8699 - val_accuracy: 0.6661\n",
      "Epoch 4/10\n",
      "224/224 [==============================] - 3s 13ms/step - loss: 0.2807 - accuracy: 0.8859 - val_loss: 0.9072 - val_accuracy: 0.6683\n",
      "Epoch 5/10\n",
      "224/224 [==============================] - 3s 13ms/step - loss: 0.2287 - accuracy: 0.9036 - val_loss: 1.0549 - val_accuracy: 0.6689\n",
      "Epoch 6/10\n",
      "224/224 [==============================] - 3s 13ms/step - loss: 0.2039 - accuracy: 0.9148 - val_loss: 1.1488 - val_accuracy: 0.6555\n",
      "Epoch 7/10\n",
      "224/224 [==============================] - 3s 13ms/step - loss: 0.1695 - accuracy: 0.9245 - val_loss: 1.3195 - val_accuracy: 0.6381\n",
      "Epoch 8/10\n",
      "224/224 [==============================] - 3s 13ms/step - loss: 0.1532 - accuracy: 0.9298 - val_loss: 1.4437 - val_accuracy: 0.6516\n",
      "Epoch 9/10\n",
      "224/224 [==============================] - 3s 13ms/step - loss: 0.1381 - accuracy: 0.9324 - val_loss: 1.4786 - val_accuracy: 0.6460\n",
      "Epoch 10/10\n",
      "224/224 [==============================] - 3s 13ms/step - loss: 0.1237 - accuracy: 0.9371 - val_loss: 1.6291 - val_accuracy: 0.6477\n",
      "56/56 [==============================] - 1s 4ms/step\n",
      "Accuracy (Deep Learning): 0.6476510067114094\n",
      "Classification Report (Deep Learning):\n",
      "              precision    recall  f1-score   support\n",
      "\n",
      "           0       0.35      0.34      0.34       122\n",
      "           1       0.73      0.74      0.74      1095\n",
      "           2       0.54      0.53      0.54       571\n",
      "\n",
      "    accuracy                           0.65      1788\n",
      "   macro avg       0.54      0.54      0.54      1788\n",
      "weighted avg       0.65      0.65      0.65      1788\n",
      "\n"
     ]
    }
   ],
   "source": [
    "import tensorflow as tf\n",
    "import numpy as np\n",
    "from tensorflow.keras.models import Sequential\n",
    "from tensorflow.keras.layers import Embedding, LSTM, Dense\n",
    "from tensorflow.keras.preprocessing.text import Tokenizer\n",
    "from tensorflow.keras.preprocessing.sequence import pad_sequences\n",
    "from sklearn.model_selection import train_test_split\n",
    "from sklearn.metrics import accuracy_score, classification_report\n",
    "\n",
    "# Preprocess the text data\n",
    "tokenizer = Tokenizer()\n",
    "tokenizer.fit_on_texts(df['cleaned_tweet'])\n",
    "X = tokenizer.texts_to_sequences(df['cleaned_tweet'])\n",
    "X = pad_sequences(X)\n",
    "\n",
    "# Convert target labels to categorical\n",
    "y = pd.get_dummies(df['is_there_an_emotion_directed_at_a_brand_or_product']).values\n",
    "\n",
    "# Split the data into training and testing sets\n",
    "X_train, X_test, y_train, y_test = train_test_split(X, y, test_size=0.2, random_state=42)\n",
    "\n",
    "# Define the model architecture\n",
    "model = Sequential()\n",
    "model.add(Embedding(input_dim=len(tokenizer.word_index) + 1, output_dim=100, input_length=X.shape[1]))\n",
    "model.add(LSTM(units=64))\n",
    "model.add(Dense(units=y.shape[1], activation='softmax'))\n",
    "\n",
    "# Compile the model\n",
    "model.compile(loss='categorical_crossentropy', optimizer='adam', metrics=['accuracy'])\n",
    "\n",
    "# Train the model\n",
    "model.fit(X_train, y_train, validation_data=(X_test, y_test), epochs=10, batch_size=32)\n",
    "\n",
    "# Make predictions on the test set\n",
    "y_pred_dl_probs = model.predict(X_test)\n",
    "y_pred_dl = np.argmax(y_pred_dl_probs, axis=1)\n",
    "\n",
    "# Evaluate the model\n",
    "accuracy_dl = accuracy_score(np.argmax(y_test, axis=1), y_pred_dl)\n",
    "print('Accuracy (Deep Learning):', accuracy_dl)\n",
    "print('Classification Report (Deep Learning):')\n",
    "print(classification_report(np.argmax(y_test, axis=1), y_pred_dl))"
   ]
  },
  {
   "cell_type": "markdown",
   "metadata": {},
   "source": [
    "# Dummy Model"
   ]
  },
  {
   "cell_type": "code",
   "execution_count": 59,
   "metadata": {
    "scrolled": true
   },
   "outputs": [
    {
     "name": "stdout",
     "output_type": "stream",
     "text": [
      "Accuracy (Dummy Model): 0.6124161073825504\n",
      "Classification Report (Dummy Model):\n",
      "              precision    recall  f1-score   support\n",
      "\n",
      "           0       1.00      0.00      0.00       122\n",
      "           1       0.61      1.00      0.76      1095\n",
      "           2       1.00      0.00      0.00       571\n",
      "\n",
      "   micro avg       0.61      0.61      0.61      1788\n",
      "   macro avg       0.87      0.33      0.25      1788\n",
      "weighted avg       0.76      0.61      0.47      1788\n",
      " samples avg       0.61      0.61      0.61      1788\n",
      "\n"
     ]
    }
   ],
   "source": [
    "from sklearn.dummy import DummyClassifier\n",
    "from sklearn.metrics import accuracy_score, classification_report\n",
    "\n",
    "# Create a dummy classifier that predicts the majority class\n",
    "dummy = DummyClassifier(strategy='most_frequent')\n",
    "\n",
    "# Train the dummy classifier\n",
    "dummy.fit(X_train, y_train)\n",
    "\n",
    "# Make predictions using the dummy classifier\n",
    "y_pred_dummy = dummy.predict(X_test)\n",
    "\n",
    "# Evaluate the dummy model\n",
    "accuracy_dummy = accuracy_score(y_test, y_pred_dummy)\n",
    "print('Accuracy (Dummy Model):', accuracy_dummy)\n",
    "print('Classification Report (Dummy Model):')\n",
    "print(classification_report(y_test, y_pred_dummy, zero_division=1))"
   ]
  },
  {
   "cell_type": "markdown",
   "metadata": {},
   "source": [
    "# Review Top Tokens"
   ]
  },
  {
   "cell_type": "code",
   "execution_count": 60,
   "metadata": {
    "scrolled": false
   },
   "outputs": [
    {
     "data": {
      "image/png": "[encoded data removed]",
      "text/plain": [
       "<Figure size 1000x600 with 1 Axes>"
      ]
     },
     "metadata": {},
     "output_type": "display_data"
    }
   ],
   "source": [
    "from nltk.tokenize import word_tokenize\n",
    "\n",
    "# Tokenize each cleaned tweet\n",
    "tokenized_tweets = [word_tokenize(tweet) for tweet in df['cleaned_tweet']]\n",
    "\n",
    "# Flatten the list of tokenized tweets\n",
    "all_tokens = [token for tweet_tokens in tokenized_tweets for token in tweet_tokens]\n",
    "\n",
    "# Count the occurrences of each token\n",
    "token_counts = nltk.FreqDist(all_tokens)\n",
    "\n",
    "# Get the top tokens and their counts\n",
    "num_top_tokens = 50  # Choose the desired number of top tokens to display\n",
    "top_tokens = token_counts.most_common(num_top_tokens)\n",
    "\n",
    "# Extract the tokens and counts for plotting\n",
    "tokens = [token for token, count in top_tokens]\n",
    "counts = [count for token, count in top_tokens]\n",
    "\n",
    "# Create the bar graph\n",
    "plt.figure(figsize=(10, 6))\n",
    "plt.bar(tokens, counts)\n",
    "plt.xlabel('Tokens')\n",
    "plt.ylabel('Counts')\n",
    "plt.title('Top Tokens')\n",
    "plt.xticks(rotation=90)\n",
    "plt.tight_layout()\n",
    "plt.show()"
   ]
  },
  {
   "cell_type": "code",
   "execution_count": 61,
   "metadata": {},
   "outputs": [
    {
     "name": "stdout",
     "output_type": "stream",
     "text": [
      "Total unique tokens: 9987\n"
     ]
    }
   ],
   "source": [
    "# Combine preprocessed text into a single string\n",
    "all_text = ' '.join(df['cleaned_tweet'])\n",
    "\n",
    "from tensorflow.keras.preprocessing.text import Tokenizer\n",
    "\n",
    "# Tokenize the text\n",
    "tokenizer = Tokenizer()\n",
    "tokenizer.fit_on_texts([all_text])\n",
    "\n",
    "# Get the word-to-index mapping\n",
    "word_index = tokenizer.word_index\n",
    "\n",
    "total_tokens = len(word_index)\n",
    "print(\"Total unique tokens:\", total_tokens)"
   ]
  },
  {
   "cell_type": "code",
   "execution_count": 62,
   "metadata": {
    "scrolled": false
   },
   "outputs": [
    {
     "name": "stdout",
     "output_type": "stream",
     "text": [
      "Token: sxsw \tFrequency: 9272\n",
      "Token: USER \tFrequency: 6850\n",
      "Token: link \tFrequency: 4247\n",
      "Token: rt \tFrequency: 2895\n",
      "Token: google \tFrequency: 2471\n",
      "Token: ipad \tFrequency: 2363\n",
      "Token: apple \tFrequency: 2206\n",
      "Token: store \tFrequency: 1482\n",
      "Token: iphone \tFrequency: 1481\n",
      "Token: 2 \tFrequency: 1126\n"
     ]
    }
   ],
   "source": [
    "from nltk.probability import FreqDist\n",
    "\n",
    "# Get the token counts\n",
    "token_counts = FreqDist(all_text.split())\n",
    "\n",
    "# Print the most common tokens and their frequencies\n",
    "num_common_tokens = 10  # Choose the desired number of most common tokens to display\n",
    "common_tokens = token_counts.most_common(num_common_tokens)\n",
    "for token, frequency in common_tokens:\n",
    "    print(\"Token:\", token, \"\\tFrequency:\", frequency)"
   ]
  },
  {
   "cell_type": "markdown",
   "metadata": {},
   "source": [
    "# Understand Vectorizor \n",
    "- Does this replace needing to clean the data (lowercase, ect)? Where does it fit in the overall model process?\n",
    "\n",
    "# Step 1: Feature Engineering\n",
    "- Before training a sentiment analysis model, it's important to engineer relevant features from your data. Some possible features you can consider are:\n",
    "\n",
    "- Word frequency: Calculate the frequency of each word in the tweet text and add it as a feature.\n",
    "- Character count: Count the number of characters in each tweet and add it as a feature.\n",
    "- Hashtags and mentions: Extract hashtags and mentions from the tweets and add them as features.\n",
    "- Sentiment lexicons: Utilize pre-built sentiment lexicons such as AFINN or SentiWordNet and assign sentiment scores to words in the tweets.\n",
    "\n",
    "# Word Frequency:\n",
    "\n",
    " 1) Calculate the frequency of each word in the tweet text: Count the occurrences of each word in the tweet and create a feature that represents the frequency of each word. Tools: You can use the Counter class from the Python collections module to count word frequencies.\n",
    "\n",
    "2) Character Count: Count the number of characters in each tweet: Determine the length of each tweet in terms of the number of characters and add it as a feature. Tools: You can use the len() function in Python to calculate the length of each tweet.\n",
    "\n",
    "3) Hashtags and Mentions: Extract hashtags and mentions from the tweets: Parse the tweet text to identify hashtags (words or phrases preceded by the '#' symbol) and mentions (usernames preceded by the '@' symbol). Add them as features: Create binary features indicating the presence or absence of specific hashtags or mentions in the tweet. Tools: You can use regular expressions (re module) in Python to extract hashtags and mentions from the tweet text.\n",
    "\n",
    "4) Sentiment Lexicons: Utilize pre-built sentiment lexicons: Sentiment lexicons are dictionaries or databases that associate words with sentiment scores. They can help assign sentiment scores to individual words in the tweets. Assign sentiment scores: Look up each word in the tweet text in the sentiment lexicon and assign sentiment scores to those words. Tools: You can use pre-built sentiment lexicons such as AFINN (which assigns a sentiment score between -5 and +5 to words) or SentiWordNet (which provides sentiment scores based on WordNet synsets).\n",
    "\n",
    "# Dummy Model\n",
    "- Build a dummy model\n",
    "\n",
    "# Step 2: Splitting the Data\n",
    "- Split your dataset into training and testing sets. This will allow you to train your model on a portion of the data and evaluate its performance on unseen data. The commonly used split ratio is 80% for training and 20% for testing. You can use the train_test_split function from scikit-learn to perform the split.\n",
    "\n",
    "# Step 3: Choosing a Model\n",
    "\n",
    "- Select an appropriate machine learning model for sentiment analysis. Some popular choices are:\n",
    "\n",
    "# Naive Bayes Classifier: It is simple and effective for text classification tasks.\n",
    "- Support Vector Machines (SVM): It performs well in high-dimensional spaces and is often used for text classification.\n",
    "- Recurrent Neural Networks (RNN) or Long Short-Term Memory (LSTM) networks: These models can capture the sequential nature of text data.\n",
    "\n",
    "# Step 4: Model Training and Evaluation\n",
    "- Train your selected model on the training set using the engineered features. Evaluate the performance of the trained model on the testing set. Common evaluation metrics for sentiment analysis include accuracy, precision, recall, and F1-score. You can use scikit-learn's fit() and predict() functions to train and evaluate the model.\n",
    "\n",
    "# Step 5: Hyperparameter Tuning\n",
    "- Optimize the performance of your model by tuning its hyperparameters. This involves trying different combinations of hyperparameters and selecting the ones that result in the best performance. You can use techniques like grid search or random search to find the optimal hyperparameters.\n",
    "\n",
    "# Step 6: Model Deployment\n",
    "- Once you have trained and fine-tuned your sentiment analysis model, you can deploy it to make predictions on new, unseen data. This can involve integrating the model into a web application, creating an API, or using it for real-time sentiment analysis."
   ]
  },
  {
   "cell_type": "code",
   "execution_count": null,
   "metadata": {},
   "outputs": [],
   "source": []
  },
  {
   "cell_type": "code",
   "execution_count": null,
   "metadata": {},
   "outputs": [],
   "source": []
  },
  {
   "cell_type": "code",
   "execution_count": null,
   "metadata": {},
   "outputs": [],
   "source": []
  },
  {
   "cell_type": "code",
   "execution_count": null,
   "metadata": {},
   "outputs": [],
   "source": []
  },
  {
   "cell_type": "code",
   "execution_count": null,
   "metadata": {},
   "outputs": [],
   "source": []
  },
  {
   "cell_type": "code",
   "execution_count": null,
   "metadata": {},
   "outputs": [],
   "source": []
  },
  {
   "cell_type": "code",
   "execution_count": null,
   "metadata": {},
   "outputs": [],
   "source": []
  },
  {
   "cell_type": "code",
   "execution_count": null,
   "metadata": {},
   "outputs": [],
   "source": []
  },
  {
   "cell_type": "code",
   "execution_count": null,
   "metadata": {},
   "outputs": [],
   "source": []
  }
 ],
 "metadata": {
  "kernelspec": {
   "display_name": "tfgpu",
   "language": "python",
   "name": "tfgpu"
  },
  "language_info": {
   "codemirror_mode": {
    "name": "ipython",
    "version": 3
   },
   "file_extension": ".py",
   "mimetype": "text/x-python",
   "name": "python",
   "nbconvert_exporter": "python",
   "pygments_lexer": "ipython3",
   "version": "3.10.11"
  }
 },
 "nbformat": 4,
 "nbformat_minor": 4
}
