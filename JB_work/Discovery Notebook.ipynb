{
 "cells": [
  {
   "cell_type": "markdown",
   "metadata": {},
   "source": [
    "# Overview"
   ]
  },
  {
   "cell_type": "markdown",
   "metadata": {},
   "source": [
    "# Business Understanding"
   ]
  },
  {
   "cell_type": "markdown",
   "metadata": {},
   "source": [
    "### problem and stakeholder\n",
    "\n",
    "what is the business problem?"
   ]
  },
  {
   "cell_type": "markdown",
   "metadata": {},
   "source": [
    "# Data Understanding (a lil EDA)"
   ]
  },
  {
   "cell_type": "code",
   "execution_count": 141,
   "metadata": {},
   "outputs": [],
   "source": [
    "# imports\n",
    "import pandas as pd\n",
    "import seaborn as sns\n",
    "import nltk\n",
    "from nltk.probability import FreqDist\n",
    "from nltk.corpus import stopwords, wordnet\n",
    "from nltk.tokenize import regexp_tokenize, word_tokenize, RegexpTokenizer\n",
    "import matplotlib.pyplot as plt\n",
    "import string\n",
    "import re\n",
    "from collections import defaultdict\n",
    "import numpy as np\n",
    "\n",
    "from sklearn.model_selection import train_test_split, cross_val_score, GridSearchCV\n",
    "from nltk import pos_tag\n",
    "from nltk.stem import WordNetLemmatizer\n",
    "from sklearn.feature_extraction.text import TfidfVectorizer, CountVectorizer\n",
    "from sklearn.ensemble import RandomForestClassifier\n",
    "from sklearn.naive_bayes import MultinomialNB\n",
    "from sklearn.metrics import accuracy_score, RocCurveDisplay, confusion_matrix, ConfusionMatrixDisplay, classification_report\n",
    "from sklearn.preprocessing import LabelEncoder\n",
    "from sklearn.dummy import DummyClassifier"
   ]
  },
  {
   "cell_type": "code",
   "execution_count": 2,
   "metadata": {
    "scrolled": true
   },
   "outputs": [
    {
     "data": {
      "text/html": [
       "<div>\n",
       "<style scoped>\n",
       "    .dataframe tbody tr th:only-of-type {\n",
       "        vertical-align: middle;\n",
       "    }\n",
       "\n",
       "    .dataframe tbody tr th {\n",
       "        vertical-align: top;\n",
       "    }\n",
       "\n",
       "    .dataframe thead th {\n",
       "        text-align: right;\n",
       "    }\n",
       "</style>\n",
       "<table border=\"1\" class=\"dataframe\">\n",
       "  <thead>\n",
       "    <tr style=\"text-align: right;\">\n",
       "      <th></th>\n",
       "      <th>tweet_text</th>\n",
       "      <th>emotion_in_tweet_is_directed_at</th>\n",
       "      <th>is_there_an_emotion_directed_at_a_brand_or_product</th>\n",
       "    </tr>\n",
       "  </thead>\n",
       "  <tbody>\n",
       "    <tr>\n",
       "      <th>0</th>\n",
       "      <td>.@wesley83 I have a 3G iPhone. After 3 hrs twe...</td>\n",
       "      <td>iPhone</td>\n",
       "      <td>Negative emotion</td>\n",
       "    </tr>\n",
       "    <tr>\n",
       "      <th>1</th>\n",
       "      <td>@jessedee Know about @fludapp ? Awesome iPad/i...</td>\n",
       "      <td>iPad or iPhone App</td>\n",
       "      <td>Positive emotion</td>\n",
       "    </tr>\n",
       "    <tr>\n",
       "      <th>2</th>\n",
       "      <td>@swonderlin Can not wait for #iPad 2 also. The...</td>\n",
       "      <td>iPad</td>\n",
       "      <td>Positive emotion</td>\n",
       "    </tr>\n",
       "    <tr>\n",
       "      <th>3</th>\n",
       "      <td>@sxsw I hope this year's festival isn't as cra...</td>\n",
       "      <td>iPad or iPhone App</td>\n",
       "      <td>Negative emotion</td>\n",
       "    </tr>\n",
       "    <tr>\n",
       "      <th>4</th>\n",
       "      <td>@sxtxstate great stuff on Fri #SXSW: Marissa M...</td>\n",
       "      <td>Google</td>\n",
       "      <td>Positive emotion</td>\n",
       "    </tr>\n",
       "  </tbody>\n",
       "</table>\n",
       "</div>"
      ],
      "text/plain": [
       "                                          tweet_text  \\\n",
       "0  .@wesley83 I have a 3G iPhone. After 3 hrs twe...   \n",
       "1  @jessedee Know about @fludapp ? Awesome iPad/i...   \n",
       "2  @swonderlin Can not wait for #iPad 2 also. The...   \n",
       "3  @sxsw I hope this year's festival isn't as cra...   \n",
       "4  @sxtxstate great stuff on Fri #SXSW: Marissa M...   \n",
       "\n",
       "  emotion_in_tweet_is_directed_at  \\\n",
       "0                          iPhone   \n",
       "1              iPad or iPhone App   \n",
       "2                            iPad   \n",
       "3              iPad or iPhone App   \n",
       "4                          Google   \n",
       "\n",
       "  is_there_an_emotion_directed_at_a_brand_or_product  \n",
       "0                                   Negative emotion  \n",
       "1                                   Positive emotion  \n",
       "2                                   Positive emotion  \n",
       "3                                   Negative emotion  \n",
       "4                                   Positive emotion  "
      ]
     },
     "execution_count": 2,
     "metadata": {},
     "output_type": "execute_result"
    }
   ],
   "source": [
    "# upload the data\n",
    "data = pd.read_csv('./tweet_data.csv', encoding=\"latin1\")\n",
    "data.head()"
   ]
  },
  {
   "cell_type": "code",
   "execution_count": 3,
   "metadata": {},
   "outputs": [
    {
     "data": {
      "text/html": [
       "<div>\n",
       "<style scoped>\n",
       "    .dataframe tbody tr th:only-of-type {\n",
       "        vertical-align: middle;\n",
       "    }\n",
       "\n",
       "    .dataframe tbody tr th {\n",
       "        vertical-align: top;\n",
       "    }\n",
       "\n",
       "    .dataframe thead th {\n",
       "        text-align: right;\n",
       "    }\n",
       "</style>\n",
       "<table border=\"1\" class=\"dataframe\">\n",
       "  <thead>\n",
       "    <tr style=\"text-align: right;\">\n",
       "      <th></th>\n",
       "      <th>tweet_text</th>\n",
       "      <th>emotion_in_tweet_is_directed_at</th>\n",
       "      <th>is_there_an_emotion_directed_at_a_brand_or_product</th>\n",
       "    </tr>\n",
       "  </thead>\n",
       "  <tbody>\n",
       "    <tr>\n",
       "      <th>9088</th>\n",
       "      <td>Ipad everywhere. #SXSW {link}</td>\n",
       "      <td>iPad</td>\n",
       "      <td>Positive emotion</td>\n",
       "    </tr>\n",
       "    <tr>\n",
       "      <th>9089</th>\n",
       "      <td>Wave, buzz... RT @mention We interrupt your re...</td>\n",
       "      <td>NaN</td>\n",
       "      <td>No emotion toward brand or product</td>\n",
       "    </tr>\n",
       "    <tr>\n",
       "      <th>9090</th>\n",
       "      <td>Google's Zeiger, a physician never reported po...</td>\n",
       "      <td>NaN</td>\n",
       "      <td>No emotion toward brand or product</td>\n",
       "    </tr>\n",
       "    <tr>\n",
       "      <th>9091</th>\n",
       "      <td>Some Verizon iPhone customers complained their...</td>\n",
       "      <td>NaN</td>\n",
       "      <td>No emotion toward brand or product</td>\n",
       "    </tr>\n",
       "    <tr>\n",
       "      <th>9092</th>\n",
       "      <td>Ï¡Ïàü_ÊÎÒ£Áââ_£â_ÛâRT @...</td>\n",
       "      <td>NaN</td>\n",
       "      <td>No emotion toward brand or product</td>\n",
       "    </tr>\n",
       "  </tbody>\n",
       "</table>\n",
       "</div>"
      ],
      "text/plain": [
       "                                             tweet_text  \\\n",
       "9088                      Ipad everywhere. #SXSW {link}   \n",
       "9089  Wave, buzz... RT @mention We interrupt your re...   \n",
       "9090  Google's Zeiger, a physician never reported po...   \n",
       "9091  Some Verizon iPhone customers complained their...   \n",
       "9092  Ï¡Ïàü_ÊÎÒ£Áââ_£â_ÛâRT @...   \n",
       "\n",
       "     emotion_in_tweet_is_directed_at  \\\n",
       "9088                            iPad   \n",
       "9089                             NaN   \n",
       "9090                             NaN   \n",
       "9091                             NaN   \n",
       "9092                             NaN   \n",
       "\n",
       "     is_there_an_emotion_directed_at_a_brand_or_product  \n",
       "9088                                   Positive emotion  \n",
       "9089                 No emotion toward brand or product  \n",
       "9090                 No emotion toward brand or product  \n",
       "9091                 No emotion toward brand or product  \n",
       "9092                 No emotion toward brand or product  "
      ]
     },
     "execution_count": 3,
     "metadata": {},
     "output_type": "execute_result"
    }
   ],
   "source": [
    "data.tail()"
   ]
  },
  {
   "cell_type": "code",
   "execution_count": 4,
   "metadata": {},
   "outputs": [
    {
     "name": "stdout",
     "output_type": "stream",
     "text": [
      "<class 'pandas.core.frame.DataFrame'>\n",
      "RangeIndex: 9093 entries, 0 to 9092\n",
      "Data columns (total 3 columns):\n",
      " #   Column                                              Non-Null Count  Dtype \n",
      "---  ------                                              --------------  ----- \n",
      " 0   tweet_text                                          9092 non-null   object\n",
      " 1   emotion_in_tweet_is_directed_at                     3291 non-null   object\n",
      " 2   is_there_an_emotion_directed_at_a_brand_or_product  9093 non-null   object\n",
      "dtypes: object(3)\n",
      "memory usage: 213.2+ KB\n"
     ]
    }
   ],
   "source": [
    "data.info()"
   ]
  },
  {
   "cell_type": "code",
   "execution_count": 5,
   "metadata": {},
   "outputs": [
    {
     "data": {
      "text/html": [
       "<div>\n",
       "<style scoped>\n",
       "    .dataframe tbody tr th:only-of-type {\n",
       "        vertical-align: middle;\n",
       "    }\n",
       "\n",
       "    .dataframe tbody tr th {\n",
       "        vertical-align: top;\n",
       "    }\n",
       "\n",
       "    .dataframe thead th {\n",
       "        text-align: right;\n",
       "    }\n",
       "</style>\n",
       "<table border=\"1\" class=\"dataframe\">\n",
       "  <thead>\n",
       "    <tr style=\"text-align: right;\">\n",
       "      <th></th>\n",
       "      <th>tweet_text</th>\n",
       "      <th>emotion_in_tweet_is_directed_at</th>\n",
       "      <th>is_there_an_emotion_directed_at_a_brand_or_product</th>\n",
       "    </tr>\n",
       "  </thead>\n",
       "  <tbody>\n",
       "    <tr>\n",
       "      <th>count</th>\n",
       "      <td>9092</td>\n",
       "      <td>3291</td>\n",
       "      <td>9093</td>\n",
       "    </tr>\n",
       "    <tr>\n",
       "      <th>unique</th>\n",
       "      <td>9065</td>\n",
       "      <td>9</td>\n",
       "      <td>4</td>\n",
       "    </tr>\n",
       "    <tr>\n",
       "      <th>top</th>\n",
       "      <td>RT @mention Marissa Mayer: Google Will Connect...</td>\n",
       "      <td>iPad</td>\n",
       "      <td>No emotion toward brand or product</td>\n",
       "    </tr>\n",
       "    <tr>\n",
       "      <th>freq</th>\n",
       "      <td>5</td>\n",
       "      <td>946</td>\n",
       "      <td>5389</td>\n",
       "    </tr>\n",
       "  </tbody>\n",
       "</table>\n",
       "</div>"
      ],
      "text/plain": [
       "                                               tweet_text  \\\n",
       "count                                                9092   \n",
       "unique                                               9065   \n",
       "top     RT @mention Marissa Mayer: Google Will Connect...   \n",
       "freq                                                    5   \n",
       "\n",
       "       emotion_in_tweet_is_directed_at  \\\n",
       "count                             3291   \n",
       "unique                               9   \n",
       "top                               iPad   \n",
       "freq                               946   \n",
       "\n",
       "       is_there_an_emotion_directed_at_a_brand_or_product  \n",
       "count                                                9093  \n",
       "unique                                                  4  \n",
       "top                    No emotion toward brand or product  \n",
       "freq                                                 5389  "
      ]
     },
     "execution_count": 5,
     "metadata": {},
     "output_type": "execute_result"
    }
   ],
   "source": [
    "data.describe()"
   ]
  },
  {
   "cell_type": "markdown",
   "metadata": {},
   "source": [
    "I can see there are 4 different values for my target column all the way on the right. I wonder what those values are and their distribution."
   ]
  },
  {
   "cell_type": "code",
   "execution_count": 6,
   "metadata": {},
   "outputs": [
    {
     "data": {
      "text/plain": [
       "No emotion toward brand or product    0.592654\n",
       "Positive emotion                      0.327505\n",
       "Negative emotion                      0.062686\n",
       "I can't tell                          0.017156\n",
       "Name: is_there_an_emotion_directed_at_a_brand_or_product, dtype: float64"
      ]
     },
     "execution_count": 6,
     "metadata": {},
     "output_type": "execute_result"
    }
   ],
   "source": [
    "data.is_there_an_emotion_directed_at_a_brand_or_product.value_counts(normalize=True)"
   ]
  },
  {
   "cell_type": "markdown",
   "metadata": {},
   "source": [
    "# Data Preparation"
   ]
  },
  {
   "cell_type": "code",
   "execution_count": 7,
   "metadata": {},
   "outputs": [],
   "source": [
    "# data[data['is_there_an_emotion_directed_at_a_brand_or_product'] == \"No emotion toward brand or product\"]"
   ]
  },
  {
   "cell_type": "markdown",
   "metadata": {},
   "source": [
    "to do:\n",
    "\n",
    "* turn target into numbers with LE()\n",
    "* change \"i can't tell\" into \"no emotion\""
   ]
  },
  {
   "cell_type": "code",
   "execution_count": 8,
   "metadata": {},
   "outputs": [],
   "source": [
    "data = data[data.is_there_an_emotion_directed_at_a_brand_or_product != \"I can't tell\"]"
   ]
  },
  {
   "cell_type": "code",
   "execution_count": 9,
   "metadata": {},
   "outputs": [
    {
     "data": {
      "text/plain": [
       "No emotion toward brand or product    5389\n",
       "Positive emotion                      2978\n",
       "Negative emotion                       570\n",
       "Name: is_there_an_emotion_directed_at_a_brand_or_product, dtype: int64"
      ]
     },
     "execution_count": 9,
     "metadata": {},
     "output_type": "execute_result"
    }
   ],
   "source": [
    "data.is_there_an_emotion_directed_at_a_brand_or_product.value_counts()"
   ]
  },
  {
   "cell_type": "code",
   "execution_count": 10,
   "metadata": {},
   "outputs": [
    {
     "data": {
      "text/plain": [
       "1    5389\n",
       "2    2978\n",
       "0     570\n",
       "dtype: int64"
      ]
     },
     "execution_count": 10,
     "metadata": {},
     "output_type": "execute_result"
    }
   ],
   "source": [
    "le = LabelEncoder()\n",
    "\n",
    "target = pd.Series(le.fit_transform(data.is_there_an_emotion_directed_at_a_brand_or_product))\n",
    "target.value_counts()"
   ]
  },
  {
   "cell_type": "markdown",
   "metadata": {},
   "source": [
    "0 = negative\n",
    "1 = no emotion\n",
    "2 = positive"
   ]
  },
  {
   "cell_type": "code",
   "execution_count": 11,
   "metadata": {},
   "outputs": [
    {
     "data": {
      "text/plain": [
       "0       .@wesley83 I have a 3G iPhone. After 3 hrs twe...\n",
       "1       @jessedee Know about @fludapp ? Awesome iPad/i...\n",
       "2       @swonderlin Can not wait for #iPad 2 also. The...\n",
       "3       @sxsw I hope this year's festival isn't as cra...\n",
       "4       @sxtxstate great stuff on Fri #SXSW: Marissa M...\n",
       "                              ...                        \n",
       "9088                        Ipad everywhere. #SXSW {link}\n",
       "9089    Wave, buzz... RT @mention We interrupt your re...\n",
       "9090    Google's Zeiger, a physician never reported po...\n",
       "9091    Some Verizon iPhone customers complained their...\n",
       "9092    Ï¡Ïàü_ÊÎÒ£Áââ_£â_ÛâRT @...\n",
       "Name: tweet_text, Length: 8937, dtype: object"
      ]
     },
     "execution_count": 11,
     "metadata": {},
     "output_type": "execute_result"
    }
   ],
   "source": [
    "data['tweet_text'].astype(str)"
   ]
  },
  {
   "cell_type": "code",
   "execution_count": 12,
   "metadata": {},
   "outputs": [],
   "source": [
    "# train test split\n",
    "X_train, X_test, y_train, y_test = train_test_split(data.tweet_text,\n",
    "                                                    target,\n",
    "                                                    random_state=42)"
   ]
  },
  {
   "cell_type": "code",
   "execution_count": 13,
   "metadata": {},
   "outputs": [],
   "source": [
    "sw = stopwords.words('english')\n",
    "regex_token = RegexpTokenizer(r\"([a-zA-Z]+(?:’[a-z]+)?)\")"
   ]
  },
  {
   "cell_type": "code",
   "execution_count": 14,
   "metadata": {},
   "outputs": [],
   "source": [
    "def get_wordnet_pos(treebank_tag):\n",
    "    '''\n",
    "    Translate nltk POS to wordnet tags\n",
    "    '''\n",
    "    if treebank_tag.startswith('J'):\n",
    "        return wordnet.ADJ\n",
    "    elif treebank_tag.startswith('V'):\n",
    "        return wordnet.VERB\n",
    "    elif treebank_tag.startswith('N'):\n",
    "        return wordnet.NOUN\n",
    "    elif treebank_tag.startswith('R'):\n",
    "        return wordnet.ADV\n",
    "    else:\n",
    "        return wordnet.NOUN"
   ]
  },
  {
   "cell_type": "code",
   "execution_count": 15,
   "metadata": {},
   "outputs": [],
   "source": [
    "def preprocess_text(text_list, tokenizer, stopwords_list):\n",
    "    \n",
    "    '''\n",
    "    Takes in a list of strings, a tokenizer, and list of stopwords and\n",
    "    returns a list lowercased, tokenized, removes stopwords,\n",
    "    and lemmatizes the words. \n",
    "    '''\n",
    "    \n",
    "    # lowercase\n",
    "    lower = [str(text).lower() for text in text_list]\n",
    "    \n",
    "    # tokenize\n",
    "    tokenized = [tokenizer.tokenize(tweet) for tweet in lower]\n",
    "    \n",
    "    # stopwords\n",
    "    no_stops = []\n",
    "    for item in tokenized:\n",
    "        temp = []\n",
    "        for token in item:\n",
    "            if token not in stopwords_list:\n",
    "                temp.append(token)\n",
    "        no_stops.append(temp)  \n",
    "    \n",
    "    # preparation for lemmatization\n",
    "    tags = [pos_tag(tokens) for tokens in no_stops]\n",
    "    \n",
    "    better_tags = []\n",
    "    for item in tags:\n",
    "        temp1 = []\n",
    "        for word in item:\n",
    "            temp1.append((word[0], get_wordnet_pos(word[1])))\n",
    "        better_tags.append(temp1)\n",
    "\n",
    "    # Lemmatization\n",
    "    lemmatizer = WordNetLemmatizer()\n",
    "\n",
    "    lem = []\n",
    "    for item in better_tags:\n",
    "        temp2 = []\n",
    "        for word in item:\n",
    "            temp2.append(lemmatizer.lemmatize(word[0], word[1]))\n",
    "        lem.append(temp2)\n",
    "        \n",
    "    preprocessed = [' '.join(i) for i in lem]\n",
    "    \n",
    "    return preprocessed"
   ]
  },
  {
   "cell_type": "code",
   "execution_count": 16,
   "metadata": {},
   "outputs": [],
   "source": [
    "testing123 = ['This is a test.', \"It's a list of sentences that I made up.\", \"I like to think that I'm cool!!!\"]"
   ]
  },
  {
   "cell_type": "code",
   "execution_count": 17,
   "metadata": {},
   "outputs": [
    {
     "data": {
      "text/plain": [
       "['this is a test.',\n",
       " \"it's a list of sentences that i made up.\",\n",
       " \"i like to think that i'm cool!!!\"]"
      ]
     },
     "execution_count": 17,
     "metadata": {},
     "output_type": "execute_result"
    }
   ],
   "source": [
    "lower = [str(text).lower() for text in testing123]\n",
    "lower"
   ]
  },
  {
   "cell_type": "code",
   "execution_count": 18,
   "metadata": {},
   "outputs": [
    {
     "data": {
      "text/plain": [
       "list"
      ]
     },
     "execution_count": 18,
     "metadata": {},
     "output_type": "execute_result"
    }
   ],
   "source": [
    "type(lower)"
   ]
  },
  {
   "cell_type": "code",
   "execution_count": 19,
   "metadata": {},
   "outputs": [
    {
     "data": {
      "text/plain": [
       "[['this', 'is', 'a', 'test'],\n",
       " ['it', 's', 'a', 'list', 'of', 'sentences', 'that', 'i', 'made', 'up'],\n",
       " ['i', 'like', 'to', 'think', 'that', 'i', 'm', 'cool']]"
      ]
     },
     "execution_count": 19,
     "metadata": {},
     "output_type": "execute_result"
    }
   ],
   "source": [
    "regex_token = RegexpTokenizer(r\"([a-zA-Z]+(?:’[a-z]+)?)\")\n",
    "tokenized = [regex_token.tokenize(tweet) for tweet in lower]\n",
    "tokenized"
   ]
  },
  {
   "cell_type": "code",
   "execution_count": 20,
   "metadata": {},
   "outputs": [
    {
     "data": {
      "text/plain": [
       "[['test'], ['list', 'sentences', 'made'], ['like', 'think', 'cool']]"
      ]
     },
     "execution_count": 20,
     "metadata": {},
     "output_type": "execute_result"
    }
   ],
   "source": [
    "no_stops = []\n",
    "for item in tokenized:\n",
    "    temp = []\n",
    "    for token in item:\n",
    "        if token not in sw:\n",
    "            temp.append(token)\n",
    "    no_stops.append(temp)   \n",
    "\n",
    "no_stops"
   ]
  },
  {
   "cell_type": "code",
   "execution_count": 21,
   "metadata": {},
   "outputs": [
    {
     "data": {
      "text/plain": [
       "[[('test', 'NN')],\n",
       " [('list', 'NN'), ('sentences', 'NNS'), ('made', 'VBD')],\n",
       " [('like', 'IN'), ('think', 'VBP'), ('cool', 'JJ')]]"
      ]
     },
     "execution_count": 21,
     "metadata": {},
     "output_type": "execute_result"
    }
   ],
   "source": [
    "tags = [pos_tag(tokens) for tokens in no_stops]\n",
    "tags"
   ]
  },
  {
   "cell_type": "code",
   "execution_count": 22,
   "metadata": {},
   "outputs": [
    {
     "data": {
      "text/plain": [
       "[[('test', 'n')],\n",
       " [('list', 'n'), ('sentences', 'n'), ('made', 'v')],\n",
       " [('like', 'n'), ('think', 'v'), ('cool', 'a')]]"
      ]
     },
     "execution_count": 22,
     "metadata": {},
     "output_type": "execute_result"
    }
   ],
   "source": [
    "better_tags = []\n",
    "for item in tags:\n",
    "    temp1 = []\n",
    "    for word in item:\n",
    "        temp1.append((word[0], get_wordnet_pos(word[1])))\n",
    "    better_tags.append(temp1)\n",
    "\n",
    "better_tags\n",
    "    \n",
    "        \n",
    "# doc = [lemmatizer.lemmatize(word[0], word[1]) for word in doc]\n",
    "\n",
    "\n",
    "# better_tags = [(i[0], get_wordnet_pos(i[1])) for i in tags]\n",
    "# better_tags"
   ]
  },
  {
   "cell_type": "code",
   "execution_count": 23,
   "metadata": {},
   "outputs": [
    {
     "data": {
      "text/plain": [
       "[['test'], ['list', 'sentence', 'make'], ['like', 'think', 'cool']]"
      ]
     },
     "execution_count": 23,
     "metadata": {},
     "output_type": "execute_result"
    }
   ],
   "source": [
    "lemmatizer = WordNetLemmatizer()\n",
    "\n",
    "lem = []\n",
    "for item in better_tags:\n",
    "    temp2 = []\n",
    "    for word in item:\n",
    "        temp2.append(lemmatizer.lemmatize(word[0], word[1]))\n",
    "    lem.append(temp2)\n",
    "\n",
    "lem"
   ]
  },
  {
   "cell_type": "code",
   "execution_count": 24,
   "metadata": {},
   "outputs": [
    {
     "data": {
      "text/plain": [
       "['test', 'list sentence make', 'like think cool']"
      ]
     },
     "execution_count": 24,
     "metadata": {},
     "output_type": "execute_result"
    }
   ],
   "source": [
    "processed = [' '.join(i) for i in lem]\n",
    "processed"
   ]
  },
  {
   "cell_type": "code",
   "execution_count": 25,
   "metadata": {},
   "outputs": [
    {
     "data": {
      "text/plain": [
       "['test', 'list sentence make', 'like think cool']"
      ]
     },
     "execution_count": 25,
     "metadata": {},
     "output_type": "execute_result"
    }
   ],
   "source": [
    "preprocess_text(testing123, regex_token, sw)"
   ]
  },
  {
   "cell_type": "code",
   "execution_count": 26,
   "metadata": {},
   "outputs": [
    {
     "data": {
      "text/plain": [
       "['mention android app know battery killer sxsw',\n",
       " 'interest rt mention apple open pop shop sxsw link sxsw sxswi popupshop apple',\n",
       " 'look like fun session sxsw quot mistake make build nextflix iphone quot link',\n",
       " 'fun w mention new check feature iphone see mention late article quot roll square quot link sxsw',\n",
       " 'cloud vc post nothing sxsw x startup founder amp ceo go dark side link tcn',\n",
       " 'rt mention marissa mayer google connect digital amp physical world mobile link sxsw',\n",
       " 'next sxsw head design ipad apps baby boomer wish apps yet tg',\n",
       " 'tech meet guy buy first ipad sxsw apple pop store link',\n",
       " 'rt mention rt mention best thing heard weekend sxsw quot give ipad money japan relief need ipad quot mention',\n",
       " 'rt mention design baby boomer john mcree ipad design sxsw yourmom',\n",
       " 'rt mention text quot sxsw quot chance win ipad draw friend sxsw must present win see ya link',\n",
       " 'future google map sxsw kia recall optimas top advertising news link',\n",
       " 'finally get new iphone tweet phone time sxsw gah torture addictedtotheinterwebs',\n",
       " 'rt mention fyi break google launch major new social network call circle today link via mention sxsw socialmedia',\n",
       " 'gotta love mention mention unabashed apple fanboy gt gt even begin apple win sxsw link',\n",
       " 'ipad tweet rid thru sxsw',\n",
       " 'next sxsw session agency need think like software company panel google amp barbarian group',\n",
       " 'google launch major new social network call circle possibly today update sxsw link',\n",
       " 'rt mention sxsw need best android dev html j issue need solve quickly handsome reward love grab',\n",
       " 'rt mention smmnextgen tool cheap google analytics excel buzzmetrics also radian altimeter sxsw sloansxsw',\n",
       " 'whrrl girl hand chance win audi car come find u sxsw mention apple store sxsw link',\n",
       " 'drop macbook pro walk sxsw ipad sound pretty appeal right somehow adapt overcome',\n",
       " 'arrive early get prime seat presentation google marissa mayer sxsw kek',\n",
       " 'queue google er bing talk spam ridiculous busiest see sxsw',\n",
       " 'everyone plane austin look like go sxsw mean apple product hipster clothes',\n",
       " 'user drive billion mile year google map navigation link via mention sxsw',\n",
       " 'great presentation touch story design digital magazine ipad link sxsw',\n",
       " 'apple marketing still impressive sxsw rt mention link',\n",
       " 'congrats bernd florian mention launch guguchu ticket terminal iphone app ahead sxsw link',\n",
       " 'apple two austin store week downtown presence change sxsw popup store link mention',\n",
       " 'rt mention new ubersocial iphone app store include uberguide sxsw sponsor mashable joepieee',\n",
       " 'mention omg best conference time ever google sxsw sqchat',\n",
       " 'google hot pot google yelp style functionality combine map direction user recommendation sxsw',\n",
       " 'mention rec give bad apple job mtg take note make mtg voluntary gt willing participant gamestorming sxsw',\n",
       " 'google launch major new social network call circle possibly today link sxsw',\n",
       " 'watch demo google hotpot people use sxsw',\n",
       " 'temporary apple store setup sxsw',\n",
       " 'want chance win ipad sxsw visit aquent booth link',\n",
       " 'someone go ask bing copy google search result qagb sxsw seo',\n",
       " 'race ballroom see mention marissa mayer sxsw sxswi',\n",
       " 'cnnmoney sxsw compute device big ipad pas mobile space buzz link wssxsw',\n",
       " 'rt mention awesome presentation digital magazine link touchingstories sxsw gsdm',\n",
       " 'hey user experience people sxsw mention manager ux ad mention amp booth front ballroom job',\n",
       " 'sxsw conf every people mac ipad include happened pc become obsolete',\n",
       " 'mention compete mention circle socialflow board resonant topic sxsw link',\n",
       " 'stupid technology always fail important time sxsw w iphone laptop blackberry thing work pen',\n",
       " 'need google lonelyboy mention talk time sxsw enchantment',\n",
       " 'rt mention ipad design tip look like physical object ppl interact like one quot sxsw tapworthy gsdm',\n",
       " 'mention think might quit resume tonight ipad iphone tethering happen good time sxsw',\n",
       " 'whoohoo get rt mention new ubersocial iphone app store include uberguide sxsw cont link',\n",
       " 'z lead follow link code valid p infektd sxsw zlf',\n",
       " 'stay alive indie iphone game development survive sxsw mention acc room ab w others link',\n",
       " 'late rt mention google launch socialnetwork sxsw today socialmedia fb',\n",
       " 'sxsw mention download torrent need put iphone',\n",
       " 'four day ipad sxsw weekend battlela',\n",
       " 'hold iphone use change visuals rt mention googledoodle sxsw fun panel intrigue marcin powerglove',\n",
       " 'look like hour late get ipad sxsw sadpanda',\n",
       " 'mention haha iphone sxsw',\n",
       " 'finish long day ready tomorrow start mention event end cupcake social sxsw',\n",
       " 'rt mention great longform panel mention much web content gear toward workplace read ipad kindle change sxsw jmc',\n",
       " 'people google sxsw din know either hip though',\n",
       " 'rt mention apple set pop store downtown austin sell bajillions ipad sxsw attendee course link',\n",
       " 'really great comparison review ipad ipad mention sxsw germanversion gt link',\n",
       " 'free track itunes sxsw feature artist link via mention',\n",
       " 'josh clark hate ipad back button heat million sun tapworthy sxsw',\n",
       " 'mention walk industry party gsdm amp google austin tx sxsw',\n",
       " 'toptweets rt mention rumor apple open temporary store downtown austin sxsw ipad launch link',\n",
       " 'rt mention rumor apple open temp store downtown austin sxsw amp ipad launch link',\n",
       " 'google launch facebook competitor circle mention sxsw today think creeper half friends world disappoint',\n",
       " 'go sxsw new iphone guide austin mention free march hard beat free lp',\n",
       " 'rt mention improve website ranking advice google amp bing sxsw link via mention',\n",
       " 'google marissa mayer say location everything link via mention sxsw',\n",
       " 'mention rt ubersoc new ubersocial iphone app store include uberguide sxsw cont link',\n",
       " 'nope mention launch social network sxsw link',\n",
       " 'create something new ipad create comfort ex nytimes look like newspaper tapworthy sxsw',\n",
       " 'ouch google v bing mention respect bing guy invite fill third chair sxsw',\n",
       " 'radio look new band radio show listen link link nowplaying newmusic sxsw pls rt',\n",
       " 'unload ipads link sxsw apple ipad',\n",
       " 'apple pop store austin smart link sxsw',\n",
       " 'surprise mention google launch major new social network call circle possibly today link sxsw',\n",
       " 'even begin apple win sxsw link via mention mention mention',\n",
       " 'aron pilhofer new york time design guru khoi vinh express scepticism ipad news apps sxsw link',\n",
       " 'rt mention interrupt regularly schedule sxsw geek program big news link google circle',\n",
       " 'look transit info u canada gtfs city go round transit developer google group sxsw transitapps',\n",
       " 'awesome rt mention apple temporary megastore sxsw could model future conference event link',\n",
       " 'hear marissa mayer google speak row back cool sxsw google',\n",
       " 'geen google circle vandaag rt mention launching product sxsw plenty else',\n",
       " 'nice find rsq mention link sxsw ipad app',\n",
       " 'rt mention rt rumor apple open temporary store downtown austin sxsw ipad launch link',\n",
       " 'gt gt mention google launch major new social network call circle possibly today link sxsw',\n",
       " 'apple set open popup shop core sxsw action ipad unveiling link',\n",
       " 'read coverage apple pop shop sxsw takeaway one figure agree punctuate pop shop',\n",
       " 'ipad big rt mention takeaway sxsw mobile absolutely necessary brand relevancy link',\n",
       " 'watch mention sxsw ecademy mention link gt gt fascinate amp true map save itme lot',\n",
       " 'apple open pop shop austin sxsw ipad release link via mention sxsw ipad',\n",
       " 'rumor apple open temporary store downtown austin sxsw ipad launch link via mention',\n",
       " 'rt mention get crave sxsw mind create app foodspotting link iphone apps',\n",
       " 'must resist buy ipad mention sxsw really want notionink adam instead apple store launch sxsw',\n",
       " 'rt mention apple open store sxsw link event news inagist',\n",
       " 'big takeaway sxsw interactive need iphone',\n",
       " 'rt mention absolutely rt mention timely good schtuff google people finder japan quake link iqlab sxsw',\n",
       " 'google map use mobile say mention sxsw',\n",
       " 'want ipad win link sxsw',\n",
       " 'contextual discovery part future accord google sxsw',\n",
       " 'wait ipad sxsw day link',\n",
       " 'line sxsw apple store oddly obnoxiously long hesayswithtwohoursleft',\n",
       " 'excellent tip mention go sxsw new iphone guide austin mention free march hard beat free lp',\n",
       " 'rt mention sxsw awesomeness apple open temporary store downtown austin sxsw ipad launch link',\n",
       " 'whats name song link imthetype ipad imthetype sxsw',\n",
       " 'heard android app bizzy challenge tdg check sxsw read link',\n",
       " 'rt mention link hear apple opening temporary store sxsw via mention',\n",
       " 'mention choice believe wore three apple genius process well ground sxsw',\n",
       " 'rt mention rt mention best thing heard weekend sxsw quot give ipad money japan relief need ipad quot mention',\n",
       " 'mention san listen others say happen ihearnetwork android sxsw yoroshiku onegai itashimasu',\n",
       " 'rt mention apple pop store line finally dwindle time check ipad sxsw',\n",
       " 'mention saw u r go sxsw dwnld groundlink app amp ride austin sxswi link see u booth',\n",
       " 'rt mention apple intel genentech atari cisco quot something venture quot trace risk taker write check link sxsw',\n",
       " 'apple open temporary pop store austin sxsw ipad launch link',\n",
       " 'mention rt mention marissa mayer google connect digital amp physical world mobile link sxsw',\n",
       " 'sxsw feature artist playlist available free link via mention free music',\n",
       " 'one leave ipad sxsw',\n",
       " 'awesome conversation network line sxsw apple store',\n",
       " 'anyone see pop store austin like cnn restaurant apple plus food truck sxsw apple',\n",
       " 'ipad launch buzz sxsw link via mention mention apple tablet marketing advertising ipod',\n",
       " 'watch twit live sxsw want go next year also want ipad content wait awhile always buy technology late anyway',\n",
       " 'iphone alarm botch timechange many sxsw er freak late flight miss panel behind bloody mary',\n",
       " 'rt mention ipad thing addition place print mention cut sxsw b newsapps panel',\n",
       " 'seattle sxsw peep today replacement iphone hand back action',\n",
       " 'woman great fessing issue admit google could better sxsw',\n",
       " 'goal funnel google analytics track registration srsly sxsw mitharvard',\n",
       " 'rt mention sxsw today mention amp iphone game mention amp mention celeb brand destination marketing',\n",
       " 'bjdproductions apple open pop store austin sxsw link tech',\n",
       " 'launch pop apple store sxsw quot vintage quot store format mostly ipods snarky employee ah good old day',\n",
       " 'ready mingle fellow sxsurrogates sxsw gsdm mention gsd amp google present industry party link',\n",
       " 'mention link get sxsw app yet android version schedule',\n",
       " 'hobo shotgun iphone game link sxsw',\n",
       " 'vestibule temp apple store min wait ipad amp g replenish supply sxsw',\n",
       " 'buy ipad mention makeshift sxsw apple store launch day fuck respect much wwsxsw',\n",
       " 'line ipad pop apple store outlandish entire week sxsw',\n",
       " 'third time charm gt gt gt google launch new social network sxsw cnet news link',\n",
       " 'big buzz year sxsw ipad course group chat text service like group yobongo know fb',\n",
       " 'sxsw good deed return lose iphone',\n",
       " 'great panel w guy fr mention mention mention amp google hotpot social recs def end recs discotalk sxsw sloanxsw',\n",
       " 'win ipad mention submit amp vote favorite quote sxsw link link',\n",
       " 'hello holler gram get know mention new ipad app link hollergram sxsw',\n",
       " 'san jose austin surround apple google peep every tech nerd dream time turn charm find new bff sxsw',\n",
       " 'sxsw apple set square foot temporary store sxsw sell new ipads test potential traffic link',\n",
       " 'apple set open sqft pop store congress ave sxsw link',\n",
       " 'rt mention best thing heard weekend sxsw quot give ipad money japan relief need ipad quot lt amen gt',\n",
       " 'google look future mobile location base device link sxsw',\n",
       " 'word austin apple pop store setup crew pm tom open ill sxsw',\n",
       " 'rt mention hair amp makeup station mention mention sxsw partylikeits link',\n",
       " 'google doc spreadsheet sxsw schedule ready view want let know',\n",
       " 'rt mention rt mention heard apple pop store dtwn austin pic already gowalla link sxsw pop pop',\n",
       " 'guy line apple pop store sixth street austin quot guy quot tell sxsw',\n",
       " 'rt mention apple finagle way earn brand awareness sxsw link harhar',\n",
       " 'google launch major new social network call circle possibly today link sxsw',\n",
       " 'rt mention google launch major new social network call circle possibly today link sxsw',\n",
       " 'ipad keep awake thank god buy sxsw',\n",
       " 'rt mention best thing heard weekend sxsw quot give ipad money japan relief need ipad quot',\n",
       " 'mean slice bread great google bread go revolutionary sxsw',\n",
       " 'anyone think go walk around sxsw old inferior ipad ipad release well wrong',\n",
       " 'first get papa sangre iphone panel amazing game totally awesome sxsw sxswi',\n",
       " 'apple open quot pop quot store sxsw rt mention smart well play fruit co link via mention',\n",
       " 'heh rt mention apple open temporary store downtown austin sxsw ipad launch link',\n",
       " 'rt mention platform concertgoers launch android app time sxsw link sxsw',\n",
       " 'hey vufinders awesome new update mention iphone app link x speedup object tag outside sxsw conf hour',\n",
       " 'rt mention next sxsw head design ipad apps baby boomer wish apps yet tg',\n",
       " 'quot google product need condense quot merissa mayor sxsw conference link',\n",
       " 'rt p ipad line apple store longer wide people one hour sxsw',\n",
       " 'break iphone news chris sacca tweet fake sxsw beta invite follower swarm ensues link',\n",
       " 'look forward smcdallas pre sxsw party wed hop win ipad result shameless promotion chevysmc',\n",
       " 'oh apple store look home downtown austin sxsw sxtxstate mention apple store sxsw link photo',\n",
       " 'mention good morning u enjoy sxsw ride anywhere austin dwnld groundlink app link booth',\n",
       " 'link mention new mobile app store circular via android blackberry io even austin amp sxsw link',\n",
       " 'normal scene sxsw ipad lap iphone hand link',\n",
       " 'z let body hit floor link code valid infektd sxsw zlf',\n",
       " 'dgtltribe sxsw openbeta ipad give away fantastic go squeeze',\n",
       " 'mention check late stream apple store sxsw link ipad come playsxsw',\n",
       " 'smart apple set square foot temporary store sxsw sell new ipads test potential traffic link aapl',\n",
       " 'rt mention well get line rt mention apple open temp store downtown austin sxsw amp ipad launch link',\n",
       " 'mention party photobooth sxsw donthate link mention',\n",
       " 'need charge sxsw talk sun iphone link boom',\n",
       " 'rt mention rt mention lose hour tonight sxsw attendee blame microsoft apple get credit fix christmas',\n",
       " 'rt mention new ubersocial iphone app store include uberguide sxsw link',\n",
       " 'minus hour social medium maven start perform degrade sex act iphone charge sxsw',\n",
       " 'great free music free track sxsw music sampler available mention mention fb',\n",
       " 'wow lot sxsw audience see vector pan google map mobile gasp appreciation',\n",
       " 'wonder fit ipad luggage pack austin hmmm sxsw',\n",
       " 'rt mention ipad thin could use cut line cocaine facetime mel gibson win ipad sxsw',\n",
       " 'google prefers launch hype new social feature meh bang via tc link sxsw',\n",
       " 'kick mingly sxsw apple tv day giveaway register win link win',\n",
       " 'rt mention rt mention ipad take sxsw video link sxswi',\n",
       " 'rt mention best thing heard wknd sxsw quot give ipad money japan relief need ipad quot',\n",
       " 'volunteer sxsw lot bore expect thumb already get tire extreme iphone usage',\n",
       " 'hop quot photobooth quot make google gsdm industry party mention monday night sxsw',\n",
       " 'smart entrepreneur would set line consignment shop help sell outdated ipad unit sxsw link',\n",
       " 'aron pilhofer new york time endorsed html ipad newsapps sxsw ask u tweet actually say',\n",
       " 'marissa mayer google connect digital amp physical world mobile link google sxsw mobile hotpot',\n",
       " 'free quot payment android platform quot webinar march th register today link sxsw mr',\n",
       " 'rt mention kick sxswi mention give away ipad visit fb page enter link sxsw',\n",
       " 'full sxsw touchingstories presentation link',\n",
       " 'rt mention mention would like data dashboard govt know like credit score google data dashboard sxsw',\n",
       " 'rt mention wow shakespeare pub th st delete button iphone video camera sxsw',\n",
       " 'thanks everyone come today good luck win ipad stop tomorrow chance win sxsw',\n",
       " 'mention gt rt mention new ubersocial iphone app store include uberguide sxsw link',\n",
       " 'rt mention apple popup store sxsw link sat open',\n",
       " 'child use ipad first time link uxdes sxsw',\n",
       " 'tweet new ipad jealous sxsw wssxsw',\n",
       " 'look like may able fork cash new ipad sxsw link',\n",
       " 'tech apple save sxsw set open pop store link',\n",
       " 'mention rt mention interrupt regularly schedule sxsw geek program big news link google circle',\n",
       " 'back big apple need wean new foursquare addiction thanks sxsw mention people really care nah',\n",
       " 'rt mention quot google name build get thing try quot marissa mayer sxsw frm mention',\n",
       " 'best thing abt mention sxsw bad as brunch w patio amp plenty free parking min n quot mess quot link',\n",
       " 'check mention rt mention line apple pop store austin open pm sxsw link',\n",
       " 'rt mention sweet get ipad nerd joke sxsw',\n",
       " 'mint goal iphone app top finance app sxsw',\n",
       " 'team android party come mention table amp show u appolicious app yr phone enter win nexus link sxsw',\n",
       " 'fun interactive map mention google party link sxsw',\n",
       " 'rt mention rt mention rumor apple open temporary store downtown austin sxsw ipad launch link',\n",
       " 'get join actsofsharing com start tonight person friend city end sxsw win ipad local',\n",
       " 'podcast social business summit austin link mention mention sxsw listen new iphone delight',\n",
       " 'load groupme app iphone load sxsw brother link',\n",
       " 'bad apple show late shoot ideas leave early meeting personality gamestorming sxsw',\n",
       " 'helpful austin relay user impart useful recon info sxsw apple store location thanks phil link',\n",
       " 'rt mention apparently google quot ad preference quot see google think like seenocreepy sxsw pnid',\n",
       " 'marketing genius apple open pop store outside sxsw link',\n",
       " 'mention saw u r go sxsw download groundlink app amp ride limo austin link see u booth',\n",
       " 'sxsw apple pop store still ipads stock wait line link via mention apple ipad',\n",
       " 'best thing abt mention sxsw proper cocktail w patio amp plenty free parking min n quot mess quot link',\n",
       " 'apple temporary retail store austin ipad release today open pm sxsw sxswi ipad',\n",
       " 'knit staircase attendance sxsw party tomo pm host mention amp mention link',\n",
       " 'catch mention hotel room day sxsw also tweet new ipad',\n",
       " 'thinking may actually take laptop sxsw ipad alone may enough trip',\n",
       " 'mention rt mention new ubersocial iphone app store include uberguide sxsw sponsor link',\n",
       " 'sxsw hotspot klout score score cluster mention mention mashup mention mention link',\n",
       " 'yayrt mention new ubersocial iphone app store include uberguide sxsw sponsor mashable link',\n",
       " 'rt mention lot chatter around google new social network circle sxsw kek',\n",
       " 'rt mention sxsw novelty ipad news apps fade fast among digital delegate link sxsw',\n",
       " 'rt mention download free track sxsw music sampler available mention store today link dtsxsw fb',\n",
       " 'sxsw tip make sure bring iphone charger recharge party cnnsxsw link',\n",
       " 'apple hp pop sxsw set temp site link austin atx austinbusiness',\n",
       " 'austin police hard work guard apple store sxsw link',\n",
       " 'rt mention awesome mention amp mention rank normal result quit ranking page view unique visitor analytics matter sxsw',\n",
       " 'rt mention google launch secret new social network call quot circle quot link sxsw',\n",
       " 'rt mention strange little japan news penetrates sxsw bubble bar tv cnn suggest anything ipad go',\n",
       " 'mention mention check link sxsw google',\n",
       " 'crazy rt mention woah dude sxsw get brand tattoo exchange ipad really link mention',\n",
       " 'guy get logo tattoo ipad link sxsw austin',\n",
       " 'sxsw folk lonely planet iphone guide austin free week link',\n",
       " 'mention head austin sxsw mention austin guide iphone free limited time link lp travel',\n",
       " 'think ipad eminent type thoughtful note phone work mac book big handwriting ridic sxsw day conquer',\n",
       " 'checkin sxsw crowley foursquare competitor google facebook',\n",
       " 'mention size get get apple pop store open sxsw',\n",
       " 'amaze apple pop austin store execute quickly week link via mention sxsw',\n",
       " 'next life come back ipad woman keep hand thing sxsw',\n",
       " 'lawn chair perfect keyboard dan drummer mist giant sxsw location link link',\n",
       " 'rt mention mention wow gold gym underneath apple store kind nutshell right sxsw',\n",
       " 'temporary apple store open mention th amp congress tomorrow ipad sxsw',\n",
       " 'quot reason google social technical quot sxsw comment',\n",
       " 'link rt mention st stop sxsw chaos amp mention hunt austin java get spy game chance win ipad',\n",
       " 'rt mention google preview update blogger interface sxsw link',\n",
       " 'day closer become owner ipad stoke thing get final sxsw',\n",
       " 'developer learn mobile accessibility sxsw android include browser access go link',\n",
       " 'rt mention apparently line get ipad sxsw store grow block block past min wut',\n",
       " 'google circle take facebook link circle sxsw',\n",
       " 'rt mention google launch major new social network call circle possibly today link sxsw via mention',\n",
       " 'rt mention sxsw slide gruber keep desk apple extend keyboard discontinue loud feel like writes well',\n",
       " 'rt mention rumor apple open temporary store downtown austin sxsw ipad launch link',\n",
       " 'temporary apple store sxsw line go around block link',\n",
       " 'casually mention forecast dow six day ahead base google mood analysis twitter data sxsw smvis imrich',\n",
       " 'survive sxsw mention live music app iphone android link',\n",
       " 'wonder sxsw crowd make line apple store elsewhere u short today',\n",
       " 'lose ipad corrupt iphone crazy hotel good time sxsw mention au austin bergstrom link',\n",
       " 'rt mention day sxswi wrap tracy shea mention rick bobby liebling mention link sxsw hotsheet',\n",
       " 'ipad delivery pop mention store mention quite possible sxsw sxswi link',\n",
       " 'helpful sxsw hint charge iphone ipad charger charge time',\n",
       " 'mention flow like water pop apple store downtown austin near sxsw know anyone still',\n",
       " 'time time restock business card charge ipad cell phone camera set alarm amp sleep day sxsw overload',\n",
       " 'check ipad design headaches tablet call morning sxsw link sxsw tapworthy',\n",
       " 'lovin digital mention band sings iphone amp play guitar app fan record vids ipad cnn digital cnngrill sxsw sxswi',\n",
       " 'group challenge come iphone app solve parent start issue sxsw',\n",
       " 'itunes free sxsw sampler feature selection year performer link',\n",
       " 'ipad leave apple store sxsw anyone know',\n",
       " 'google launch social network google circle point sxsw today link sxsw',\n",
       " 'wait eagerly google launch secret new social network call circle today sxsw gt gt new update',\n",
       " 'rt mention rt mention sxsw google apple ea game zynga facebook microsoft intuit go gaga go game link',\n",
       " 'apple release ipad sxsw huge win especially international attendee town show',\n",
       " 'build app map drive direction poll place google map sxsw pr',\n",
       " 'rt mention google launch major new social network call circle possibly today link sxsw',\n",
       " 'rt mention google build real time mention engine monitor illegal deforestation real time tech good sxsw',\n",
       " 'launchrock launch ipod ipad sky grab mention sxsw join find location launch link via mention',\n",
       " 'miss mention check google doodle burn man pac man beyond link sxsw',\n",
       " 'fear envy meanness lie hypocrisy link edchat musedchat sxsw sxswi classical newtwitter',\n",
       " 'rt mention launching product sxsw plenty else join u h ckers amp dance today link',\n",
       " 'rt mention woah expect google circle today sxsw google league extraordinary hacker event today big',\n",
       " 'mention g iphone hr tweet rise austin dead need upgrade plugin station sxsw',\n",
       " 'holy smoke ipad replace flip cam default video capture device beautiful elegant apple sxsw',\n",
       " 'mention qagb mention listen mention mention talk website rank google bing sxswi sxsw google bing',\n",
       " 'mention team android party mention mention walk dl appolicious app amp enter win free nexus androidsxsw sxsw',\n",
       " 'night end fireside pictionary w ipad sxsw werdorks',\n",
       " 'brought lunch take train sxsw last two day earn ipad frugality',\n",
       " 'rt mention sxsw go android live android marketplace new feature include sd card storage link via mention',\n",
       " 'one thing mention great get great earth face google company love sxsw sxwsi',\n",
       " 'rt mention cunning apple keep ipad popup store open late next sxsw party impulsive lat cont link',\n",
       " 'mention break thumbs iphone try oh many mention sxsw',\n",
       " 'knew localmind mention hit get huge press sxsw review earlier link localmind',\n",
       " 'hang mention mention google industry party good crowd sxsw',\n",
       " 'marissa meyer google new concept quot power quot link sxsw google',\n",
       " 'excellent deck rt mention nth time lucky google new social network launch maybe link sxsw',\n",
       " 'mention congrats iphone app feature sxsw',\n",
       " 'rt mention ipad upgrade new io yet tweetdeck unstable nten ntc sxsw sxswi',\n",
       " 'crazy apple temporary austin store post come pic sxsw',\n",
       " 'temporary apple store sxsw really cool ipad apple sxsw fanboy',\n",
       " 'google hotpot yelp killer impressive integration personalize recommendation really fast mention sxsw',\n",
       " 'mention mention rumor apple open temporary store downtown austin sxsw ipad launch link',\n",
       " 'first person stop booth sxsw amp show ipad run one apps win free snakeheead tee shirt sxsw',\n",
       " 'rt mention much fun hand chance win audi car mention sxsw mention apple store sxsw link',\n",
       " 'mention amp mention need go sxsw download sxsw sampler free ballinonabudget link',\n",
       " 'rt mention mypov winner popup apple store chevy cruze loser investor prop frothy startup w enterprise strategy sxsw',\n",
       " 'play ipad black white sxsw link',\n",
       " 'pressure ahem excuse buy mount rt mention ipad must gadget sxsw link via mention',\n",
       " 'instal geoloqi android track sxsw movement link',\n",
       " 'remember mention last campaign amp upcoming sxsw event link new album drop link',\n",
       " 'rumor apple set temporary store ipad release near sxsw convention center downtown austin link sxsw ipad',\n",
       " 'google give social another go link google circle let see guys sxsw make',\n",
       " 'lonely planet new iphone austin city guide free march go sxsw link travel',\n",
       " 'mention ahoy let reader know keep em updated sxsw party w eventseekr android link iphone app way',\n",
       " 'japan docomo introduce mobile apps six year apple come app store jpmobilesummit sxsw',\n",
       " 'technology apple head sxsw set temporary store austin apple go sxsw year link tech',\n",
       " 'could fun provide sxsw mis direction w fictitious party amp giveaway wtf apple give away ipad ihop',\n",
       " 'rt mention morning everyone ipad giveaway sxsw close v shortly need sign link enter go',\n",
       " 'thanks free drink google sxsw mention speakeasy w others link',\n",
       " 'chris sacca tweet fake sxsw beta invite follower swarm ensues link ipad',\n",
       " 'interesting fact take consideration preso paul adam rt mention google circle sxsw',\n",
       " 'apparently mobile sxsw go app compatible w iphone suggestion good mobile aps sxsw thanks',\n",
       " 'hoot new blog post hootsuite mobile sxsw update iphone blackberry amp android link',\n",
       " 'attend mobile accessibility panel sxsw would interest learned esp access blind android etc',\n",
       " 'barry diller newsbeast merger might work barry diller link news barry diller iac newsweek sxsw cyber iphone',\n",
       " 'way look spanish speak trend scout base austin gt link sxsw',\n",
       " 'people think rumor quot social networking quot program google call circle late game sxsw',\n",
       " 'charge iphone battery download hipstamatic pack sxsw edition link',\n",
       " 'get back door invite google party goona network as sxsw',\n",
       " 'rt mention best thing heard weekend sxsw quot give ipad money japan relief cont link',\n",
       " 'rt mention rt mention quot google tweet quot new quot think speak quot mark belinsky tweet panel sxsw',\n",
       " 'rt mention sxsw download free music mix itunes link cc mention',\n",
       " 'rt mention get good content google bing love seo rank sxsw link',\n",
       " 'tim get one rt mention apple employee show force sxsw popup apple store ipad',\n",
       " 'rt mention official sxsw app sxsw go link android iphone ipad',\n",
       " 'great blog late news sxsw like open apple store link sxsw mention',\n",
       " 'rt mention google circle toast convince facebook user start account interface fb sxsw',\n",
       " 'google map street view car sight sxsw link',\n",
       " 'anyone know time apple popup store austin close tonite sxsw sxtxstate ipad apple',\n",
       " 'rt mention dawn ipad app week early help prep sxsw link',\n",
       " 'believe build sxsw apple store day link',\n",
       " 'rt mention mention google take mic health dev sxsw',\n",
       " 'rt mention sxsw rt mention wow apple right thing japan must read link',\n",
       " 'mention mention apple open temp rd store sxsw sell new ipad handle xtra sale link',\n",
       " 'per rumor google may preview big social strategy theme costume party sxsw yep link cnet',\n",
       " 'sxsw meet author host android devs sit pm hilton room ab',\n",
       " 'new ipad apps speech therapy communication showcased sxsw mention link',\n",
       " 'grow men play lego google party sxsw mention speakeasy link',\n",
       " 'shout ukraine link mention mention html validation need ranking link sxsw',\n",
       " 'sad face rt mention launch product sxsw join u h ckers amp dance today link',\n",
       " 'rt mention pepsicostage yesterday check bag may ipad screen tell mine sxsw',\n",
       " 'qagb sxsw timely rt mention bing search engine share continue rise google still top link',\n",
       " 'rt mention new post mention iphone app make easy connect social network people meet link sxsw',\n",
       " 'marissa mayer vp search google live sxsw moment link',\n",
       " 'spark android teamandroid award sxsw read link',\n",
       " 'mention back sxsw brought ipad slip bag jammy bugger',\n",
       " 'rt mention apple pop shop sxsw cool link',\n",
       " 'mention u r come sxsw dwnld groundlink app amp ride austin sxswi link see u booth',\n",
       " 'enjoy berkowitz talk rfid ncf impact mobile retail would carry nfc phone google bullish sxsw ballroom e',\n",
       " 'ipad mention apple store sxsw photo thanks mention mention mention gappacker flavugm marcusross jordanbell link',\n",
       " 'sxsw help mention charge iphone newtrent imp battery pack love thing unpaid endorsement',\n",
       " 'rt mention enchantment get trustworthiness zappos likeability virgin product apple mention sxsw',\n",
       " 'download sxsw go mobile app blackberry android iphone ipad windows phone link sxsw sxsw android',\n",
       " 'last year single ipad public sxsw today common laptop see android tablet',\n",
       " 'enjoy learn mention experimentation product strategy fr mention sxtxstate sxsw link',\n",
       " 'link edchat musedchat sxsw sxswi classical newtwitter rt mention',\n",
       " 'native apps ipad etc accessibility design guideline wcag still apply poursite sxsw',\n",
       " 'rt mention rt mention come check mention ipad app demo arm sxswparty mon link sxsw sxsw',\n",
       " 'google map use mobile sxsw',\n",
       " 'rt mention best thing heard wknd mention sxsw quot give ipad money japan relief need ipad quot mention mention',\n",
       " 'great legal panel internet privacy security free speech issue w google facebook aclu attys sxsw',\n",
       " 'sxsw begin w add panel hyperactivity amp distraction use ipad iphone bb multiple time last min workinprogress',\n",
       " 'rt mention rt mention google launch major new social network call circle possibly today link sxsw',\n",
       " 'rt mention sxsw apple school marketing expert link via mention sxsw apple marketing',\n",
       " 'apple popup store sxsw link gonnagetanipad',\n",
       " 'kick w mention talk ipad design headache sxsw',\n",
       " 'gingerman gent kilt play ipad nnnneeerrrrddddsss sxsw',\n",
       " 'mention price discriminate android user contact doingsocialmediawrong sxsw',\n",
       " 'rt mention quot reason google social technical quot sxsw comment',\n",
       " 'sure link double rainbow kind day right google sxsw',\n",
       " 'check quot mistake make build netflix iphone quot go cool always learn mistake sxsw',\n",
       " 'almost get plowed stampede woo apple employee run open store sxsw',\n",
       " 'confirm apple pop store mention th congress austin line bad right sxsw link',\n",
       " 'sxsw apple school marketing expert link via mention sxsw apple marketing',\n",
       " 'meet guy buy first ipad sxsw apple pop store link',\n",
       " 'add apple pop shop sxsw mention list gt link',\n",
       " 'new social medium tool rt mention google launch major new social network quot circle quot possibly today link sxsw',\n",
       " 'rt mention rt mention location location location link via mention google sxsw yam',\n",
       " 'get look google impact dashboard first time sxsw',\n",
       " 'apparently sxsw apple store line minute moment',\n",
       " 'new product idea pant build iphone charge dock build pocket sxsw',\n",
       " 'mention mention party without doubt best party ever sxsw well do',\n",
       " 'panel get head ipad say quot link loud newsapps sxsw',\n",
       " 'mention like ipad line sxsw could sell space exercise class',\n",
       " 'google circle happen lose sxsw',\n",
       " 'rt mention come aquent booth sxsw learn internetonlinewebsite com meet u amp enter win ipad',\n",
       " 'smart apple open pop store austin people sxsw get new ipads bite ly h via mention mention',\n",
       " 'anyone else use hashable network sxsw week try android version',\n",
       " 'even bear yet rt mention google sxsw party theme quot party like quot mention maggie mae pic link',\n",
       " 'free sxsw fluffertrax radio iphone app link',\n",
       " 'head sxsw host android dev meetup pm detail follow let plan geeking',\n",
       " 'use mention quot pulse quot tool see verizon iphone daylight save glitch impact sxsw chatter',\n",
       " 'woman google talk sound like chelsea handler lol sxsw',\n",
       " 'cool apple open temporary store sxsw link sxsw',\n",
       " 'n sheep slaughter link code valid p infektd sxsw necro',\n",
       " 'google name build gettinng stuff try user see work marissagoogle sxsw',\n",
       " 'plane full gogglers google marketer tell friend like community read newspaper brings sxsw',\n",
       " 'thank rt mention pick mention book killer photoes iphone sxsw sxswchi link sxswi',\n",
       " 'anyone sxsw buy new ipad want sell old ipad',\n",
       " 'apple pop store making appearance austin sxsw link',\n",
       " 'rt mention detail ipad giveaway come tonight rt sxsw sxswi',\n",
       " 'marissa meyer demo google augment reality sxsw link',\n",
       " 'grab one twin girl sxswnl rt mention sxsw ipad store sell everything except gig wifi white',\n",
       " 'sxsw novelty ipad news apps fade fast among digital delegate link via mention sxsw xipad',\n",
       " 'could google buy sq one way could work together say mention apis another checkins sxsw',\n",
       " 'marissa mayer mention future ar quot contextual discovery quot image location personalize context recommendation sxsw',\n",
       " 'google announce google circle social network sxsw link seo sem googlecircles topnews',\n",
       " 'could murphy usa good serve inside google map phone google announce great feature v sxsw',\n",
       " 'congrats mention win last mention ipad case boyfriend aw sxsw cbatsxsw',\n",
       " 'app think going ons sxsw ipad hollergram link',\n",
       " 'rt mention google launch social network google circle point sxsw today link sxsw',\n",
       " 'wish amp boomer stop disable zoom iphone amp ipad apps sxsw yourmom',\n",
       " 'woman plane next nook blackberry curve android ipad purse sxsw',\n",
       " 'spark select finalist team android choice award austin please come amp support link sxsw',\n",
       " 'google introduce check status reward sxsw mobile link',\n",
       " 'ever get high buying product probably apple queue line normal sxsw link',\n",
       " 'developer awesome name event rt mention join league extraordinary h ckers sxsw link',\n",
       " 'google launch social network may independent ie link sxsw',\n",
       " 'line apple pop store austin open pm sxsw link',\n",
       " 'mention start use android app totally killer service think huge sxsw hope server ready',\n",
       " 'collect value user use software amp hardware amazon google sxsw timoreilly',\n",
       " 'google party sxsw huge antigov lobby initiative invoke privacy puregenius link',\n",
       " 'rt mention give away shiny ipad sxsw quotables simply sign enter automatically gt gt link ipad sxsw',\n",
       " 'google brain spent weekend answer search query sxsw attendee worry search google stay google',\n",
       " 'google rooftop hack party lego mindstorms sxsw mention speakeasy rooftop link photo',\n",
       " 'rd time charm privacy rt mention google launch new social network circle maybe today link sxsw',\n",
       " 'anybody know apple pop store sxsw',\n",
       " 'rt mention new ubersocial iphone app store include uberguide sxsw sponsor mashabl cont link',\n",
       " 'rt mention sxsw join u drink tonight pm fado irish pub th link love meet',\n",
       " 'marissa mayer take phone location data ski hill lay elapsed movement skiiers onto google map sxsw',\n",
       " 'come aquent booth sxsw learn internetonlinewebsite com meet u amp enter win ipad',\n",
       " 'rt mention crazy look around sxsw realize last year one ipad sxsw',\n",
       " 'good cnn article sxsw important social web innovator link bring griddler ipad app',\n",
       " 'rt mention hey austin know little iphone android love music amp wanna make hour sxsw please let know',\n",
       " 'join actsofsharing com tonight person friend city end sxsw win ipad',\n",
       " 'rt mention black white ipad sxsw ipad',\n",
       " 'hootsuite mobile sxsw update iphone blackberry amp android share paul link share',\n",
       " 'top story sxsw apple school marketing expert thousand town demonstrate social mar link sxswi',\n",
       " 'rt mention big idea google leave nothing leave discover link sxsw sxswi',\n",
       " 'cnn launch quot tv everywhere quot service mobile google tv computer link sxsw',\n",
       " 'rt mention sxsw quotables give away ipad today need sign link enter automatically sxsw',\n",
       " 'louis vuitton iphone app call amble digitalluxury sxsw',\n",
       " 'rt mention keep new japan quake iphone sxsw nhk world tv live link',\n",
       " 'google show preview next gen blogger interface sxsw link cnet',\n",
       " 'rt mention quot google map usage mobile quot marissa mayer sxsw',\n",
       " 'best newly add iphone app go mention awesome sxsw come one day one amazing day',\n",
       " 'sxsw worthy since know ux rt mention mention product iphone period ux',\n",
       " 'phone mention demo google phone go see iphone sxsw',\n",
       " 'mention check rt mention sxsw free app festival explorer find band want see music taste link',\n",
       " 'bettercloud sxsw presenter amp austin native john wiley happen chief engineer behind google search',\n",
       " 'mention thanks share news mention thought news mention link sxsw',\n",
       " 'rt mention rt mention crazy look around sxsw realize last year one ipad sxsw',\n",
       " 'awesome iphones etc amp wifi frozen sxsw tmobile teathering android g work like charm',\n",
       " 'rt mention man google launch circle sxsw talk strike iron hot mention mention',\n",
       " 'mention launch circle later today sxsw gotta love sxsw one platform everything independent film innovative tech',\n",
       " 'rt mention rt mention google launch major new social network call circle possibly today link sxsw cool',\n",
       " 'rt mention mention mention google launch social networking site call circle soon officially sxsw link',\n",
       " 'apple open pop store downtown austin sxsw ipad launch link',\n",
       " 'woot rt mention first android mention disc link market version come soon sxsw',\n",
       " 'k quot high quality pdf quot ipad app good investment small mag say chris tomlinson formerly texas ob ap sxsw',\n",
       " 'google social network rumor launch soon googlecircles gsdm sxsw link',\n",
       " 'hope u keep tha nxdc app rt mention app sxsw iphone download',\n",
       " 'rt mention barton hollow free song download amp feature album mention mention feature mix link itunes sxsw',\n",
       " 'mention new ubersocial iphone app store include uberguide sxsw sponsor mashable link fin ly',\n",
       " 'interview w marissa mayer sxsw google work larry different work eric link',\n",
       " 'google map mobile demonstration rock world sxsw uosxsw marissamayer',\n",
       " 'lightbox photo want new android camera app link sxsw',\n",
       " 'panel quot mom ipad design boomer quot sxsw',\n",
       " 'rt stevecase google launch major new social network call circle link sxsw',\n",
       " 'yay rt mention flipboard next platform iphone ceo mention say sxsw',\n",
       " 'idea combine google analytics tool know website program something sxsw bavcid',\n",
       " 'turn twitter sxsw ipad forgotten',\n",
       " 'someone hold ipad giant like love sxsw',\n",
       " 'nice people go sxsw fun check twit twig mention mention mention android podcasters',\n",
       " 'late moose tracker apple creates pop store downtown austin showcase new ipad link sxsw',\n",
       " 'rt mention rt mention travel sxsw ipad via mention',\n",
       " 'another great spreadsheet sxsw party link',\n",
       " 'rt mention apple pop store selling ipad sxsw link via mention tech retail',\n",
       " 'bad want go home read google reader feed geek sxsw',\n",
       " 'omg table next u pass around ipad hipstermuch sxsw',\n",
       " 'sxsw even cabby tech savvy iphone stream twitter mention link',\n",
       " 'rt mention go sxsw need lift airport register free mention shuttle link',\n",
       " 'man google launch circle sxsw talk strike iron hot mention mention',\n",
       " 'rt mention sxsw come see bitbop austin gdgtaustin purevolume house trinity monday march th link',\n",
       " 'sxsw enchantment mention quot like say please register go google quot hahah',\n",
       " 'cnn launch quot tv everywhere quot service mobile google tv computer link sxsw via mention',\n",
       " 'need sxsw ipad iphone laptop dictaphone vid camera wow love meet real cerebellum charge people',\n",
       " 'million dollar save one company adoption google doc incenticize team evolvingworkplace sxsw',\n",
       " 'mention go android program link mention mention speak sxsw ctia want learn',\n",
       " 'rt mention futuremf trajan google destroy lt title gt tag websites seo open graph protocol add clean title tag instead sxsw',\n",
       " 'rt mention film ipad much cooler lame iphone sxsw mention live show link',\n",
       " 'rt mention eww lol rt mention saw guy tweet ipad peeing sxsw',\n",
       " 'wooooo mention release discovr iphone time sxsw new feature link',\n",
       " 'rt mention rt mention apple set open popup shop core sxsw action link via mention',\n",
       " 'rt mention apple open temp store austin sxsw link via mention ipad',\n",
       " 'well live cloud compute sxsw session john wiley google bettercloud link link',\n",
       " 'mention hey come fast company grille hungry mention zazzlesxsw get customizable iphone case sxsw',\n",
       " 'million mobile google map user mention sxsw',\n",
       " 'rt mention mention yes know use little quot jazz hand quot say pushio ipad win sxsw sxswi',\n",
       " 'awesome new version mention iphone new web site come sxsw want demo meet mention sxsw pls rt',\n",
       " 'marissa mayer presentation sxsw demo google map version mobile pretty impressive',\n",
       " 'rt mention offer sxsw ipad promo ninjafinder user fan sxsw suck sxsw',\n",
       " 'google deep eddy sweet tea vodka gsdm cool factor sxsw mention gsd amp w others link',\n",
       " 'cool rt mention rt mention rumor apple open temporary store dt atx sxsw amp ipad launch link',\n",
       " 'never apparent sxsw nice would apple make stuff w removable battery alwayshavingtoplugin gsdm',\n",
       " 'rt mention prepare sxsw talk google doodle mention fun friday pm link',\n",
       " 'mention buy new ipad mention geekdate apple sxsw ipad',\n",
       " 'buy ipad turn ur ipad apple store wipe clean donates school mrs job idea apple ipad sxsw',\n",
       " 'rt mention best ipad design big chunky element generous space clarity trump density tap quality trump tap quantity tapworthy sxsw',\n",
       " 'amaze new app mobil worker link mention iphone app telework sxsw',\n",
       " 'sxsw mistake make build mention iphone plus see source code link',\n",
       " 'update hbs startuptribe meet sxsw sat pm info gt link drink mention student check back change',\n",
       " 'google launch major new social network call circle possibly today update happen sxsw link',\n",
       " 'temp apple tore set sxsw yay link austin tech',\n",
       " 'rt mention rt mention line mention pop deep line mention crossroad closer big demand liz phair sorry ipad sxsw',\n",
       " 'finally get everyone buy facebook google introduces circle fair stop innovation people sxsw',\n",
       " 'special apple store open th congress sxsw amp ipad launch www apple com retail thedomain apple ipad sxsw fb',\n",
       " 'mashable ipad take sxsw video ipad sxsw gadget link link',\n",
       " 'rt mention google quot get lot good quot protect user privacy location base tool past month say mayer sxsw',\n",
       " 'google tweet rt mention might stupid question exactly sxsw',\n",
       " 'blackout hotel true sxsw form shower light ipad',\n",
       " 'rt mention rt mention rumor apple open temporary store austin sxsw amp ipad launch link',\n",
       " 'rt mention google launch major new social network call circle possibly today mention link via mention sxsw',\n",
       " 'please rt follow next big college social network mention chance win ipad follower socialmedia sxsw',\n",
       " 'google marissa mayer next sxsw look forward',\n",
       " 'rt mention mention google launch major new social network call circle possibly today link sxsw',\n",
       " 'get turkey rt mention random apple fan buy lunch everyone line sxsw popup apple store ipad cc mention',\n",
       " 'mention mention tweethouse ipad sxsw dotco',\n",
       " 'mention oh hey remember even bring laptop sxsw panel ipad life',\n",
       " 'accord marissa mayer google map usage mobile sxsw',\n",
       " 'google circle sxsw whoooooo link',\n",
       " 'rockin party lake party google aclu sxsw mention maggie mae link',\n",
       " 'rockin ipad downtown apple sxsw store apple',\n",
       " 'rt mention per rumor google may preview big social strategy mention theme costume party sxsw yep link cnet',\n",
       " 'rt mention see member team carry one bag sxsw show wolfram app amp get w iphone case link',\n",
       " 'get vmware talent community ipad app rockin signing talented professional tonight find sxsw link',\n",
       " 'google seem sabotage youtube account wtf try entire online ecosystem bad form sxsw',\n",
       " 'rt mention qrafter well pay free qr code apps scan vcards also download qrcode iphone sxsw',\n",
       " 'mention reason keep parakeet employ link keep track lady sxsw link',\n",
       " 'craziness ipad sxsw mention apple store sxsw link',\n",
       " 'google launch new social network call circle south southwest today link sxsw circle google',\n",
       " 'sxsw marissa mayer favorite non google product swiss watch buy intern year ago bring simplicity goog',\n",
       " 'listen mention discus new interaction paradigm design ipad uxdes sxsw',\n",
       " 'wow rt mention yes gowalla win best andoid app team android choice award thanks sxsw',\n",
       " 'everyone buying ipad feel like dinosaur version blackberry pc sxsw like apple convention sxsw',\n",
       " 'apple deliberately choose march ipad availability know large chunk customer base sxsw',\n",
       " 'save ipad photo apple store sxsw link mention mention mention mention jerranalley tbalinas',\n",
       " 'rt mention rt mention google launch people finder service japan earthquake tsunami link tnooz wssxsw sxsw scrm',\n",
       " 'people line pop apple store sxsw',\n",
       " 'austin mention witness homeless guy give detailed ipad inventory info passerby austin popup store sxsw',\n",
       " 'wish list tech ntn sxsw google apps help level play field kid may software home',\n",
       " 'itunes offer free sxsw sampler feature selection year performer link itunes sxsw',\n",
       " 'unexpected bonus wake make sxsw flight order ipad right release',\n",
       " 'rt mention apple two austin store week downtown presence change sxsw popup store link mention',\n",
       " 'rt mention spin play new concept music discovery ipad mention amp spin com link itunes sxsw mention',\n",
       " 'scavenger hunt game business release app iphone sxsw link',\n",
       " 'another late start sxsw sxswi damn google rock party',\n",
       " 'w mention write hollergram ipad app sxsw link',\n",
       " 'mention sound like hire apple pitch product sxsw',\n",
       " 'rt mention mention mention sxsw quot apple come w cool technology one ever heard go conference quot',\n",
       " 'really want braille mention shirt see people sxsw wear maybe ask guy booth next door',\n",
       " 'rt mention go sxsw check w friend austin w location base apps link lb',\n",
       " 'mention awesome meet mention mention mention stand apple queue sxsw yesterday day lt lt cute',\n",
       " 'google launch major new social network call circle possibly today link sxsw',\n",
       " 'st injury sxsw bicycle stupid concrete ouch link fortunately still able type iphone schedule',\n",
       " 'mention talk mistake make build netflix iphone sxsw netflixiphone',\n",
       " 'review probably download sxsw torrent make thing slow link',\n",
       " 'frustrate zeldman autocorrects zelda iphone jzsxsw sxsw',\n",
       " 'head mention shortly record video popup apple store southby expect big ipad sale sxsw',\n",
       " 'unload apple store corner th congress austin temp store sxsw link',\n",
       " 'steve job position iphone device make china suicide rate high sell dream kawasaki thisisdare sxsw',\n",
       " 'google launch major new social network call circle update link launch sxsw soon care',\n",
       " 'google launch major new social network call circle possibly today mention link via mention lt sxsw curious',\n",
       " 'model one rt mention sxsw quot apple come cool tech one ever hear cuz go conference quot',\n",
       " 'temp apple store great move really need help brand recognition seriousness pretty cool sxsw',\n",
       " 'totalitarian think action people worldwide come austin tx sxsw decide spend time line apple store',\n",
       " 'omg probably people session already ipad sxsw',\n",
       " 'rt mention ipad take sxsw video link',\n",
       " 'mention nice sxsw song mention hack write rail deliver sell work google link',\n",
       " 'wait mention trollfoot appearance sxsw apple store c mon',\n",
       " 'ipad get temporary apple store sxsw link apple applestore ipad sxsw verizon',\n",
       " 'sxsw moment walk look iphone nearly run mention mention acc',\n",
       " 'woman lobby quot website call like stupid iphone speller ppl take pic funny autocorrected word quot sxsw',\n",
       " 'sxsw app iphone live rsvp event phone amp check sundayswagger eventbrite com scoremore',\n",
       " 'give away ipad panel wish luck sxsw',\n",
       " 'apple set open popup shop core sxsw action link',\n",
       " 'google calendar saturday night giant overlap sxsw party',\n",
       " 'google circle launch today sxsw new facebook killer link',\n",
       " 'settle first sxsw session battledecks miss last year would perfect time hollergram ipad app',\n",
       " 'server challenge huge hit sxsw come booth try hand win iphone bottle opener case beating min',\n",
       " 'tm litle girl want ipad guess get get one sxsw check apple pop store link',\n",
       " 'mention something call google place hotpot work recommendation engine sxsw',\n",
       " 'ipad smartcover open instant access wait get one link apple sxsw',\n",
       " 'get green check mention live austin sxsw check show schedule gt link',\n",
       " 'must see android app sxsw quot bizzy quot link',\n",
       " 'iphone user kill yo self u hat ubertwitter new ubersocial iphone app store include uberguide sxsw',\n",
       " 'two thumbs popplet nice mind map app ipad great take note sxsw',\n",
       " 'big takeaway uxdes thus far bring physical world ipad design amp recreate already learn experience sxsw',\n",
       " 'ipad rear face camera get link sxsw',\n",
       " 'surround tat piercings live music gadget galore yep hipster heaven google gsdm welivehere wepartyhere sxsw',\n",
       " 'rt mention mention record cover exclusively apartmovie produce dan auerbach buy link sxsw',\n",
       " 'crowley grow foursquare competitor facebook amp google checkins sxsw ketchsx',\n",
       " 'rt mention apple sxsw pop store ipad sayeth mention link',\n",
       " 'complete android guide print sale sxsw bookstore today include cent upgrade ready ebook signing',\n",
       " 'understand people pay travelled way sxsw would wait hour get ipad esp already ipad',\n",
       " 'wish sxsw right lot action take place sure fun nevertheless google find ton news',\n",
       " 'fiendishly clever pop apple store selling ipad sxsw mention apple store sxsw link photo',\n",
       " 'sound voice shot exploit apple amp best buy day return policy imacs brilliant sxsw link',\n",
       " 'shame mention rt mention confirm apple store week popup austin sxsw co v jwekn v mention give u credit',\n",
       " 'late game work iphone ipod link hobo shotgun make w mention sxsw mention',\n",
       " 'oh quot download free iphone app sort social networking kind thing quot sxsw fail',\n",
       " 'anyone news sxsw ipad must course link',\n",
       " 'rt mention happy woman day make love fuss link edchat musedchat sxsw sxswi classical newtwitter',\n",
       " 'watch live tsunami apple ipad line austin sxsw mostly mention oh sexy mention',\n",
       " 'rt mention brilliant move apple even begin apple win sxsw link',\n",
       " 'check design android sxsw link sxsw uxamandroid',\n",
       " 'great museum naive presentation google art project funny cool sxsw',\n",
       " 'geeking rt mention wait line apple product miss important rite passage sxsw',\n",
       " 'sxsw l mention iphone amp come uj booth acc hall snap pic amp send em u fightthepaddle link',\n",
       " 'first apple product launch plague twitter stream sxsw',\n",
       " 'great see bank money startup recognize future relevance corp like apple google bankinnovation sxsw',\n",
       " 'need twitter app recommendation new ipad thought sxsw',\n",
       " 'sxsw predicts group texting next big thing fast society come android amp update iphone app link via mention',\n",
       " 'clever ipad come first day sxsw pop apple store right indoor town austin clever',\n",
       " 'google launch major new social network call circle possibly today link rt mention sxsw',\n",
       " 'rt mention google people work people rather people work agileagency sxsw',\n",
       " 'rt mention quot future local contextual discovery quot google mayer argue exceptionally valuable search sxsw',\n",
       " 'friendly reminder sxsw attendee talk text film slap mouth amp steal ipad',\n",
       " 'see lot tablet every single one ipad sxsw',\n",
       " 'mention austin mention sxsw link',\n",
       " 'rt mention iphone amigos mention app change broadcastr bestappever sxsw',\n",
       " 'go sxsw today share photo video ireport link cnn iphone app',\n",
       " 'rt mention launching product sxsw plenty else link lt lt circle new apps ftrs',\n",
       " 'release today mention spin play spin magazine ipad app download st issue free link sxsw',\n",
       " 'new sxsw rule ooing ahing new ipad get big deal everybody one',\n",
       " 'sxsw startup elevator pitch minute ogilvy sydney sxsw podcast ep ausxsw link',\n",
       " 'talk mention begin first meet summer start mention always enjoy see speak sxsw',\n",
       " 'yet sxsw ipad pop store flawless rt mention apple ipad launch poor plan apple part link',\n",
       " 'rt mention rt mention give away ipad kick time sxsw visit fb page info link',\n",
       " 'route around traffic google map save user year worth time everyday sxsw',\n",
       " 'woke sandwich iphone ipad forget much sxsw like geek spring break',\n",
       " 'yes gowalla win best andoid app team android choice award thanks sxsw',\n",
       " 'line th amp congress enter new apple store wrap around block sxsw',\n",
       " 'hey u gt gt go game launch iphone scavenger hunt link via mention see sxsw',\n",
       " 'temporary sxsw apple store austin true let sink corporate hipster sxsw',\n",
       " 'long line sxsw apple pop store link',\n",
       " 'heartbreaker sxsw apple ipad rt mention mention ask sadly',\n",
       " 'launch imminent apparently google circle probably sxsw even',\n",
       " 'google social network launch parcelgenie com sxswi hear rumour google google circle launch today sxsw',\n",
       " 'get ready sxsw instal mention iphone woot link',\n",
       " 'link lt google circle loom google nerd get social via mention sxsw socialmedia',\n",
       " 'hoax rt mention quot launch product sxsw plenty else link',\n",
       " 'mention sxsw far partied w google twilio lego milyoni sick taco party big boi concert sq instagram',\n",
       " 'gotta admit apple pop shop thing sxsw pretty brilliant someone aapl know',\n",
       " 'rt mention confirm apple store week popup austin sxsw picture link',\n",
       " 'first line mention sxsw mention store ipad mention apple store sxsw pic link',\n",
       " 'google throw may last stop night sxsw',\n",
       " 'quot facebook google big competitor quot say sq crowley sxsw eurosxsw',\n",
       " 'sxsw sxsw get apple store geek cry yes ipad come come frid link',\n",
       " 'head ipad design headache hilton salon j sxsw',\n",
       " 'merissa mayer google study mail order purchase lead accuracy predict divorce two year advance sxsw',\n",
       " 'want yall know apple build pop store day sell ipad wow sxsw link',\n",
       " 'yes rumor true come play mention ipad booth sxsw exhibit hall ipad ipad giant quot quot',\n",
       " 'apple google intel amp others get go gold go game link thegogame sxsw',\n",
       " 'rt mention rt mention mention launch major new social network call circle possibly today link sxsw smm gt gt really google',\n",
       " 'link part presentation sxsw good thing crash instead work best iphone android',\n",
       " 'monday adfonic daily read iphone white release google social sxsw thing mobile link',\n",
       " 'rt mention rt mention wonder many ipads sell rt mention open pop store sxsw link',\n",
       " 'rt mention google marissa mayer location base fast fun future via mention link sxswi sxsw',\n",
       " 'rt mention get ready sxsw instal mention iphone woot link',\n",
       " 'sxsw start today apple ipad come tomorrow wonder ipad austin apple store sale',\n",
       " 'like mention download freak jet iphone hilarious see learn new stuff sxsw',\n",
       " 'sxsw mention splendor dancin spazzmatics aclu google partylikeits link',\n",
       " 'rt mention public note quot step bulletproof ux strategy quot link sxsw rhjr ux',\n",
       " 'rt mention help clean organize news content mention great job ipad owner sxsw sxswi',\n",
       " 'mention marissa mayer google map use mobile sxsw link',\n",
       " 'mention welcome enjoy sxsw ride anywhere austin dwnld groundlink app link booth',\n",
       " 'mention google launch major new social network call circle possibly today link sxsw never beat myspace',\n",
       " 'rt mention oooorkut rt mention rt mention google launch major new social network call circle possibly today link sxsw',\n",
       " 'hard time tweet use iphone sxsw use ipad much good hisxsw',\n",
       " 'frontend dev talk sxsw way turn head far could see single non apple device cor',\n",
       " 'ev ry day hustlin work mention sxsw event mention tonight absolutely love work link',\n",
       " 'rt mention interest google launch circle later today context add search sxsw link',\n",
       " 'anyone know sxsw apple store sell macbook battery sxswi',\n",
       " 'post interview mention mention story really fun link appsavvy sxsw',\n",
       " 'design ipad catch mention matt carlson amp mention matthew davis sxsw mon hilton link',\n",
       " 'rt mention head sxsw hear talk integrate social network dynamic team synergy get ipad ready go',\n",
       " 'stand talented rt mention eww amp lol rt mention saw guy tweet ipad peeing sxsw',\n",
       " 'mention question day quot google circle quot new social network horizon sxsw',\n",
       " 'rt mention free jam link sxsw mention mention',\n",
       " 'overheard sxsw quot google launch product people event quot',\n",
       " 'rt mention twitter full people sxsw buy ipad least pity party keep busy suppose',\n",
       " 'really excite first panel tapworthy ipad design headache awesome book sxsw gsdm',\n",
       " 'rt mention look around sxswi would think apple tech company existence sxsw',\n",
       " 'apple open temporary apple store th congress tomorrow march ipad sale miss sxsw sxsw',\n",
       " 'fully anticipate every geek douche tot ipad sxsw people also worth go',\n",
       " 'mention blogging ipad note next step hope great time sxsw',\n",
       " 'rt mention rt mention apparently google quot ad preference quot see google think like seenocreepy sxsw pnid',\n",
       " 'well ipad really perfect device sxsw',\n",
       " 'rt mention accord google marissa mayer future location augment reality contextual discovery make smartphones smarter sxsw fb',\n",
       " 'google via mention denies launch circle sxsw hope fare well wave buzz come',\n",
       " 'mention safe travel friend let know think temporary apple store sxsw',\n",
       " 'buy one last ipads apple store downtown austin sxsw sell do purchasing',\n",
       " 'alert medium saw one android tablet sxsw like find needle haystack also saw cr',\n",
       " 'sxsw mint talk mobile app development challenge tease new ipad app link',\n",
       " 'watch quot ipad design headache quot sxsw button hack tapworthy',\n",
       " 'awesome hear marissa mayer acknowledge google map need increase support product b c incorrect rout sxsw',\n",
       " 'rt mention see austin google streetview check apartment sxsw austin easy click',\n",
       " 'prefer news iphone ipad droid mention apps mention mention amp mention mobile apps sxsw',\n",
       " 'link killer shot get last night mention nokiaconnects concert sxsw',\n",
       " 'rt mention sxsw news google launch major new social network call circle possibly today link',\n",
       " 'hootsuite blog social medium dashboard hootsuite mobile sxsw update iphone blackberry amp android link',\n",
       " 'also function ipad mention sure lot ipads flight mention nerdsunite sxsw',\n",
       " 'well sxsw app create android bookmark review onerous schedule click',\n",
       " 'z eye storm link code valid p infektd sxsw zlf',\n",
       " 'anybody tell apple store sxsw white gb ipad verizon stock saturday',\n",
       " 'iphone version flipboard hopefully summer sxflip sxsw',\n",
       " 'sxsw mention da verpixelungsrecht right house pixelated google street view theft public',\n",
       " 'rt mention win free ipad webdoc com sxsw rt',\n",
       " 'rt mention sxsw iphone use free ispyart app send photo artallaround mention link',\n",
       " 'mention think google presentation nice see retail peep sxsw',\n",
       " 'mention cool mean watch ustream skyfire browser iphone safari work fun sxsw',\n",
       " 'apple pop store pop next hotel ipad ipad question sxsw',\n",
       " 'hard feeling towards google mention say would make great partner checkins sxsw pnid',\n",
       " 'link ssxsw showcasing artist torrent song preview link fb sxsw npr',\n",
       " 'learn get personalized recommendation use google hotpot link sxsw',\n",
       " 'life would much well ipad brainwash line sxsw',\n",
       " 'cool late version google map mobile building sure map au detail yet sxsw',\n",
       " 'mention go beyond hour amp share positive action world download earthhour iphone app link sxsw',\n",
       " 'buy ipad yet go sxsw check apple pop store link',\n",
       " 'apple open pop shop sxsw link via mention',\n",
       " 'mention work tablet ipad app demo yet excite sxsw sxswmobileapps accesssxsw',\n",
       " 'good news austin eats bbq iphone available link itunes austin bbq sxsw sxswi via mention',\n",
       " 'christian ipad iphone devs want talk u sxsw maybe wk together cool app mention',\n",
       " 'time everything ipad brand winner sxsw mention link pnid sxsw',\n",
       " 'mention release new socialmedia tool sxsw link',\n",
       " 'rt mention rumor apple open temporary store downtown austin link sxsw',\n",
       " 'apple open temporary store downtown austin sxsw amp ipad launch link source statesman com',\n",
       " 'head ballroom see google marissa mayer mention sxsw',\n",
       " 'rt mention oh quot like believe three boyfriend since first ipad quot sxsw',\n",
       " 'ipad go sale pm sxsw look mention gig color preference',\n",
       " 'mention mention yes know use little quot jazz hand quot say pushio ipad win sxsw sxswi',\n",
       " 'yes nail google circle allow online communication respect boundary offline social life sxsw',\n",
       " 'time apple store sxsw open pull ipad trigger',\n",
       " 'booth still time power challenge ride bike get bottle enter win ipad sxsw thisiscrazyfun',\n",
       " 'pack house google bing q amp search ranking oh quot hope catfight quot sxsw qagb',\n",
       " 'rt mention mention google launch major new social network call circle possibly today link sxsw circle close weak',\n",
       " 'never sxsw first year want go jumped shark rt mention rumor apple opening temp',\n",
       " 'rt mention get look sxsw rumor apple quot pop quot store austin link',\n",
       " 'rt mention tech interaction event ipad apps right link sxsw',\n",
       " 'google circle take facebook link circle sxsw',\n",
       " 'fact go assume priori everyone sit departure terminal playing apple product go sxsw',\n",
       " 'google launch google circle social network today sxsw maybe preview webpronews link',\n",
       " 'like think apple decide sell new ipad sxsw base suggestion link everyone welcome',\n",
       " 'rt mention check new mention app link gonna huge next week sxsw beyond',\n",
       " 'tried instal mention iphone crash every time open sxsw',\n",
       " 'mention hey sxsw life give food poison pitch food poison iphone app pass venture capitalist',\n",
       " 'yup rt mention ipad envy roof thanks every person sxsw',\n",
       " 'rt mention get band want promote come say hi mention team google party maggiemaes sxsw',\n",
       " 'indeed info mention appleatxdt rt mention witness spectacle apple popup store sxsw link',\n",
       " 'sxsw mention design ipad interface new navigation schema link',\n",
       " 'anyone see visit temporary apple store sxsw',\n",
       " 'memento io app sale sxsw wait one momento let social medium create diary link iphone',\n",
       " 'sxsw apple school marketing expert link',\n",
       " 'hey mention get invited new group sxsw android app keep crash try join wtf sxswfail',\n",
       " 'rt mention apple open pop store downtown austin sxsw ipad launch link',\n",
       " 'google map search mobile sxsw mention acc ballroom w others link',\n",
       " 'fail whale artist mention live ipad sxsw link',\n",
       " 'rt mention dispatch ipad front line link aspengrove aspengrove austin line sxsw tx',\n",
       " 'sxsw need line apple open temporary store downtown austin sxsw ipad launch bit ly g mzb',\n",
       " 'mention google launch major new social network call circle possibly today link sxsw fb',\n",
       " 'mention sxsw go alot well u ipad carry around',\n",
       " 'doodle competition invite kid create doodle winner put google com celebrate awesomeness googledoodle sxsw',\n",
       " 'rt mention really need get vaccine sxsw iphone onset prostate cancer chortler cough mustachepox real thing',\n",
       " 'mention mean percentage io vs android v blackberry etc sxsw mention',\n",
       " 'early nerdbird sxsw get mention iphone app share photos airport people like people wal mart airport',\n",
       " 'four south african cap hour plane trip sxsw nine hour wait ipad line link',\n",
       " 'mention google launch new social network call circle today link sxsw applause new privacy model attempt',\n",
       " 'mention mention amp mention fun google pic sxsw link',\n",
       " 'google launch major new social network call circle possibly today sxsw link sxsw nfusion',\n",
       " 'apple know target audience pop shop mention sxsw sell ipad launch day sxsw apple',\n",
       " 'apparently apple corner live demo market easy look marissagoogle sxsw',\n",
       " 'good app quot party people party crasher quot rt mention release android app cluster gt link sxsw',\n",
       " 'rt mention news ipad go enterprise mention say first look new view app link tip mention sxsw',\n",
       " 'quot year attendance exceeds last year apple pop store flood quot link via mention sxsw',\n",
       " 'guess google social network yet soon socialmedia sxsw facebook monopoly integration link',\n",
       " 'google circle new social network sxsw link',\n",
       " 'mention go sxsw today share photo video ireport link cnn iphone app',\n",
       " 'rumour location apple pop store iun austin texas sxsw cheer link',\n",
       " 'spotlight new mobile apps sxsw peak ipad jobsearch app video link',\n",
       " 'sxsw find love mention sxswi link itunes',\n",
       " 'huge line apple store austin sxsw crowd trip get new ipad',\n",
       " 'true true mention google launch major new social network call circle possibly today link sxsw',\n",
       " 'sxsw metricsdrivendesign write response exactly regard speaker google reference uidesignguide com search blog response',\n",
       " 'rt mention sxsw buy appleatxdt popup store anything ipad',\n",
       " 'order ipad excite sxsw seem silly happen japan right',\n",
       " 'wait see champ rt mention austin conv center today w mention fam show new iphone game sxsw',\n",
       " 'currently people line quot pop apple store quot sxsw',\n",
       " 'interview show portfolio amp examples work ipad amp walk piece borrow must mention sxsw',\n",
       " 'load iphone w apps prep sxsw curious see rise top',\n",
       " 'mobile definitely hot topic year every session stand room next lesson learn build netflix iphone app sxsw',\n",
       " 'come visit milyoni booth right big google sign sxsw link',\n",
       " 'mention google circle first real alternative facebook sxsw',\n",
       " 'nice move apple set open popup shop core sxsw action link',\n",
       " 'gt rt mention google people work people rather people work agileagency sxsw',\n",
       " 'rt mention less half hour tell win ipad rt sxsw sxswi bos',\n",
       " 'rt mention hi accidentally take ipad techi set pepsicostage would please return sxsw link',\n",
       " 'ipad take sxsw video one big event first day sxsw link',\n",
       " 'anywhere sxsw iphone charger use bit',\n",
       " 'temporary apple store open pm th congress line already grow ipad view io link via mention sxsw',\n",
       " 'web devs wait line ipad sxsw signup new relic use promo sxsw eligible win one link',\n",
       " 'google launch major new social network call circle possibly today link sxsw course another social network',\n",
       " 'follow mention leanux panel sxsw realtime google doc link thanks mention',\n",
       " 'excite sxsw giddy announce music withme android available android market link',\n",
       " 'rt mention killer think mention pay service probably sell ref google tv ad etc sxsw psfk',\n",
       " 'mention try stay awake try get ustream work iphone see badge picture dat right kickoffparty sxsw',\n",
       " 'mention also check mention android amp web group chat whiteboarding location amp image share app sxsw',\n",
       " 'room full people w good wi fi sxsw run frostwire android link share pic apps vids w others',\n",
       " 'rt mention mayer make clear google go straight foursquare amp gowalla google hotpot sxsw',\n",
       " 'next big thing hmmm rt mention google launch major new social network call circle possibly today link sxsw',\n",
       " 'ipad go sale first day sxsw atx tomorrow apple send lorry load austin riot may ensue',\n",
       " 'insanely jealous everyone ipad sxsw seem like great way interact panel next year p',\n",
       " 'google body beta uber sxsw health dev cool',\n",
       " 'rt mention sxsw crowd swarm ipad launch link via mention sxsw apple',\n",
       " 'rt mention one three best apps see sxsw link',\n",
       " 'already jealous mention apple popup store sxsw link gonnagetanipad',\n",
       " 'mention industry party present gsdm amp google austin tx sxsw',\n",
       " 'rt mention apple save sxsw set open pop store link',\n",
       " 'cobra iradar detection system come android next month link android gps iphone sxsw',\n",
       " 'attend sxsw please bring old mobile phone hope phone project link mention',\n",
       " 'google circle loom google nerd get social sxsw mention link via mention',\n",
       " 'many good place rt mention race around sxsw best fuel great local fare link',\n",
       " 'leave bag home today travel light ipad hand really need lug around impedimenta sxsw',\n",
       " 'today tech tidbit ipad take sxsw video link via mention mention ipad sxsw tech',\n",
       " 'rt mention rt mention nfb film app android available download link link time sxsw',\n",
       " 'ipad week w ipad since give mention sxsw withdrawal',\n",
       " 'mention google let block site stand link sxsw block look like need',\n",
       " 'happy ipad drupalcon wish hand buy one return firstworldproblems sxsw',\n",
       " 'forget queue mashable google party best option pm definitely redlaser party chromeo sxsw',\n",
       " 'yesterday leave house without phone forget charge ipad overnight mobilefail sxsw',\n",
       " 'sxsw go let rate amp review session although experience iphone bit torturous',\n",
       " 'news industry spending r amp wait apple innovate publisher b c print subsidize effort newsapps sxsw',\n",
       " 'rt mention convince upgrade ipad hold one sxsw trade show fail willpower check',\n",
       " 'true rt mention google lose way care much business v user mention psych sxsw',\n",
       " 'interview mike tyson makeshift box ring sxsw upcoming iphone game let fight pauly celebs',\n",
       " 'rt mention apple pop store sxsw link',\n",
       " 'must resist mac temptation rt mention apple open temp store downtown austin sxsw ipad anyone',\n",
       " 'apple pop store sxsw link tech',\n",
       " 'google aclu party college friend see year sxsw magic mention',\n",
       " 'quot sxsw nothing teem sea iphone addict busy twitter ever engage one anoth cont link',\n",
       " 'stop tron legacy lounge sxsw audio sync function extra ipad pretty cool',\n",
       " 'big idea google leave nothing leave discover link sxsw sxswi',\n",
       " 'haha awesomely rad ipad app madebymany http bit ly htdfim hollergram sxsw',\n",
       " 'mention sxsw beta test interactive book ipad app moonbot studio louisiana cool app',\n",
       " 'sxsw japan sendai prayforjapan beforetwitter ipad tiesto hotel airplane food',\n",
       " 'try convince mention watch launch google social network sxsw know go comedy',\n",
       " 'rt mention sxsw app schedule fail try sched org google sched sxsw click first link unofficial party room count genius',\n",
       " 'iphone apps keep groove sxsw mention link',\n",
       " 'ipad star gadget sxsw link sxsw',\n",
       " 'rt mention presentation touchingstories zinio online link sxsw',\n",
       " 'rt mention mention announce windowsphone app today sxsw link wp',\n",
       " 'omg still line new ipad n dieing hunger sxsw else line',\n",
       " 'take sxsw iphone ipad apps grant realize amaze apps big applause designer devs sxsw',\n",
       " 'kill chevytweethouse mention ipad dj sxsw link',\n",
       " 'rt mention rt mention cnn launch quot tv everywhere quot service mobile google tv computer link sxsw',\n",
       " 'google people work people rather people work agileagency sxsw',\n",
       " 'buy last ipad g mb apple pop store sxsw link',\n",
       " 'listen marissa mayer sale shpeal google everything hotwhat sxsw',\n",
       " 'mention sxsw never take fully charge iphone grant pic edit tweet square apps zap lt good kno',\n",
       " 'rt mention kick mingly sxsw apple tv day giveaway register win link win',\n",
       " 'mention crazy love never see many apple product amp thick rim glass one place sxsw',\n",
       " 'luv rt mention best thing heard wknd sxsw quot give ipad money japan relief need ipad quot mention mention',\n",
       " 'papasangre would grateful make audio game android please sxsw',\n",
       " 'apple google intel go gaga go game mention mention link cc mention mention li sxsw',\n",
       " 'lucky mention rt mention score mophie juice pack tradeshow sxsw double iphone battery',\n",
       " 'wow thing insanely thin amp light hold ipad seriously sxsw mosaicxm link',\n",
       " 'break google launch major new social network call circle today link via mention sxsw socialmedia',\n",
       " 'marissa mayer google say google map usage local google map user day sxsw',\n",
       " 'great talk mention mention game mechanic quot u cant make good make red u cant make red make big quot sxsw',\n",
       " 'forget tomorrow music tech category download android iphone app show sxswaccel sxsw',\n",
       " 'mention iphone app lead pack android blue user grow sxswmobileapps sxsw link',\n",
       " 'think stand outside austin apple store cash snatch ipad upgrade sxsw',\n",
       " 'rt mention google aclu party tonight sxsw best thing ever apparently spazmatics franchise band rock',\n",
       " 'dear google photobooth suck sxsw',\n",
       " 'rt mention rt mention google launch major new social network call circle possibly today link sxsw',\n",
       " 'ipad case mention talk search research sxsw',\n",
       " 'rt mention whoa hang saw someone without iphone sxsw',\n",
       " 'tech apple head sxsw set temporary store austin apple go sxsw year link technology',\n",
       " 'yay love ipad perfectly portable travel thanks sxsw pop store',\n",
       " 'rt mention mention show apple position tablet war tapworthy sxsw link',\n",
       " 'google map usage mobile million mobile user sxsw via mention',\n",
       " 'anyone know way watch mention announcement mention sxsw',\n",
       " 'sxsw demo feedly tomorrow android party special thanks team work around clock get beta time',\n",
       " 'tomorrow charles chen speak android chromeos access mention google booth exhibit hall mention pm sxsw',\n",
       " 'rt mention love sxsw quot apple come cool technology one ever heard go conference quot',\n",
       " 'mention rt mention google launch new social network call circle possibly today link sxsw report buzz',\n",
       " 'rt mention new ubersocial iphone app store include uberguide sxsw sponsor link',\n",
       " 'mention find hour apple store curious sxsw',\n",
       " 'mention make iphone case ttye time sxsw want show support',\n",
       " 'omg free ipad salon h one sxsw',\n",
       " 'front mention popup store sxsw last night link',\n",
       " 'cue choir music sxsw mention apple store sxsw link',\n",
       " 'love new iphone case feature mention rt mention mention glad get case zazzlesxsw sxsw link',\n",
       " 'omg guy next brand new ipad try understand twitter never use painful sxsw',\n",
       " 'google vp consumer product marissa mayer say location everything link sxsw',\n",
       " 'sam unlock tightasstraveler achievement sxsw use google map transit instruction',\n",
       " 'sxsw iphone app mock like money come',\n",
       " 'google patent something e age domain ranking algorithm mean use qagb sxsw',\n",
       " 'make spot tonight link sxsw flashmob kickball thstreet',\n",
       " 'inspiredbyprint sxsw oh burn compare ipad skeumorpism magic cap bob',\n",
       " 'line long day curious anyway p sxsw mention apple store sxsw w others link',\n",
       " 'people line ipad pass time surf ipad sxsw',\n",
       " 'grouped nice app group aber leider nur f r iphone link sxsw',\n",
       " 'class start sxsw mention design ipad interface new navigation schema link',\n",
       " 'excited meet mention sxsw show sprint galaxy still run android fail',\n",
       " 'talk stem google lego hook robot showdown tonight donate robot area school showdown gsdm sxsw',\n",
       " 'pad rt mention new ubersocial iphone app store include uberguide sxsw sponsor link',\n",
       " 'show uzu ipad app tapworthy sxsw',\n",
       " 'really need get vaccine sxsw iphone onset prostate cancer chortler cough mustachepox real thing',\n",
       " 'press lounge sxsw someone get tutorial use touchpad apple laptop honest',\n",
       " 'rt mention may invite quot cool quot sxsw sxswi party two iphone charger pocket happy see',\n",
       " 'google search local marissa mayer sxsw',\n",
       " 'new job apple mention meet team set sxsw apple store set whole place nothing day great work',\n",
       " 'spot three ipad first minute lot ipad think macworld sxsw',\n",
       " 'rt mention able afford attend sxsw buy ipad today consider save japan earthquake',\n",
       " 'bet long ipad line gonna austin sxsw',\n",
       " 'great conversation ux meet iphone dev meet afternoon onto phoenix happy hour sxsw',\n",
       " 'official sxsw app sxsw go link android iphone ipad',\n",
       " 'google impact available quot next month quot sign bavc org impact swesxsw sxsw yam bavcid',\n",
       " 'see new texas observer ipad app sxswi sheraton sxsw',\n",
       " 'cool rt mention update npr music iphone app song info song amp live video stream time sxsw link',\n",
       " 'rt mention wish go sxsw get covered day recap link coyne mention mention',\n",
       " 'smile rt mention think apple quot pop store quot austin would lot interest actually know popped sxsw',\n",
       " 'google offering reward sxsw check in link',\n",
       " 'hey sxsw bout donate spend new ipad japan really need thing',\n",
       " 'rt mention interrupt regularly schedule sxsw geek program big news link google circle',\n",
       " 'rt mention rumor apple open temporary store downtown austin sxsw ipad launch link hardcore',\n",
       " 'paraormal activity sanctuary iphone game sketch ar experience interactivity quot magic lense quot eduar sxsw',\n",
       " 'rt mention mention apple open temporary store downtown austin sxsw ipad launch quot oh yay traffic',\n",
       " 'mention rt mention apple open temporary store downtown austin sxsw ipad launch link',\n",
       " 'rt mention iphone auto correct quot merry quot quot nerdier quot must sxsw',\n",
       " 'forget sxsw music link',\n",
       " 'rt mention way matt fricking damon google party maggie mae sxsw mention link',\n",
       " 'google bing q amp panel like world expensive seo consultation sxsw',\n",
       " 'wear openbeta vip badge sxsw might win ipad quibids case mention sxswbuffalo',\n",
       " 'really bad person could steal guy ipad say sxsw',\n",
       " 'ballroom marissagoogle talk cool project obv love google art project sxsw',\n",
       " 'mention mention manufacturing serendipity quot access information make u curious less quot sxsw',\n",
       " 'pdx sxsw tomorrow drop note tmsxsw apple pop retail store epicenter madness',\n",
       " 'rt mention create something new ipad create comfort ex nytimes look like newspaper tapworthy sxsw',\n",
       " 'way love discus apple breed midst pre sxsw madness',\n",
       " 'one least helpful session sxsw leave session amp read ipad design note instead link uxdes',\n",
       " 'smmnextgen tool cheap google analytics excel buzzmetrics also radian altimeter sxsw sloansxsw',\n",
       " 'mention arrive gsdm amp google sxsw industry party austin tx',\n",
       " 'google launch major new social network call circle sxsw',\n",
       " 'sxsw ipad design headache take two tablet call morning link',\n",
       " 'rt mention news sxswi apple temporary ipad store sxsw wth',\n",
       " 'rt mention rt mention shiny new mention mention eightbit apps new garyvee book pop ipad store sxsw christmas nerd',\n",
       " 'rt mention marissa mayer google connect digital amp physical world mobile link sxsw cm',\n",
       " 'free track sxsw sampler itunes link',\n",
       " 'look like laptop dock motorola atrix android phone att awesome sxsw link',\n",
       " 'backupify announces cloudsight search first searchable archive solution social medium google apps sxsw sxswi link',\n",
       " 'rt mention hoot new blog post hootsuite mobile sxsw update iphone blackberry amp android link',\n",
       " 'rt mention ning amp mobile roadie thrill offer unofficial sxsw insider guide iphone fun austin link',\n",
       " 'get free iphone charger alex powermatteam wow make life sxsw much easy thanks link',\n",
       " 'rt mention next fin serv battle v apple goog mobile operator consumer loyalty ton cash v bank bankinnovate sxsw',\n",
       " 'gear sxsw interactive trade show across google link',\n",
       " 'rt mention free quot payment android platform quot webinar march th register today link sxsw mr',\n",
       " 'mention everybody r sxsw grounlink dwnld groundlink app amp ride limo austin link see u booth',\n",
       " 'rt mention sxsw meet u fado give wristband magically lead beer come say hi link',\n",
       " 'rt mention google launch new social network circle possibly today link sxsw',\n",
       " 'informal unscientific observation apple far computer choice sxsw hand contest',\n",
       " 'several year late think trend social apps mention sxsw google circle conversation mention',\n",
       " 'line popup apple store phenomenal sxsw apple ipad link',\n",
       " 'another great review super kaiju hero force quot joke little childish judge since quot lol iphone sxsw',\n",
       " ...]"
      ]
     },
     "execution_count": 26,
     "metadata": {},
     "output_type": "execute_result"
    }
   ],
   "source": [
    "X_train = preprocess_text(X_train, regex_token, sw)\n",
    "X_train"
   ]
  },
  {
   "cell_type": "code",
   "execution_count": 27,
   "metadata": {},
   "outputs": [],
   "source": [
    "class ModelWithCV():\n",
    "    '''Structure to save the model and more easily see its crossvalidation'''\n",
    "    \n",
    "    def __init__(self, model, model_name, X, y, cv_now=True):\n",
    "        self.model = model\n",
    "        self.name = model_name\n",
    "        self.X = X\n",
    "        self.y = y\n",
    "        # For CV results\n",
    "        self.cv_results = None\n",
    "        self.cv_mean = None\n",
    "        self.cv_median = None\n",
    "        self.cv_std = None\n",
    "        #\n",
    "        if cv_now:\n",
    "            self.cross_validate()\n",
    "        \n",
    "    def cross_validate(self, X=None, y=None, kfolds=10):\n",
    "        '''\n",
    "        Perform cross-validation and return results.\n",
    "        \n",
    "        Args: \n",
    "          X:\n",
    "            Optional; Training data to perform CV on. Otherwise use X from object\n",
    "          y:\n",
    "            Optional; Training data to perform CV on. Otherwise use y from object\n",
    "          kfolds:\n",
    "            Optional; Number of folds for CV (default is 10)  \n",
    "        '''\n",
    "        \n",
    "        cv_X = X if X else self.X\n",
    "        cv_y = y if y else self.y\n",
    "\n",
    "        self.cv_results = cross_val_score(self.model, cv_X, cv_y, cv=kfolds)\n",
    "        self.cv_mean = np.mean(self.cv_results)\n",
    "        self.cv_median = np.median(self.cv_results)\n",
    "        self.cv_std = np.std(self.cv_results)\n",
    "\n",
    "        \n",
    "    def print_cv_summary(self):\n",
    "        cv_summary = (\n",
    "        f'''CV Results for `{self.name}` model:\n",
    "            {self.cv_mean:.5f} ± {self.cv_std:.5f} accuracy\n",
    "        ''')\n",
    "        print(cv_summary)\n",
    "\n",
    "        \n",
    "    def plot_cv(self, ax):\n",
    "        '''\n",
    "        Plot the cross-validation values using the array of results and given \n",
    "        Axis for plotting.\n",
    "        '''\n",
    "        ax.set_title(f'CV Results for `{self.name}` Model')\n",
    "        # Thinner violinplot with higher bw\n",
    "        sns.violinplot(y=self.cv_results, ax=ax, bw=.4)\n",
    "        sns.swarmplot(\n",
    "                y=self.cv_results,\n",
    "                color='orange',\n",
    "                size=10,\n",
    "                alpha= 0.8,\n",
    "                ax=ax\n",
    "        )\n",
    "\n",
    "        return ax"
   ]
  },
  {
   "cell_type": "markdown",
   "metadata": {},
   "source": [
    "# Models / Evaluation"
   ]
  },
  {
   "cell_type": "markdown",
   "metadata": {},
   "source": [
    "## Vectorized"
   ]
  },
  {
   "cell_type": "code",
   "execution_count": 28,
   "metadata": {},
   "outputs": [],
   "source": [
    "# Secondary train-test split to build our best model\n",
    "X_t, X_val, y_t, y_val = train_test_split(X_train, y_train, random_state=42)"
   ]
  },
  {
   "cell_type": "code",
   "execution_count": 94,
   "metadata": {},
   "outputs": [],
   "source": [
    "cv = CountVectorizer()\n",
    "X_t_vec = cv.fit_transform(X_t)\n",
    "X_t_vec  = pd.DataFrame.sparse.from_spmatrix(X_t_vec)\n",
    "X_t_vec.columns = sorted(cv.vocabulary_)\n",
    "X_t_vec.set_index(y_t.index, inplace=True)\n",
    "\n",
    "\n",
    "X_val_vec = cv.transform(X_val)\n",
    "X_val_vec  = pd.DataFrame.sparse.from_spmatrix(X_val_vec)\n",
    "X_val_vec.columns = sorted(cv.vocabulary_)\n",
    "X_val_vec.set_index(y_val.index, inplace=True)"
   ]
  },
  {
   "cell_type": "code",
   "execution_count": 95,
   "metadata": {},
   "outputs": [
    {
     "data": {
      "text/plain": [
       "5927"
      ]
     },
     "execution_count": 95,
     "metadata": {},
     "output_type": "execute_result"
    }
   ],
   "source": [
    "len(cv.vocabulary_)"
   ]
  },
  {
   "cell_type": "markdown",
   "metadata": {},
   "source": [
    "## Dummy Model"
   ]
  },
  {
   "cell_type": "code",
   "execution_count": 30,
   "metadata": {},
   "outputs": [],
   "source": [
    "dummy = DummyClassifier().fit(X_t_vec, y_t)"
   ]
  },
  {
   "cell_type": "code",
   "execution_count": 31,
   "metadata": {},
   "outputs": [
    {
     "data": {
      "text/plain": [
       "<AxesSubplot:title={'center':'CV Results for `dummy` Model'}>"
      ]
     },
     "execution_count": 31,
     "metadata": {},
     "output_type": "execute_result"
    },
    {
     "data": {
      "image/png": "[encoded data removed]",
      "text/plain": [
       "<Figure size 720x720 with 1 Axes>"
      ]
     },
     "metadata": {
      "needs_background": "light"
     },
     "output_type": "display_data"
    }
   ],
   "source": [
    "dummy_model = ModelWithCV(\n",
    "    dummy,\n",
    "    model_name = 'dummy',\n",
    "    X=X_t_vec,\n",
    "    y=y_t)\n",
    "fig, ax = plt.subplots(figsize=(10,10))\n",
    "\n",
    "dummy_model.plot_cv(ax=ax)"
   ]
  },
  {
   "cell_type": "code",
   "execution_count": 32,
   "metadata": {},
   "outputs": [
    {
     "name": "stdout",
     "output_type": "stream",
     "text": [
      "CV Results for `dummy` model:\n",
      "            0.60446 ± 0.00117 accuracy\n",
      "        \n"
     ]
    }
   ],
   "source": [
    "dummy_model.print_cv_summary()"
   ]
  },
  {
   "cell_type": "code",
   "execution_count": 33,
   "metadata": {},
   "outputs": [
    {
     "data": {
      "text/plain": [
       "0.5936754176610979"
      ]
     },
     "execution_count": 33,
     "metadata": {},
     "output_type": "execute_result"
    }
   ],
   "source": [
    "dummy.score(X_val_vec, y_val)"
   ]
  },
  {
   "cell_type": "code",
   "execution_count": 34,
   "metadata": {},
   "outputs": [
    {
     "data": {
      "image/png": "[encoded data removed]",
      "text/plain": [
       "<Figure size 432x288 with 2 Axes>"
      ]
     },
     "metadata": {
      "needs_background": "light"
     },
     "output_type": "display_data"
    }
   ],
   "source": [
    "y_preds = dummy.predict(X_val_vec)\n",
    "cm = confusion_matrix(y_val, y_preds)\n",
    "disp = ConfusionMatrixDisplay(confusion_matrix=cm)\n",
    "disp.plot();"
   ]
  },
  {
   "cell_type": "code",
   "execution_count": 35,
   "metadata": {},
   "outputs": [
    {
     "name": "stdout",
     "output_type": "stream",
     "text": [
      "              precision    recall  f1-score   support\n",
      "\n",
      "           0       0.00      0.00      0.00       101\n",
      "           1       0.59      1.00      0.75       995\n",
      "           2       0.00      0.00      0.00       580\n",
      "\n",
      "    accuracy                           0.59      1676\n",
      "   macro avg       0.20      0.33      0.25      1676\n",
      "weighted avg       0.35      0.59      0.44      1676\n",
      "\n"
     ]
    },
    {
     "name": "stderr",
     "output_type": "stream",
     "text": [
      "/Users/jonniebrown/anaconda3/envs/learn-env/lib/python3.8/site-packages/sklearn/metrics/_classification.py:1344: UndefinedMetricWarning: Precision and F-score are ill-defined and being set to 0.0 in labels with no predicted samples. Use `zero_division` parameter to control this behavior.\n",
      "  _warn_prf(average, modifier, msg_start, len(result))\n",
      "/Users/jonniebrown/anaconda3/envs/learn-env/lib/python3.8/site-packages/sklearn/metrics/_classification.py:1344: UndefinedMetricWarning: Precision and F-score are ill-defined and being set to 0.0 in labels with no predicted samples. Use `zero_division` parameter to control this behavior.\n",
      "  _warn_prf(average, modifier, msg_start, len(result))\n",
      "/Users/jonniebrown/anaconda3/envs/learn-env/lib/python3.8/site-packages/sklearn/metrics/_classification.py:1344: UndefinedMetricWarning: Precision and F-score are ill-defined and being set to 0.0 in labels with no predicted samples. Use `zero_division` parameter to control this behavior.\n",
      "  _warn_prf(average, modifier, msg_start, len(result))\n"
     ]
    }
   ],
   "source": [
    "print(classification_report(y_val, y_preds))"
   ]
  },
  {
   "cell_type": "markdown",
   "metadata": {},
   "source": [
    "## Multinomial Naive Bayes"
   ]
  },
  {
   "cell_type": "code",
   "execution_count": 36,
   "metadata": {},
   "outputs": [],
   "source": [
    "nb = MultinomialNB().fit(X_t_vec, y_t)"
   ]
  },
  {
   "cell_type": "code",
   "execution_count": 37,
   "metadata": {},
   "outputs": [
    {
     "data": {
      "text/plain": [
       "<AxesSubplot:title={'center':'CV Results for `nb` Model'}>"
      ]
     },
     "execution_count": 37,
     "metadata": {},
     "output_type": "execute_result"
    },
    {
     "data": {
      "image/png": "[encoded data removed]",
      "text/plain": [
       "<Figure size 720x720 with 1 Axes>"
      ]
     },
     "metadata": {
      "needs_background": "light"
     },
     "output_type": "display_data"
    }
   ],
   "source": [
    "nb_model = ModelWithCV(\n",
    "    nb,\n",
    "    model_name = 'nb',\n",
    "    X=X_t_vec,\n",
    "    y=y_t)\n",
    "fig, ax = plt.subplots(figsize=(10,10))\n",
    "\n",
    "nb_model.plot_cv(ax=ax)"
   ]
  },
  {
   "cell_type": "code",
   "execution_count": 38,
   "metadata": {},
   "outputs": [
    {
     "name": "stdout",
     "output_type": "stream",
     "text": [
      "CV Results for `nb` model:\n",
      "            0.65638 ± 0.01557 accuracy\n",
      "        \n"
     ]
    }
   ],
   "source": [
    "nb_model.print_cv_summary()"
   ]
  },
  {
   "cell_type": "code",
   "execution_count": 39,
   "metadata": {},
   "outputs": [
    {
     "data": {
      "text/plain": [
       "0.6545346062052506"
      ]
     },
     "execution_count": 39,
     "metadata": {},
     "output_type": "execute_result"
    }
   ],
   "source": [
    "nb.score(X_val_vec, y_val)"
   ]
  },
  {
   "cell_type": "code",
   "execution_count": 40,
   "metadata": {},
   "outputs": [
    {
     "data": {
      "image/png": "[encoded data removed]",
      "text/plain": [
       "<Figure size 432x288 with 2 Axes>"
      ]
     },
     "metadata": {
      "needs_background": "light"
     },
     "output_type": "display_data"
    }
   ],
   "source": [
    "y_preds = nb.predict(X_val_vec)\n",
    "cm = confusion_matrix(y_val, y_preds)\n",
    "disp = ConfusionMatrixDisplay(confusion_matrix=cm)\n",
    "disp.plot();"
   ]
  },
  {
   "cell_type": "code",
   "execution_count": 41,
   "metadata": {},
   "outputs": [
    {
     "name": "stdout",
     "output_type": "stream",
     "text": [
      "              precision    recall  f1-score   support\n",
      "\n",
      "           0       0.65      0.17      0.27       101\n",
      "           1       0.69      0.80      0.74       995\n",
      "           2       0.56      0.50      0.53       580\n",
      "\n",
      "    accuracy                           0.65      1676\n",
      "   macro avg       0.64      0.49      0.51      1676\n",
      "weighted avg       0.65      0.65      0.64      1676\n",
      "\n"
     ]
    }
   ],
   "source": [
    "print(classification_report(y_val, y_preds))"
   ]
  },
  {
   "cell_type": "markdown",
   "metadata": {},
   "source": [
    "now with limited features"
   ]
  },
  {
   "cell_type": "markdown",
   "metadata": {},
   "source": [
    "### Top 10 Words"
   ]
  },
  {
   "cell_type": "code",
   "execution_count": 151,
   "metadata": {},
   "outputs": [],
   "source": [
    "cv = CountVectorizer(max_features=10)\n",
    "X_t_vec = cv.fit_transform(X_t)\n",
    "X_t_vec  = pd.DataFrame.sparse.from_spmatrix(X_t_vec)\n",
    "X_t_vec.columns = sorted(cv.vocabulary_)\n",
    "X_t_vec.set_index(y_t.index, inplace=True)\n",
    "\n",
    "\n",
    "X_val_vec = cv.transform(X_val)\n",
    "X_val_vec  = pd.DataFrame.sparse.from_spmatrix(X_val_vec)\n",
    "X_val_vec.columns = sorted(cv.vocabulary_)\n",
    "X_val_vec.set_index(y_val.index, inplace=True)"
   ]
  },
  {
   "cell_type": "code",
   "execution_count": 152,
   "metadata": {},
   "outputs": [
    {
     "data": {
      "text/plain": [
       "10"
      ]
     },
     "execution_count": 152,
     "metadata": {},
     "output_type": "execute_result"
    }
   ],
   "source": [
    "# how many words is the model looking at?\n",
    "len(cv.vocabulary_)"
   ]
  },
  {
   "cell_type": "code",
   "execution_count": 153,
   "metadata": {},
   "outputs": [
    {
     "data": {
      "text/html": [
       "<div>\n",
       "<style scoped>\n",
       "    .dataframe tbody tr th:only-of-type {\n",
       "        vertical-align: middle;\n",
       "    }\n",
       "\n",
       "    .dataframe tbody tr th {\n",
       "        vertical-align: top;\n",
       "    }\n",
       "\n",
       "    .dataframe thead th {\n",
       "        text-align: right;\n",
       "    }\n",
       "</style>\n",
       "<table border=\"1\" class=\"dataframe\">\n",
       "  <thead>\n",
       "    <tr style=\"text-align: right;\">\n",
       "      <th></th>\n",
       "      <th>apple</th>\n",
       "      <th>google</th>\n",
       "      <th>ipad</th>\n",
       "      <th>iphone</th>\n",
       "      <th>link</th>\n",
       "      <th>mention</th>\n",
       "      <th>quot</th>\n",
       "      <th>rt</th>\n",
       "      <th>store</th>\n",
       "      <th>sxsw</th>\n",
       "    </tr>\n",
       "  </thead>\n",
       "  <tbody>\n",
       "    <tr>\n",
       "      <th>4241</th>\n",
       "      <td>0</td>\n",
       "      <td>0</td>\n",
       "      <td>0</td>\n",
       "      <td>1</td>\n",
       "      <td>0</td>\n",
       "      <td>1</td>\n",
       "      <td>0</td>\n",
       "      <td>1</td>\n",
       "      <td>0</td>\n",
       "      <td>1</td>\n",
       "    </tr>\n",
       "    <tr>\n",
       "      <th>1930</th>\n",
       "      <td>0</td>\n",
       "      <td>1</td>\n",
       "      <td>0</td>\n",
       "      <td>0</td>\n",
       "      <td>0</td>\n",
       "      <td>0</td>\n",
       "      <td>0</td>\n",
       "      <td>0</td>\n",
       "      <td>0</td>\n",
       "      <td>1</td>\n",
       "    </tr>\n",
       "    <tr>\n",
       "      <th>3171</th>\n",
       "      <td>0</td>\n",
       "      <td>0</td>\n",
       "      <td>0</td>\n",
       "      <td>1</td>\n",
       "      <td>0</td>\n",
       "      <td>0</td>\n",
       "      <td>0</td>\n",
       "      <td>0</td>\n",
       "      <td>0</td>\n",
       "      <td>1</td>\n",
       "    </tr>\n",
       "    <tr>\n",
       "      <th>8572</th>\n",
       "      <td>0</td>\n",
       "      <td>0</td>\n",
       "      <td>1</td>\n",
       "      <td>0</td>\n",
       "      <td>0</td>\n",
       "      <td>0</td>\n",
       "      <td>0</td>\n",
       "      <td>0</td>\n",
       "      <td>0</td>\n",
       "      <td>1</td>\n",
       "    </tr>\n",
       "    <tr>\n",
       "      <th>5598</th>\n",
       "      <td>0</td>\n",
       "      <td>0</td>\n",
       "      <td>0</td>\n",
       "      <td>1</td>\n",
       "      <td>0</td>\n",
       "      <td>2</td>\n",
       "      <td>0</td>\n",
       "      <td>1</td>\n",
       "      <td>0</td>\n",
       "      <td>1</td>\n",
       "    </tr>\n",
       "    <tr>\n",
       "      <th>...</th>\n",
       "      <td>...</td>\n",
       "      <td>...</td>\n",
       "      <td>...</td>\n",
       "      <td>...</td>\n",
       "      <td>...</td>\n",
       "      <td>...</td>\n",
       "      <td>...</td>\n",
       "      <td>...</td>\n",
       "      <td>...</td>\n",
       "      <td>...</td>\n",
       "    </tr>\n",
       "    <tr>\n",
       "      <th>8380</th>\n",
       "      <td>0</td>\n",
       "      <td>0</td>\n",
       "      <td>0</td>\n",
       "      <td>0</td>\n",
       "      <td>0</td>\n",
       "      <td>1</td>\n",
       "      <td>0</td>\n",
       "      <td>0</td>\n",
       "      <td>0</td>\n",
       "      <td>2</td>\n",
       "    </tr>\n",
       "    <tr>\n",
       "      <th>145</th>\n",
       "      <td>1</td>\n",
       "      <td>0</td>\n",
       "      <td>1</td>\n",
       "      <td>0</td>\n",
       "      <td>0</td>\n",
       "      <td>2</td>\n",
       "      <td>0</td>\n",
       "      <td>0</td>\n",
       "      <td>0</td>\n",
       "      <td>1</td>\n",
       "    </tr>\n",
       "    <tr>\n",
       "      <th>1804</th>\n",
       "      <td>0</td>\n",
       "      <td>1</td>\n",
       "      <td>0</td>\n",
       "      <td>0</td>\n",
       "      <td>0</td>\n",
       "      <td>0</td>\n",
       "      <td>0</td>\n",
       "      <td>0</td>\n",
       "      <td>0</td>\n",
       "      <td>1</td>\n",
       "    </tr>\n",
       "    <tr>\n",
       "      <th>2866</th>\n",
       "      <td>1</td>\n",
       "      <td>0</td>\n",
       "      <td>0</td>\n",
       "      <td>0</td>\n",
       "      <td>1</td>\n",
       "      <td>1</td>\n",
       "      <td>0</td>\n",
       "      <td>1</td>\n",
       "      <td>0</td>\n",
       "      <td>1</td>\n",
       "    </tr>\n",
       "    <tr>\n",
       "      <th>3123</th>\n",
       "      <td>0</td>\n",
       "      <td>0</td>\n",
       "      <td>2</td>\n",
       "      <td>0</td>\n",
       "      <td>0</td>\n",
       "      <td>1</td>\n",
       "      <td>0</td>\n",
       "      <td>0</td>\n",
       "      <td>0</td>\n",
       "      <td>1</td>\n",
       "    </tr>\n",
       "  </tbody>\n",
       "</table>\n",
       "<p>5026 rows × 10 columns</p>\n",
       "</div>"
      ],
      "text/plain": [
       "      apple  google  ipad  iphone  link  mention  quot  rt  store  sxsw\n",
       "4241      0       0     0       1     0        1     0   1      0     1\n",
       "1930      0       1     0       0     0        0     0   0      0     1\n",
       "3171      0       0     0       1     0        0     0   0      0     1\n",
       "8572      0       0     1       0     0        0     0   0      0     1\n",
       "5598      0       0     0       1     0        2     0   1      0     1\n",
       "...     ...     ...   ...     ...   ...      ...   ...  ..    ...   ...\n",
       "8380      0       0     0       0     0        1     0   0      0     2\n",
       "145       1       0     1       0     0        2     0   0      0     1\n",
       "1804      0       1     0       0     0        0     0   0      0     1\n",
       "2866      1       0     0       0     1        1     0   1      0     1\n",
       "3123      0       0     2       0     0        1     0   0      0     1\n",
       "\n",
       "[5026 rows x 10 columns]"
      ]
     },
     "execution_count": 153,
     "metadata": {},
     "output_type": "execute_result"
    }
   ],
   "source": [
    "X_t_vec"
   ]
  },
  {
   "cell_type": "markdown",
   "metadata": {},
   "source": [
    "I don't think these top 10 words are going to be very helpful. I might consider adding some of them to the stopwords list."
   ]
  },
  {
   "cell_type": "code",
   "execution_count": 120,
   "metadata": {},
   "outputs": [],
   "source": [
    "nb = MultinomialNB().fit(X_t_vec, y_t)"
   ]
  },
  {
   "cell_type": "code",
   "execution_count": 121,
   "metadata": {
    "scrolled": true
   },
   "outputs": [
    {
     "data": {
      "text/plain": [
       "0.5978520286396182"
      ]
     },
     "execution_count": 121,
     "metadata": {},
     "output_type": "execute_result"
    }
   ],
   "source": [
    "nb.score(X_val_vec, y_val)"
   ]
  },
  {
   "cell_type": "markdown",
   "metadata": {},
   "source": [
    "### Top 100 Words"
   ]
  },
  {
   "cell_type": "code",
   "execution_count": 164,
   "metadata": {},
   "outputs": [],
   "source": [
    "cv = CountVectorizer(max_features=100)\n",
    "X_t_vec = cv.fit_transform(X_t)\n",
    "X_t_vec  = pd.DataFrame.sparse.from_spmatrix(X_t_vec)\n",
    "X_t_vec.columns = sorted(cv.vocabulary_)\n",
    "X_t_vec.set_index(y_t.index, inplace=True)\n",
    "\n",
    "\n",
    "X_val_vec = cv.transform(X_val)\n",
    "X_val_vec  = pd.DataFrame.sparse.from_spmatrix(X_val_vec)\n",
    "X_val_vec.columns = sorted(cv.vocabulary_)\n",
    "X_val_vec.set_index(y_val.index, inplace=True)"
   ]
  },
  {
   "cell_type": "code",
   "execution_count": 165,
   "metadata": {},
   "outputs": [
    {
     "data": {
      "text/plain": [
       "100"
      ]
     },
     "execution_count": 165,
     "metadata": {},
     "output_type": "execute_result"
    }
   ],
   "source": [
    "# how many words is the model looking at?\n",
    "len(cv.vocabulary_)"
   ]
  },
  {
   "cell_type": "code",
   "execution_count": 166,
   "metadata": {},
   "outputs": [
    {
     "data": {
      "text/html": [
       "<div>\n",
       "<style scoped>\n",
       "    .dataframe tbody tr th:only-of-type {\n",
       "        vertical-align: middle;\n",
       "    }\n",
       "\n",
       "    .dataframe tbody tr th {\n",
       "        vertical-align: top;\n",
       "    }\n",
       "\n",
       "    .dataframe thead th {\n",
       "        text-align: right;\n",
       "    }\n",
       "</style>\n",
       "<table border=\"1\" class=\"dataframe\">\n",
       "  <thead>\n",
       "    <tr style=\"text-align: right;\">\n",
       "      <th></th>\n",
       "      <th>amp</th>\n",
       "      <th>android</th>\n",
       "      <th>app</th>\n",
       "      <th>apple</th>\n",
       "      <th>apps</th>\n",
       "      <th>around</th>\n",
       "      <th>austin</th>\n",
       "      <th>awesome</th>\n",
       "      <th>best</th>\n",
       "      <th>big</th>\n",
       "      <th>...</th>\n",
       "      <th>tweet</th>\n",
       "      <th>update</th>\n",
       "      <th>use</th>\n",
       "      <th>user</th>\n",
       "      <th>via</th>\n",
       "      <th>want</th>\n",
       "      <th>win</th>\n",
       "      <th>work</th>\n",
       "      <th>would</th>\n",
       "      <th>year</th>\n",
       "    </tr>\n",
       "  </thead>\n",
       "  <tbody>\n",
       "    <tr>\n",
       "      <th>4241</th>\n",
       "      <td>0</td>\n",
       "      <td>0</td>\n",
       "      <td>1</td>\n",
       "      <td>0</td>\n",
       "      <td>0</td>\n",
       "      <td>0</td>\n",
       "      <td>0</td>\n",
       "      <td>0</td>\n",
       "      <td>0</td>\n",
       "      <td>0</td>\n",
       "      <td>...</td>\n",
       "      <td>0</td>\n",
       "      <td>0</td>\n",
       "      <td>1</td>\n",
       "      <td>0</td>\n",
       "      <td>0</td>\n",
       "      <td>0</td>\n",
       "      <td>0</td>\n",
       "      <td>0</td>\n",
       "      <td>0</td>\n",
       "      <td>0</td>\n",
       "    </tr>\n",
       "    <tr>\n",
       "      <th>1930</th>\n",
       "      <td>0</td>\n",
       "      <td>0</td>\n",
       "      <td>0</td>\n",
       "      <td>0</td>\n",
       "      <td>0</td>\n",
       "      <td>0</td>\n",
       "      <td>0</td>\n",
       "      <td>0</td>\n",
       "      <td>0</td>\n",
       "      <td>0</td>\n",
       "      <td>...</td>\n",
       "      <td>0</td>\n",
       "      <td>0</td>\n",
       "      <td>0</td>\n",
       "      <td>0</td>\n",
       "      <td>0</td>\n",
       "      <td>0</td>\n",
       "      <td>0</td>\n",
       "      <td>0</td>\n",
       "      <td>0</td>\n",
       "      <td>0</td>\n",
       "    </tr>\n",
       "    <tr>\n",
       "      <th>3171</th>\n",
       "      <td>0</td>\n",
       "      <td>0</td>\n",
       "      <td>0</td>\n",
       "      <td>0</td>\n",
       "      <td>0</td>\n",
       "      <td>0</td>\n",
       "      <td>0</td>\n",
       "      <td>0</td>\n",
       "      <td>0</td>\n",
       "      <td>0</td>\n",
       "      <td>...</td>\n",
       "      <td>0</td>\n",
       "      <td>0</td>\n",
       "      <td>0</td>\n",
       "      <td>0</td>\n",
       "      <td>0</td>\n",
       "      <td>0</td>\n",
       "      <td>0</td>\n",
       "      <td>0</td>\n",
       "      <td>0</td>\n",
       "      <td>0</td>\n",
       "    </tr>\n",
       "    <tr>\n",
       "      <th>8572</th>\n",
       "      <td>0</td>\n",
       "      <td>0</td>\n",
       "      <td>0</td>\n",
       "      <td>0</td>\n",
       "      <td>0</td>\n",
       "      <td>0</td>\n",
       "      <td>0</td>\n",
       "      <td>0</td>\n",
       "      <td>0</td>\n",
       "      <td>0</td>\n",
       "      <td>...</td>\n",
       "      <td>0</td>\n",
       "      <td>0</td>\n",
       "      <td>0</td>\n",
       "      <td>0</td>\n",
       "      <td>0</td>\n",
       "      <td>0</td>\n",
       "      <td>0</td>\n",
       "      <td>0</td>\n",
       "      <td>0</td>\n",
       "      <td>0</td>\n",
       "    </tr>\n",
       "    <tr>\n",
       "      <th>5598</th>\n",
       "      <td>0</td>\n",
       "      <td>0</td>\n",
       "      <td>1</td>\n",
       "      <td>0</td>\n",
       "      <td>0</td>\n",
       "      <td>0</td>\n",
       "      <td>0</td>\n",
       "      <td>0</td>\n",
       "      <td>0</td>\n",
       "      <td>0</td>\n",
       "      <td>...</td>\n",
       "      <td>0</td>\n",
       "      <td>0</td>\n",
       "      <td>0</td>\n",
       "      <td>0</td>\n",
       "      <td>0</td>\n",
       "      <td>0</td>\n",
       "      <td>0</td>\n",
       "      <td>0</td>\n",
       "      <td>0</td>\n",
       "      <td>0</td>\n",
       "    </tr>\n",
       "    <tr>\n",
       "      <th>...</th>\n",
       "      <td>...</td>\n",
       "      <td>...</td>\n",
       "      <td>...</td>\n",
       "      <td>...</td>\n",
       "      <td>...</td>\n",
       "      <td>...</td>\n",
       "      <td>...</td>\n",
       "      <td>...</td>\n",
       "      <td>...</td>\n",
       "      <td>...</td>\n",
       "      <td>...</td>\n",
       "      <td>...</td>\n",
       "      <td>...</td>\n",
       "      <td>...</td>\n",
       "      <td>...</td>\n",
       "      <td>...</td>\n",
       "      <td>...</td>\n",
       "      <td>...</td>\n",
       "      <td>...</td>\n",
       "      <td>...</td>\n",
       "      <td>...</td>\n",
       "    </tr>\n",
       "    <tr>\n",
       "      <th>8380</th>\n",
       "      <td>0</td>\n",
       "      <td>1</td>\n",
       "      <td>0</td>\n",
       "      <td>0</td>\n",
       "      <td>0</td>\n",
       "      <td>0</td>\n",
       "      <td>0</td>\n",
       "      <td>0</td>\n",
       "      <td>0</td>\n",
       "      <td>0</td>\n",
       "      <td>...</td>\n",
       "      <td>0</td>\n",
       "      <td>0</td>\n",
       "      <td>0</td>\n",
       "      <td>0</td>\n",
       "      <td>0</td>\n",
       "      <td>0</td>\n",
       "      <td>0</td>\n",
       "      <td>0</td>\n",
       "      <td>0</td>\n",
       "      <td>0</td>\n",
       "    </tr>\n",
       "    <tr>\n",
       "      <th>145</th>\n",
       "      <td>0</td>\n",
       "      <td>0</td>\n",
       "      <td>0</td>\n",
       "      <td>1</td>\n",
       "      <td>0</td>\n",
       "      <td>0</td>\n",
       "      <td>0</td>\n",
       "      <td>0</td>\n",
       "      <td>0</td>\n",
       "      <td>0</td>\n",
       "      <td>...</td>\n",
       "      <td>1</td>\n",
       "      <td>0</td>\n",
       "      <td>0</td>\n",
       "      <td>0</td>\n",
       "      <td>0</td>\n",
       "      <td>0</td>\n",
       "      <td>0</td>\n",
       "      <td>0</td>\n",
       "      <td>0</td>\n",
       "      <td>0</td>\n",
       "    </tr>\n",
       "    <tr>\n",
       "      <th>1804</th>\n",
       "      <td>0</td>\n",
       "      <td>0</td>\n",
       "      <td>0</td>\n",
       "      <td>0</td>\n",
       "      <td>0</td>\n",
       "      <td>0</td>\n",
       "      <td>0</td>\n",
       "      <td>0</td>\n",
       "      <td>0</td>\n",
       "      <td>0</td>\n",
       "      <td>...</td>\n",
       "      <td>0</td>\n",
       "      <td>0</td>\n",
       "      <td>0</td>\n",
       "      <td>0</td>\n",
       "      <td>0</td>\n",
       "      <td>0</td>\n",
       "      <td>0</td>\n",
       "      <td>0</td>\n",
       "      <td>0</td>\n",
       "      <td>0</td>\n",
       "    </tr>\n",
       "    <tr>\n",
       "      <th>2866</th>\n",
       "      <td>0</td>\n",
       "      <td>0</td>\n",
       "      <td>0</td>\n",
       "      <td>1</td>\n",
       "      <td>0</td>\n",
       "      <td>0</td>\n",
       "      <td>1</td>\n",
       "      <td>0</td>\n",
       "      <td>0</td>\n",
       "      <td>0</td>\n",
       "      <td>...</td>\n",
       "      <td>0</td>\n",
       "      <td>0</td>\n",
       "      <td>0</td>\n",
       "      <td>0</td>\n",
       "      <td>0</td>\n",
       "      <td>0</td>\n",
       "      <td>0</td>\n",
       "      <td>0</td>\n",
       "      <td>0</td>\n",
       "      <td>0</td>\n",
       "    </tr>\n",
       "    <tr>\n",
       "      <th>3123</th>\n",
       "      <td>0</td>\n",
       "      <td>0</td>\n",
       "      <td>0</td>\n",
       "      <td>0</td>\n",
       "      <td>0</td>\n",
       "      <td>0</td>\n",
       "      <td>0</td>\n",
       "      <td>0</td>\n",
       "      <td>0</td>\n",
       "      <td>0</td>\n",
       "      <td>...</td>\n",
       "      <td>0</td>\n",
       "      <td>0</td>\n",
       "      <td>0</td>\n",
       "      <td>0</td>\n",
       "      <td>0</td>\n",
       "      <td>0</td>\n",
       "      <td>0</td>\n",
       "      <td>0</td>\n",
       "      <td>0</td>\n",
       "      <td>0</td>\n",
       "    </tr>\n",
       "  </tbody>\n",
       "</table>\n",
       "<p>5026 rows × 100 columns</p>\n",
       "</div>"
      ],
      "text/plain": [
       "      amp  android  app  apple  apps  around  austin  awesome  best  big  ...  \\\n",
       "4241    0        0    1      0     0       0       0        0     0    0  ...   \n",
       "1930    0        0    0      0     0       0       0        0     0    0  ...   \n",
       "3171    0        0    0      0     0       0       0        0     0    0  ...   \n",
       "8572    0        0    0      0     0       0       0        0     0    0  ...   \n",
       "5598    0        0    1      0     0       0       0        0     0    0  ...   \n",
       "...   ...      ...  ...    ...   ...     ...     ...      ...   ...  ...  ...   \n",
       "8380    0        1    0      0     0       0       0        0     0    0  ...   \n",
       "145     0        0    0      1     0       0       0        0     0    0  ...   \n",
       "1804    0        0    0      0     0       0       0        0     0    0  ...   \n",
       "2866    0        0    0      1     0       0       1        0     0    0  ...   \n",
       "3123    0        0    0      0     0       0       0        0     0    0  ...   \n",
       "\n",
       "      tweet  update  use  user  via  want  win  work  would  year  \n",
       "4241      0       0    1     0    0     0    0     0      0     0  \n",
       "1930      0       0    0     0    0     0    0     0      0     0  \n",
       "3171      0       0    0     0    0     0    0     0      0     0  \n",
       "8572      0       0    0     0    0     0    0     0      0     0  \n",
       "5598      0       0    0     0    0     0    0     0      0     0  \n",
       "...     ...     ...  ...   ...  ...   ...  ...   ...    ...   ...  \n",
       "8380      0       0    0     0    0     0    0     0      0     0  \n",
       "145       1       0    0     0    0     0    0     0      0     0  \n",
       "1804      0       0    0     0    0     0    0     0      0     0  \n",
       "2866      0       0    0     0    0     0    0     0      0     0  \n",
       "3123      0       0    0     0    0     0    0     0      0     0  \n",
       "\n",
       "[5026 rows x 100 columns]"
      ]
     },
     "execution_count": 166,
     "metadata": {},
     "output_type": "execute_result"
    }
   ],
   "source": [
    "X_t_vec"
   ]
  },
  {
   "cell_type": "code",
   "execution_count": 116,
   "metadata": {},
   "outputs": [],
   "source": [
    "nb = MultinomialNB().fit(X_t_vec, y_t)"
   ]
  },
  {
   "cell_type": "code",
   "execution_count": 117,
   "metadata": {
    "scrolled": true
   },
   "outputs": [
    {
     "data": {
      "text/plain": [
       "0.5948687350835322"
      ]
     },
     "execution_count": 117,
     "metadata": {},
     "output_type": "execute_result"
    }
   ],
   "source": [
    "nb.score(X_val_vec, y_val)"
   ]
  },
  {
   "cell_type": "markdown",
   "metadata": {},
   "source": [
    "### Top 200 Words"
   ]
  },
  {
   "cell_type": "code",
   "execution_count": 122,
   "metadata": {},
   "outputs": [],
   "source": [
    "cv = CountVectorizer(max_features=200)\n",
    "X_t_vec = cv.fit_transform(X_t)\n",
    "X_t_vec  = pd.DataFrame.sparse.from_spmatrix(X_t_vec)\n",
    "X_t_vec.columns = sorted(cv.vocabulary_)\n",
    "X_t_vec.set_index(y_t.index, inplace=True)\n",
    "\n",
    "\n",
    "X_val_vec = cv.transform(X_val)\n",
    "X_val_vec  = pd.DataFrame.sparse.from_spmatrix(X_val_vec)\n",
    "X_val_vec.columns = sorted(cv.vocabulary_)\n",
    "X_val_vec.set_index(y_val.index, inplace=True)"
   ]
  },
  {
   "cell_type": "code",
   "execution_count": 123,
   "metadata": {},
   "outputs": [
    {
     "data": {
      "text/plain": [
       "200"
      ]
     },
     "execution_count": 123,
     "metadata": {},
     "output_type": "execute_result"
    }
   ],
   "source": [
    "# how many words is the model looking at?\n",
    "len(cv.vocabulary_)"
   ]
  },
  {
   "cell_type": "code",
   "execution_count": 124,
   "metadata": {},
   "outputs": [],
   "source": [
    "nb = MultinomialNB().fit(X_t_vec, y_t)"
   ]
  },
  {
   "cell_type": "code",
   "execution_count": 125,
   "metadata": {
    "scrolled": true
   },
   "outputs": [
    {
     "data": {
      "text/plain": [
       "0.6026252983293556"
      ]
     },
     "execution_count": 125,
     "metadata": {},
     "output_type": "execute_result"
    }
   ],
   "source": [
    "nb.score(X_val_vec, y_val)"
   ]
  },
  {
   "cell_type": "markdown",
   "metadata": {},
   "source": [
    "### Minimum Document Frequency of 5%"
   ]
  },
  {
   "cell_type": "code",
   "execution_count": 173,
   "metadata": {},
   "outputs": [],
   "source": [
    "cv = CountVectorizer(min_df=.05, max_df=0.5)\n",
    "X_t_vec = cv.fit_transform(X_t)\n",
    "X_t_vec  = pd.DataFrame.sparse.from_spmatrix(X_t_vec)\n",
    "X_t_vec.columns = sorted(cv.vocabulary_)\n",
    "X_t_vec.set_index(y_t.index, inplace=True)\n",
    "\n",
    "\n",
    "X_val_vec = cv.transform(X_val)\n",
    "X_val_vec  = pd.DataFrame.sparse.from_spmatrix(X_val_vec)\n",
    "X_val_vec.columns = sorted(cv.vocabulary_)\n",
    "X_val_vec.set_index(y_val.index, inplace=True)"
   ]
  },
  {
   "cell_type": "code",
   "execution_count": 174,
   "metadata": {},
   "outputs": [
    {
     "data": {
      "text/plain": [
       "21"
      ]
     },
     "execution_count": 174,
     "metadata": {},
     "output_type": "execute_result"
    }
   ],
   "source": [
    "# how many words is the model looking at?\n",
    "len(cv.vocabulary_)"
   ]
  },
  {
   "cell_type": "code",
   "execution_count": 175,
   "metadata": {},
   "outputs": [
    {
     "data": {
      "text/html": [
       "<div>\n",
       "<style scoped>\n",
       "    .dataframe tbody tr th:only-of-type {\n",
       "        vertical-align: middle;\n",
       "    }\n",
       "\n",
       "    .dataframe tbody tr th {\n",
       "        vertical-align: top;\n",
       "    }\n",
       "\n",
       "    .dataframe thead th {\n",
       "        text-align: right;\n",
       "    }\n",
       "</style>\n",
       "<table border=\"1\" class=\"dataframe\">\n",
       "  <thead>\n",
       "    <tr style=\"text-align: right;\">\n",
       "      <th></th>\n",
       "      <th>amp</th>\n",
       "      <th>android</th>\n",
       "      <th>app</th>\n",
       "      <th>apple</th>\n",
       "      <th>austin</th>\n",
       "      <th>circle</th>\n",
       "      <th>get</th>\n",
       "      <th>google</th>\n",
       "      <th>ipad</th>\n",
       "      <th>iphone</th>\n",
       "      <th>...</th>\n",
       "      <th>link</th>\n",
       "      <th>network</th>\n",
       "      <th>new</th>\n",
       "      <th>open</th>\n",
       "      <th>pop</th>\n",
       "      <th>quot</th>\n",
       "      <th>rt</th>\n",
       "      <th>social</th>\n",
       "      <th>store</th>\n",
       "      <th>today</th>\n",
       "    </tr>\n",
       "  </thead>\n",
       "  <tbody>\n",
       "    <tr>\n",
       "      <th>4241</th>\n",
       "      <td>0</td>\n",
       "      <td>0</td>\n",
       "      <td>1</td>\n",
       "      <td>0</td>\n",
       "      <td>0</td>\n",
       "      <td>0</td>\n",
       "      <td>0</td>\n",
       "      <td>0</td>\n",
       "      <td>0</td>\n",
       "      <td>1</td>\n",
       "      <td>...</td>\n",
       "      <td>0</td>\n",
       "      <td>0</td>\n",
       "      <td>0</td>\n",
       "      <td>0</td>\n",
       "      <td>0</td>\n",
       "      <td>0</td>\n",
       "      <td>1</td>\n",
       "      <td>0</td>\n",
       "      <td>0</td>\n",
       "      <td>0</td>\n",
       "    </tr>\n",
       "    <tr>\n",
       "      <th>1930</th>\n",
       "      <td>0</td>\n",
       "      <td>0</td>\n",
       "      <td>0</td>\n",
       "      <td>0</td>\n",
       "      <td>0</td>\n",
       "      <td>0</td>\n",
       "      <td>0</td>\n",
       "      <td>1</td>\n",
       "      <td>0</td>\n",
       "      <td>0</td>\n",
       "      <td>...</td>\n",
       "      <td>0</td>\n",
       "      <td>0</td>\n",
       "      <td>0</td>\n",
       "      <td>0</td>\n",
       "      <td>0</td>\n",
       "      <td>0</td>\n",
       "      <td>0</td>\n",
       "      <td>0</td>\n",
       "      <td>0</td>\n",
       "      <td>0</td>\n",
       "    </tr>\n",
       "    <tr>\n",
       "      <th>3171</th>\n",
       "      <td>0</td>\n",
       "      <td>0</td>\n",
       "      <td>0</td>\n",
       "      <td>0</td>\n",
       "      <td>0</td>\n",
       "      <td>0</td>\n",
       "      <td>0</td>\n",
       "      <td>0</td>\n",
       "      <td>0</td>\n",
       "      <td>1</td>\n",
       "      <td>...</td>\n",
       "      <td>0</td>\n",
       "      <td>0</td>\n",
       "      <td>0</td>\n",
       "      <td>0</td>\n",
       "      <td>0</td>\n",
       "      <td>0</td>\n",
       "      <td>0</td>\n",
       "      <td>0</td>\n",
       "      <td>0</td>\n",
       "      <td>0</td>\n",
       "    </tr>\n",
       "    <tr>\n",
       "      <th>8572</th>\n",
       "      <td>0</td>\n",
       "      <td>0</td>\n",
       "      <td>0</td>\n",
       "      <td>0</td>\n",
       "      <td>0</td>\n",
       "      <td>0</td>\n",
       "      <td>0</td>\n",
       "      <td>0</td>\n",
       "      <td>1</td>\n",
       "      <td>0</td>\n",
       "      <td>...</td>\n",
       "      <td>0</td>\n",
       "      <td>0</td>\n",
       "      <td>0</td>\n",
       "      <td>0</td>\n",
       "      <td>0</td>\n",
       "      <td>0</td>\n",
       "      <td>0</td>\n",
       "      <td>0</td>\n",
       "      <td>0</td>\n",
       "      <td>0</td>\n",
       "    </tr>\n",
       "    <tr>\n",
       "      <th>5598</th>\n",
       "      <td>0</td>\n",
       "      <td>0</td>\n",
       "      <td>1</td>\n",
       "      <td>0</td>\n",
       "      <td>0</td>\n",
       "      <td>0</td>\n",
       "      <td>0</td>\n",
       "      <td>0</td>\n",
       "      <td>0</td>\n",
       "      <td>1</td>\n",
       "      <td>...</td>\n",
       "      <td>0</td>\n",
       "      <td>0</td>\n",
       "      <td>0</td>\n",
       "      <td>0</td>\n",
       "      <td>0</td>\n",
       "      <td>0</td>\n",
       "      <td>1</td>\n",
       "      <td>0</td>\n",
       "      <td>0</td>\n",
       "      <td>0</td>\n",
       "    </tr>\n",
       "    <tr>\n",
       "      <th>...</th>\n",
       "      <td>...</td>\n",
       "      <td>...</td>\n",
       "      <td>...</td>\n",
       "      <td>...</td>\n",
       "      <td>...</td>\n",
       "      <td>...</td>\n",
       "      <td>...</td>\n",
       "      <td>...</td>\n",
       "      <td>...</td>\n",
       "      <td>...</td>\n",
       "      <td>...</td>\n",
       "      <td>...</td>\n",
       "      <td>...</td>\n",
       "      <td>...</td>\n",
       "      <td>...</td>\n",
       "      <td>...</td>\n",
       "      <td>...</td>\n",
       "      <td>...</td>\n",
       "      <td>...</td>\n",
       "      <td>...</td>\n",
       "      <td>...</td>\n",
       "    </tr>\n",
       "    <tr>\n",
       "      <th>8380</th>\n",
       "      <td>0</td>\n",
       "      <td>1</td>\n",
       "      <td>0</td>\n",
       "      <td>0</td>\n",
       "      <td>0</td>\n",
       "      <td>0</td>\n",
       "      <td>0</td>\n",
       "      <td>0</td>\n",
       "      <td>0</td>\n",
       "      <td>0</td>\n",
       "      <td>...</td>\n",
       "      <td>0</td>\n",
       "      <td>0</td>\n",
       "      <td>0</td>\n",
       "      <td>0</td>\n",
       "      <td>0</td>\n",
       "      <td>0</td>\n",
       "      <td>0</td>\n",
       "      <td>0</td>\n",
       "      <td>0</td>\n",
       "      <td>0</td>\n",
       "    </tr>\n",
       "    <tr>\n",
       "      <th>145</th>\n",
       "      <td>0</td>\n",
       "      <td>0</td>\n",
       "      <td>0</td>\n",
       "      <td>1</td>\n",
       "      <td>0</td>\n",
       "      <td>0</td>\n",
       "      <td>0</td>\n",
       "      <td>0</td>\n",
       "      <td>1</td>\n",
       "      <td>0</td>\n",
       "      <td>...</td>\n",
       "      <td>0</td>\n",
       "      <td>0</td>\n",
       "      <td>1</td>\n",
       "      <td>0</td>\n",
       "      <td>0</td>\n",
       "      <td>0</td>\n",
       "      <td>0</td>\n",
       "      <td>0</td>\n",
       "      <td>0</td>\n",
       "      <td>0</td>\n",
       "    </tr>\n",
       "    <tr>\n",
       "      <th>1804</th>\n",
       "      <td>0</td>\n",
       "      <td>0</td>\n",
       "      <td>0</td>\n",
       "      <td>0</td>\n",
       "      <td>0</td>\n",
       "      <td>0</td>\n",
       "      <td>0</td>\n",
       "      <td>1</td>\n",
       "      <td>0</td>\n",
       "      <td>0</td>\n",
       "      <td>...</td>\n",
       "      <td>0</td>\n",
       "      <td>0</td>\n",
       "      <td>0</td>\n",
       "      <td>0</td>\n",
       "      <td>0</td>\n",
       "      <td>0</td>\n",
       "      <td>0</td>\n",
       "      <td>0</td>\n",
       "      <td>0</td>\n",
       "      <td>0</td>\n",
       "    </tr>\n",
       "    <tr>\n",
       "      <th>2866</th>\n",
       "      <td>0</td>\n",
       "      <td>0</td>\n",
       "      <td>0</td>\n",
       "      <td>1</td>\n",
       "      <td>1</td>\n",
       "      <td>0</td>\n",
       "      <td>0</td>\n",
       "      <td>0</td>\n",
       "      <td>0</td>\n",
       "      <td>0</td>\n",
       "      <td>...</td>\n",
       "      <td>1</td>\n",
       "      <td>0</td>\n",
       "      <td>0</td>\n",
       "      <td>1</td>\n",
       "      <td>0</td>\n",
       "      <td>0</td>\n",
       "      <td>1</td>\n",
       "      <td>0</td>\n",
       "      <td>0</td>\n",
       "      <td>0</td>\n",
       "    </tr>\n",
       "    <tr>\n",
       "      <th>3123</th>\n",
       "      <td>0</td>\n",
       "      <td>0</td>\n",
       "      <td>0</td>\n",
       "      <td>0</td>\n",
       "      <td>0</td>\n",
       "      <td>0</td>\n",
       "      <td>0</td>\n",
       "      <td>0</td>\n",
       "      <td>2</td>\n",
       "      <td>0</td>\n",
       "      <td>...</td>\n",
       "      <td>0</td>\n",
       "      <td>0</td>\n",
       "      <td>0</td>\n",
       "      <td>0</td>\n",
       "      <td>0</td>\n",
       "      <td>0</td>\n",
       "      <td>0</td>\n",
       "      <td>0</td>\n",
       "      <td>0</td>\n",
       "      <td>0</td>\n",
       "    </tr>\n",
       "  </tbody>\n",
       "</table>\n",
       "<p>5026 rows × 21 columns</p>\n",
       "</div>"
      ],
      "text/plain": [
       "      amp  android  app  apple  austin  circle  get  google  ipad  iphone  \\\n",
       "4241    0        0    1      0       0       0    0       0     0       1   \n",
       "1930    0        0    0      0       0       0    0       1     0       0   \n",
       "3171    0        0    0      0       0       0    0       0     0       1   \n",
       "8572    0        0    0      0       0       0    0       0     1       0   \n",
       "5598    0        0    1      0       0       0    0       0     0       1   \n",
       "...   ...      ...  ...    ...     ...     ...  ...     ...   ...     ...   \n",
       "8380    0        1    0      0       0       0    0       0     0       0   \n",
       "145     0        0    0      1       0       0    0       0     1       0   \n",
       "1804    0        0    0      0       0       0    0       1     0       0   \n",
       "2866    0        0    0      1       1       0    0       0     0       0   \n",
       "3123    0        0    0      0       0       0    0       0     2       0   \n",
       "\n",
       "      ...  link  network  new  open  pop  quot  rt  social  store  today  \n",
       "4241  ...     0        0    0     0    0     0   1       0      0      0  \n",
       "1930  ...     0        0    0     0    0     0   0       0      0      0  \n",
       "3171  ...     0        0    0     0    0     0   0       0      0      0  \n",
       "8572  ...     0        0    0     0    0     0   0       0      0      0  \n",
       "5598  ...     0        0    0     0    0     0   1       0      0      0  \n",
       "...   ...   ...      ...  ...   ...  ...   ...  ..     ...    ...    ...  \n",
       "8380  ...     0        0    0     0    0     0   0       0      0      0  \n",
       "145   ...     0        0    1     0    0     0   0       0      0      0  \n",
       "1804  ...     0        0    0     0    0     0   0       0      0      0  \n",
       "2866  ...     1        0    0     1    0     0   1       0      0      0  \n",
       "3123  ...     0        0    0     0    0     0   0       0      0      0  \n",
       "\n",
       "[5026 rows x 21 columns]"
      ]
     },
     "execution_count": 175,
     "metadata": {},
     "output_type": "execute_result"
    }
   ],
   "source": [
    "X_t_vec"
   ]
  },
  {
   "cell_type": "code",
   "execution_count": 128,
   "metadata": {},
   "outputs": [],
   "source": [
    "nb = MultinomialNB().fit(X_t_vec, y_t)"
   ]
  },
  {
   "cell_type": "code",
   "execution_count": 129,
   "metadata": {
    "scrolled": true
   },
   "outputs": [
    {
     "data": {
      "text/plain": [
       "0.5865155131264916"
      ]
     },
     "execution_count": 129,
     "metadata": {},
     "output_type": "execute_result"
    }
   ],
   "source": [
    "nb.score(X_val_vec, y_val)"
   ]
  },
  {
   "cell_type": "markdown",
   "metadata": {},
   "source": [
    "### Minimum Document Frequency of 2%"
   ]
  },
  {
   "cell_type": "code",
   "execution_count": 130,
   "metadata": {},
   "outputs": [],
   "source": [
    "cv = CountVectorizer(min_df=0.02)\n",
    "X_t_vec = cv.fit_transform(X_t)\n",
    "X_t_vec  = pd.DataFrame.sparse.from_spmatrix(X_t_vec)\n",
    "X_t_vec.columns = sorted(cv.vocabulary_)\n",
    "X_t_vec.set_index(y_t.index, inplace=True)\n",
    "\n",
    "\n",
    "X_val_vec = cv.transform(X_val)\n",
    "X_val_vec  = pd.DataFrame.sparse.from_spmatrix(X_val_vec)\n",
    "X_val_vec.columns = sorted(cv.vocabulary_)\n",
    "X_val_vec.set_index(y_val.index, inplace=True)"
   ]
  },
  {
   "cell_type": "code",
   "execution_count": 131,
   "metadata": {},
   "outputs": [
    {
     "data": {
      "text/plain": [
       "61"
      ]
     },
     "execution_count": 131,
     "metadata": {},
     "output_type": "execute_result"
    }
   ],
   "source": [
    "# how many words is the model looking at?\n",
    "len(cv.vocabulary_)"
   ]
  },
  {
   "cell_type": "code",
   "execution_count": 132,
   "metadata": {},
   "outputs": [],
   "source": [
    "nb = MultinomialNB().fit(X_t_vec, y_t)"
   ]
  },
  {
   "cell_type": "code",
   "execution_count": 133,
   "metadata": {
    "scrolled": true
   },
   "outputs": [
    {
     "data": {
      "text/plain": [
       "0.5894988066825776"
      ]
     },
     "execution_count": 133,
     "metadata": {},
     "output_type": "execute_result"
    }
   ],
   "source": [
    "nb.score(X_val_vec, y_val)"
   ]
  },
  {
   "cell_type": "markdown",
   "metadata": {},
   "source": [
    "## Random Forest Model"
   ]
  },
  {
   "cell_type": "code",
   "execution_count": 156,
   "metadata": {},
   "outputs": [],
   "source": [
    "cv = CountVectorizer()\n",
    "X_t_vec = cv.fit_transform(X_t)\n",
    "X_t_vec  = pd.DataFrame.sparse.from_spmatrix(X_t_vec)\n",
    "X_t_vec.columns = sorted(cv.vocabulary_)\n",
    "X_t_vec.set_index(y_t.index, inplace=True)\n",
    "\n",
    "\n",
    "X_val_vec = cv.transform(X_val)\n",
    "X_val_vec  = pd.DataFrame.sparse.from_spmatrix(X_val_vec)\n",
    "X_val_vec.columns = sorted(cv.vocabulary_)\n",
    "X_val_vec.set_index(y_val.index, inplace=True)"
   ]
  },
  {
   "cell_type": "code",
   "execution_count": 135,
   "metadata": {},
   "outputs": [],
   "source": [
    "rf = RandomForestClassifier().fit(X_t_vec, y_t)"
   ]
  },
  {
   "cell_type": "code",
   "execution_count": 136,
   "metadata": {},
   "outputs": [
    {
     "data": {
      "text/plain": [
       "<AxesSubplot:title={'center':'CV Results for `rf` Model'}>"
      ]
     },
     "execution_count": 136,
     "metadata": {},
     "output_type": "execute_result"
    },
    {
     "data": {
      "image/png": "[encoded data removed]",
      "text/plain": [
       "<Figure size 720x720 with 1 Axes>"
      ]
     },
     "metadata": {
      "needs_background": "light"
     },
     "output_type": "display_data"
    }
   ],
   "source": [
    "rf_model = ModelWithCV(\n",
    "    rf,\n",
    "    model_name = 'rf',\n",
    "    X=X_t_vec,\n",
    "    y=y_t)\n",
    "fig, ax = plt.subplots(figsize=(10,10))\n",
    "\n",
    "rf_model.plot_cv(ax=ax)"
   ]
  },
  {
   "cell_type": "code",
   "execution_count": 137,
   "metadata": {},
   "outputs": [
    {
     "name": "stdout",
     "output_type": "stream",
     "text": [
      "CV Results for `rf` model:\n",
      "            0.67668 ± 0.00956 accuracy\n",
      "        \n"
     ]
    }
   ],
   "source": [
    "rf_model.print_cv_summary()"
   ]
  },
  {
   "cell_type": "code",
   "execution_count": 138,
   "metadata": {},
   "outputs": [
    {
     "data": {
      "text/plain": [
       "0.6694510739856802"
      ]
     },
     "execution_count": 138,
     "metadata": {},
     "output_type": "execute_result"
    }
   ],
   "source": [
    "rf.score(X_val_vec, y_val)"
   ]
  },
  {
   "cell_type": "code",
   "execution_count": 139,
   "metadata": {},
   "outputs": [
    {
     "data": {
      "image/png": "[encoded data removed]",
      "text/plain": [
       "<Figure size 432x288 with 2 Axes>"
      ]
     },
     "metadata": {
      "needs_background": "light"
     },
     "output_type": "display_data"
    }
   ],
   "source": [
    "y_preds = rf.predict(X_val_vec)\n",
    "cm = confusion_matrix(y_val, y_preds)\n",
    "disp = ConfusionMatrixDisplay(confusion_matrix=cm)\n",
    "disp.plot();"
   ]
  },
  {
   "cell_type": "code",
   "execution_count": 140,
   "metadata": {},
   "outputs": [
    {
     "name": "stdout",
     "output_type": "stream",
     "text": [
      "              precision    recall  f1-score   support\n",
      "\n",
      "           0       0.76      0.29      0.42       101\n",
      "           1       0.68      0.87      0.76       995\n",
      "           2       0.64      0.39      0.49       580\n",
      "\n",
      "    accuracy                           0.67      1676\n",
      "   macro avg       0.69      0.52      0.55      1676\n",
      "weighted avg       0.67      0.67      0.64      1676\n",
      "\n"
     ]
    }
   ],
   "source": [
    "print(classification_report(y_val, y_preds))"
   ]
  },
  {
   "cell_type": "markdown",
   "metadata": {},
   "source": [
    "### Random Forest with gridsearch"
   ]
  },
  {
   "cell_type": "code",
   "execution_count": 143,
   "metadata": {},
   "outputs": [
    {
     "data": {
      "text/plain": [
       "{'max_depth': 10, 'min_samples_split': 10, 'n_estimators': 100}"
      ]
     },
     "execution_count": 143,
     "metadata": {},
     "output_type": "execute_result"
    }
   ],
   "source": [
    "rf = RandomForestClassifier()\n",
    "\n",
    "param_grid = {\n",
    "    'n_estimators': [100, 500, 1000],\n",
    "    'max_depth': [2, 5, 10],\n",
    "    'min_samples_split': [2, 5, 10]\n",
    "}\n",
    "\n",
    "gs_rf = GridSearchCV(rf, param_grid, cv=3)\n",
    "gs_rf.fit(X_t_vec, y_t)\n",
    "\n",
    "gs_rf.best_params_"
   ]
  },
  {
   "cell_type": "code",
   "execution_count": 146,
   "metadata": {},
   "outputs": [
    {
     "data": {
      "text/plain": [
       "<AxesSubplot:title={'center':'CV Results for `gs_rf_model` Model'}>"
      ]
     },
     "execution_count": 146,
     "metadata": {},
     "output_type": "execute_result"
    },
    {
     "data": {
      "image/png": "[encoded data removed]",
      "text/plain": [
       "<Figure size 720x720 with 1 Axes>"
      ]
     },
     "metadata": {
      "needs_background": "light"
     },
     "output_type": "display_data"
    }
   ],
   "source": [
    "gs_rf_model = ModelWithCV(\n",
    "    gs_rf.best_estimator_,\n",
    "    model_name = 'gs_rf_model',\n",
    "    X=X_t_vec,\n",
    "    y=y_t)\n",
    "fig, ax = plt.subplots(figsize=(10,10))\n",
    "\n",
    "gs_rf_model.plot_cv(ax=ax)"
   ]
  },
  {
   "cell_type": "code",
   "execution_count": 148,
   "metadata": {},
   "outputs": [
    {
     "name": "stdout",
     "output_type": "stream",
     "text": [
      "CV Results for `rf` model:\n",
      "            0.67668 ± 0.00956 accuracy\n",
      "        \n"
     ]
    }
   ],
   "source": [
    "rf_model.print_cv_summary()"
   ]
  },
  {
   "cell_type": "code",
   "execution_count": 145,
   "metadata": {},
   "outputs": [
    {
     "data": {
      "text/plain": [
       "0.6088337548534178"
      ]
     },
     "execution_count": 145,
     "metadata": {},
     "output_type": "execute_result"
    }
   ],
   "source": [
    "gs_rf.best_score_"
   ]
  },
  {
   "cell_type": "code",
   "execution_count": 149,
   "metadata": {},
   "outputs": [
    {
     "data": {
      "image/png": "[encoded data removed]",
      "text/plain": [
       "<Figure size 432x288 with 2 Axes>"
      ]
     },
     "metadata": {
      "needs_background": "light"
     },
     "output_type": "display_data"
    }
   ],
   "source": [
    "best_gs = gs_rf.best_estimator_\n",
    "y_preds = best_gs.predict(X_val_vec)\n",
    "cm = confusion_matrix(y_val, y_preds)\n",
    "disp = ConfusionMatrixDisplay(confusion_matrix=cm)\n",
    "disp.plot();"
   ]
  },
  {
   "cell_type": "code",
   "execution_count": 150,
   "metadata": {},
   "outputs": [
    {
     "name": "stdout",
     "output_type": "stream",
     "text": [
      "              precision    recall  f1-score   support\n",
      "\n",
      "           0       0.00      0.00      0.00       101\n",
      "           1       0.60      1.00      0.75       995\n",
      "           2       1.00      0.01      0.02       580\n",
      "\n",
      "    accuracy                           0.60      1676\n",
      "   macro avg       0.53      0.34      0.26      1676\n",
      "weighted avg       0.70      0.60      0.45      1676\n",
      "\n"
     ]
    },
    {
     "name": "stderr",
     "output_type": "stream",
     "text": [
      "/Users/jonniebrown/anaconda3/envs/learn-env/lib/python3.8/site-packages/sklearn/metrics/_classification.py:1344: UndefinedMetricWarning: Precision and F-score are ill-defined and being set to 0.0 in labels with no predicted samples. Use `zero_division` parameter to control this behavior.\n",
      "  _warn_prf(average, modifier, msg_start, len(result))\n",
      "/Users/jonniebrown/anaconda3/envs/learn-env/lib/python3.8/site-packages/sklearn/metrics/_classification.py:1344: UndefinedMetricWarning: Precision and F-score are ill-defined and being set to 0.0 in labels with no predicted samples. Use `zero_division` parameter to control this behavior.\n",
      "  _warn_prf(average, modifier, msg_start, len(result))\n",
      "/Users/jonniebrown/anaconda3/envs/learn-env/lib/python3.8/site-packages/sklearn/metrics/_classification.py:1344: UndefinedMetricWarning: Precision and F-score are ill-defined and being set to 0.0 in labels with no predicted samples. Use `zero_division` parameter to control this behavior.\n",
      "  _warn_prf(average, modifier, msg_start, len(result))\n"
     ]
    }
   ],
   "source": [
    "print(classification_report(y_val, y_preds))"
   ]
  },
  {
   "cell_type": "markdown",
   "metadata": {},
   "source": [
    "maybe the data needs to be more balanced?"
   ]
  },
  {
   "cell_type": "code",
   "execution_count": 157,
   "metadata": {},
   "outputs": [],
   "source": [
    "cv = CountVectorizer()\n",
    "X_t_vec = cv.fit_transform(X_t)\n",
    "X_t_vec  = pd.DataFrame.sparse.from_spmatrix(X_t_vec)\n",
    "X_t_vec.columns = sorted(cv.vocabulary_)\n",
    "X_t_vec.set_index(y_t.index, inplace=True)\n",
    "\n",
    "\n",
    "X_val_vec = cv.transform(X_val)\n",
    "X_val_vec  = pd.DataFrame.sparse.from_spmatrix(X_val_vec)\n",
    "X_val_vec.columns = sorted(cv.vocabulary_)\n",
    "X_val_vec.set_index(y_val.index, inplace=True)"
   ]
  },
  {
   "cell_type": "code",
   "execution_count": 158,
   "metadata": {},
   "outputs": [],
   "source": [
    "from imblearn.over_sampling import SMOTE"
   ]
  },
  {
   "cell_type": "code",
   "execution_count": 163,
   "metadata": {},
   "outputs": [
    {
     "name": "stdout",
     "output_type": "stream",
     "text": [
      "Original class distribution: \n",
      "\n",
      "1    3038\n",
      "2    1673\n",
      "0     315\n",
      "dtype: int64\n"
     ]
    },
    {
     "ename": "ValueError",
     "evalue": "Expected 2D array, got 1D array instead:\narray=['mention android app know battery killer sxsw'\n 'interest rt mention apple open pop shop sxsw link sxsw sxswi popupshop apple'\n 'look like fun session sxsw quot mistake make build nextflix iphone quot link'\n ...\n 'rt mention arduino android flame skull link refrigerator speaks salon k pm mention mention sxsw smartthings'\n 'make soundcloud ambassador sxsw upload music show amp reward rt mention soundcloud android app fresh'\n 'tech apple open pop store austin sxsw link technology'].\nReshape your data either using array.reshape(-1, 1) if your data has a single feature or array.reshape(1, -1) if it contains a single sample.",
     "output_type": "error",
     "traceback": [
      "\u001b[0;31m---------------------------------------------------------------------------\u001b[0m",
      "\u001b[0;31mValueError\u001b[0m                                Traceback (most recent call last)",
      "\u001b[0;32m<ipython-input-163-329915531d20>\u001b[0m in \u001b[0;36m<module>\u001b[0;34m\u001b[0m\n\u001b[1;32m      4\u001b[0m \u001b[0msmote\u001b[0m \u001b[0;34m=\u001b[0m \u001b[0mSMOTE\u001b[0m\u001b[0;34m(\u001b[0m\u001b[0;34m)\u001b[0m\u001b[0;34m\u001b[0m\u001b[0;34m\u001b[0m\u001b[0m\n\u001b[1;32m      5\u001b[0m \u001b[0;31m# X_train.reshape(-1,1)\u001b[0m\u001b[0;34m\u001b[0m\u001b[0;34m\u001b[0m\u001b[0;34m\u001b[0m\u001b[0m\n\u001b[0;32m----> 6\u001b[0;31m \u001b[0mX_train_resampled\u001b[0m\u001b[0;34m,\u001b[0m \u001b[0my_train_resampled\u001b[0m \u001b[0;34m=\u001b[0m \u001b[0msmote\u001b[0m\u001b[0;34m.\u001b[0m\u001b[0mfit_resample\u001b[0m\u001b[0;34m(\u001b[0m\u001b[0mX_train\u001b[0m\u001b[0;34m,\u001b[0m \u001b[0my_train\u001b[0m\u001b[0;34m)\u001b[0m\u001b[0;34m\u001b[0m\u001b[0;34m\u001b[0m\u001b[0m\n\u001b[0m\u001b[1;32m      7\u001b[0m \u001b[0;31m# Preview synthetic sample class distribution\u001b[0m\u001b[0;34m\u001b[0m\u001b[0;34m\u001b[0m\u001b[0;34m\u001b[0m\u001b[0m\n\u001b[1;32m      8\u001b[0m \u001b[0mprint\u001b[0m\u001b[0;34m(\u001b[0m\u001b[0;34m'-----------------------------------------'\u001b[0m\u001b[0;34m)\u001b[0m\u001b[0;34m\u001b[0m\u001b[0;34m\u001b[0m\u001b[0m\n",
      "\u001b[0;32m~/anaconda3/envs/learn-env/lib/python3.8/site-packages/imblearn/base.py\u001b[0m in \u001b[0;36mfit_resample\u001b[0;34m(self, X, y)\u001b[0m\n\u001b[1;32m     75\u001b[0m         \u001b[0mcheck_classification_targets\u001b[0m\u001b[0;34m(\u001b[0m\u001b[0my\u001b[0m\u001b[0;34m)\u001b[0m\u001b[0;34m\u001b[0m\u001b[0;34m\u001b[0m\u001b[0m\n\u001b[1;32m     76\u001b[0m         \u001b[0marrays_transformer\u001b[0m \u001b[0;34m=\u001b[0m \u001b[0mArraysTransformer\u001b[0m\u001b[0;34m(\u001b[0m\u001b[0mX\u001b[0m\u001b[0;34m,\u001b[0m \u001b[0my\u001b[0m\u001b[0;34m)\u001b[0m\u001b[0;34m\u001b[0m\u001b[0;34m\u001b[0m\u001b[0m\n\u001b[0;32m---> 77\u001b[0;31m         \u001b[0mX\u001b[0m\u001b[0;34m,\u001b[0m \u001b[0my\u001b[0m\u001b[0;34m,\u001b[0m \u001b[0mbinarize_y\u001b[0m \u001b[0;34m=\u001b[0m \u001b[0mself\u001b[0m\u001b[0;34m.\u001b[0m\u001b[0m_check_X_y\u001b[0m\u001b[0;34m(\u001b[0m\u001b[0mX\u001b[0m\u001b[0;34m,\u001b[0m \u001b[0my\u001b[0m\u001b[0;34m)\u001b[0m\u001b[0;34m\u001b[0m\u001b[0;34m\u001b[0m\u001b[0m\n\u001b[0m\u001b[1;32m     78\u001b[0m \u001b[0;34m\u001b[0m\u001b[0m\n\u001b[1;32m     79\u001b[0m         self.sampling_strategy_ = check_sampling_strategy(\n",
      "\u001b[0;32m~/anaconda3/envs/learn-env/lib/python3.8/site-packages/imblearn/base.py\u001b[0m in \u001b[0;36m_check_X_y\u001b[0;34m(self, X, y, accept_sparse)\u001b[0m\n\u001b[1;32m    132\u001b[0m             \u001b[0maccept_sparse\u001b[0m \u001b[0;34m=\u001b[0m \u001b[0;34m[\u001b[0m\u001b[0;34m\"csr\"\u001b[0m\u001b[0;34m,\u001b[0m \u001b[0;34m\"csc\"\u001b[0m\u001b[0;34m]\u001b[0m\u001b[0;34m\u001b[0m\u001b[0;34m\u001b[0m\u001b[0m\n\u001b[1;32m    133\u001b[0m         \u001b[0my\u001b[0m\u001b[0;34m,\u001b[0m \u001b[0mbinarize_y\u001b[0m \u001b[0;34m=\u001b[0m \u001b[0mcheck_target_type\u001b[0m\u001b[0;34m(\u001b[0m\u001b[0my\u001b[0m\u001b[0;34m,\u001b[0m \u001b[0mindicate_one_vs_all\u001b[0m\u001b[0;34m=\u001b[0m\u001b[0;32mTrue\u001b[0m\u001b[0;34m)\u001b[0m\u001b[0;34m\u001b[0m\u001b[0;34m\u001b[0m\u001b[0m\n\u001b[0;32m--> 134\u001b[0;31m         X, y = self._validate_data(\n\u001b[0m\u001b[1;32m    135\u001b[0m             \u001b[0mX\u001b[0m\u001b[0;34m,\u001b[0m \u001b[0my\u001b[0m\u001b[0;34m,\u001b[0m \u001b[0mreset\u001b[0m\u001b[0;34m=\u001b[0m\u001b[0;32mTrue\u001b[0m\u001b[0;34m,\u001b[0m \u001b[0maccept_sparse\u001b[0m\u001b[0;34m=\u001b[0m\u001b[0maccept_sparse\u001b[0m\u001b[0;34m\u001b[0m\u001b[0;34m\u001b[0m\u001b[0m\n\u001b[1;32m    136\u001b[0m         )\n",
      "\u001b[0;32m~/anaconda3/envs/learn-env/lib/python3.8/site-packages/sklearn/base.py\u001b[0m in \u001b[0;36m_validate_data\u001b[0;34m(self, X, y, reset, validate_separately, **check_params)\u001b[0m\n\u001b[1;32m    582\u001b[0m                 \u001b[0my\u001b[0m \u001b[0;34m=\u001b[0m \u001b[0mcheck_array\u001b[0m\u001b[0;34m(\u001b[0m\u001b[0my\u001b[0m\u001b[0;34m,\u001b[0m \u001b[0minput_name\u001b[0m\u001b[0;34m=\u001b[0m\u001b[0;34m\"y\"\u001b[0m\u001b[0;34m,\u001b[0m \u001b[0;34m**\u001b[0m\u001b[0mcheck_y_params\u001b[0m\u001b[0;34m)\u001b[0m\u001b[0;34m\u001b[0m\u001b[0;34m\u001b[0m\u001b[0m\n\u001b[1;32m    583\u001b[0m             \u001b[0;32melse\u001b[0m\u001b[0;34m:\u001b[0m\u001b[0;34m\u001b[0m\u001b[0;34m\u001b[0m\u001b[0m\n\u001b[0;32m--> 584\u001b[0;31m                 \u001b[0mX\u001b[0m\u001b[0;34m,\u001b[0m \u001b[0my\u001b[0m \u001b[0;34m=\u001b[0m \u001b[0mcheck_X_y\u001b[0m\u001b[0;34m(\u001b[0m\u001b[0mX\u001b[0m\u001b[0;34m,\u001b[0m \u001b[0my\u001b[0m\u001b[0;34m,\u001b[0m \u001b[0;34m**\u001b[0m\u001b[0mcheck_params\u001b[0m\u001b[0;34m)\u001b[0m\u001b[0;34m\u001b[0m\u001b[0;34m\u001b[0m\u001b[0m\n\u001b[0m\u001b[1;32m    585\u001b[0m             \u001b[0mout\u001b[0m \u001b[0;34m=\u001b[0m \u001b[0mX\u001b[0m\u001b[0;34m,\u001b[0m \u001b[0my\u001b[0m\u001b[0;34m\u001b[0m\u001b[0;34m\u001b[0m\u001b[0m\n\u001b[1;32m    586\u001b[0m \u001b[0;34m\u001b[0m\u001b[0m\n",
      "\u001b[0;32m~/anaconda3/envs/learn-env/lib/python3.8/site-packages/sklearn/utils/validation.py\u001b[0m in \u001b[0;36mcheck_X_y\u001b[0;34m(X, y, accept_sparse, accept_large_sparse, dtype, order, copy, force_all_finite, ensure_2d, allow_nd, multi_output, ensure_min_samples, ensure_min_features, y_numeric, estimator)\u001b[0m\n\u001b[1;32m   1104\u001b[0m         )\n\u001b[1;32m   1105\u001b[0m \u001b[0;34m\u001b[0m\u001b[0m\n\u001b[0;32m-> 1106\u001b[0;31m     X = check_array(\n\u001b[0m\u001b[1;32m   1107\u001b[0m         \u001b[0mX\u001b[0m\u001b[0;34m,\u001b[0m\u001b[0;34m\u001b[0m\u001b[0;34m\u001b[0m\u001b[0m\n\u001b[1;32m   1108\u001b[0m         \u001b[0maccept_sparse\u001b[0m\u001b[0;34m=\u001b[0m\u001b[0maccept_sparse\u001b[0m\u001b[0;34m,\u001b[0m\u001b[0;34m\u001b[0m\u001b[0;34m\u001b[0m\u001b[0m\n",
      "\u001b[0;32m~/anaconda3/envs/learn-env/lib/python3.8/site-packages/sklearn/utils/validation.py\u001b[0m in \u001b[0;36mcheck_array\u001b[0;34m(array, accept_sparse, accept_large_sparse, dtype, order, copy, force_all_finite, ensure_2d, allow_nd, ensure_min_samples, ensure_min_features, estimator, input_name)\u001b[0m\n\u001b[1;32m    900\u001b[0m             \u001b[0;31m# If input is 1D raise error\u001b[0m\u001b[0;34m\u001b[0m\u001b[0;34m\u001b[0m\u001b[0;34m\u001b[0m\u001b[0m\n\u001b[1;32m    901\u001b[0m             \u001b[0;32mif\u001b[0m \u001b[0marray\u001b[0m\u001b[0;34m.\u001b[0m\u001b[0mndim\u001b[0m \u001b[0;34m==\u001b[0m \u001b[0;36m1\u001b[0m\u001b[0;34m:\u001b[0m\u001b[0;34m\u001b[0m\u001b[0;34m\u001b[0m\u001b[0m\n\u001b[0;32m--> 902\u001b[0;31m                 raise ValueError(\n\u001b[0m\u001b[1;32m    903\u001b[0m                     \u001b[0;34m\"Expected 2D array, got 1D array instead:\\narray={}.\\n\"\u001b[0m\u001b[0;34m\u001b[0m\u001b[0;34m\u001b[0m\u001b[0m\n\u001b[1;32m    904\u001b[0m                     \u001b[0;34m\"Reshape your data either using array.reshape(-1, 1) if \"\u001b[0m\u001b[0;34m\u001b[0m\u001b[0;34m\u001b[0m\u001b[0m\n",
      "\u001b[0;31mValueError\u001b[0m: Expected 2D array, got 1D array instead:\narray=['mention android app know battery killer sxsw'\n 'interest rt mention apple open pop shop sxsw link sxsw sxswi popupshop apple'\n 'look like fun session sxsw quot mistake make build nextflix iphone quot link'\n ...\n 'rt mention arduino android flame skull link refrigerator speaks salon k pm mention mention sxsw smartthings'\n 'make soundcloud ambassador sxsw upload music show amp reward rt mention soundcloud android app fresh'\n 'tech apple open pop store austin sxsw link technology'].\nReshape your data either using array.reshape(-1, 1) if your data has a single feature or array.reshape(1, -1) if it contains a single sample."
     ]
    }
   ],
   "source": [
    "# Previous original class distribution\n",
    "print('Original class distribution: \\n')\n",
    "print(y_t.value_counts())\n",
    "smote = SMOTE()\n",
    "# X_train.reshape(-1,1)\n",
    "X_train_resampled, y_train_resampled = smote.fit_resample(X_train, y_train) \n",
    "# Preview synthetic sample class distribution\n",
    "print('-----------------------------------------')\n",
    "print('Synthetic sample class distribution: \\n')\n",
    "print(pd.Series(y_t_resampled).value_counts()) "
   ]
  },
  {
   "cell_type": "code",
   "execution_count": null,
   "metadata": {},
   "outputs": [],
   "source": []
  },
  {
   "cell_type": "code",
   "execution_count": null,
   "metadata": {},
   "outputs": [],
   "source": []
  },
  {
   "cell_type": "code",
   "execution_count": null,
   "metadata": {},
   "outputs": [],
   "source": []
  },
  {
   "cell_type": "markdown",
   "metadata": {},
   "source": [
    "# Conclusion"
   ]
  },
  {
   "cell_type": "code",
   "execution_count": null,
   "metadata": {},
   "outputs": [],
   "source": []
  }
 ],
 "metadata": {
  "kernelspec": {
   "display_name": "Python (learn-env)",
   "language": "python",
   "name": "learn-env"
  },
  "language_info": {
   "codemirror_mode": {
    "name": "ipython",
    "version": 3
   },
   "file_extension": ".py",
   "mimetype": "text/x-python",
   "name": "python",
   "nbconvert_exporter": "python",
   "pygments_lexer": "ipython3",
   "version": "3.8.5"
  }
 },
 "nbformat": 4,
 "nbformat_minor": 4
}
